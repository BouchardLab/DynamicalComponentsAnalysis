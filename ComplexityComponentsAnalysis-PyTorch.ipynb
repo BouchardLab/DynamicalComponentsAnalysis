{
 "cells": [
  {
   "cell_type": "code",
   "execution_count": 1,
   "metadata": {},
   "outputs": [],
   "source": [
    "from imp import reload\n",
    "import cProfile, time\n",
    "\n",
    "import numpy as np\n",
    "import matplotlib.pyplot as plt\n",
    "import scipy.stats\n",
    "import cca_pytorch, cca, gp\n",
    "\n",
    "import torch"
   ]
  },
  {
   "cell_type": "code",
   "execution_count": 6,
   "metadata": {},
   "outputs": [],
   "source": [
    "T = 20\n",
    "feats = 50\n",
    "d = 5\n",
    "K = gp.gen_kernel('squared_exp', temporal_scale=3., spatial_scale=.5)\n",
    "Xt, _, _, _ = gp.embed_gp(1000, feats, d, K, np.eye(feats), T, num_to_concat=100)\n",
    "CovXt = cca.calc_cross_cov_mats_from_data(Xt, 2 * T)\n",
    "V_init = scipy.stats.ortho_group.rvs(feats)[:, :d]"
   ]
  },
  {
   "cell_type": "code",
   "execution_count": 7,
   "metadata": {},
   "outputs": [
    {
     "name": "stdout",
     "output_type": "stream",
     "text": [
      "15.019512414932251\n",
      "tensor(-2.1349, device='cuda:0')\n"
     ]
    }
   ],
   "source": [
    "t = time.time()\n",
    "vp = cca_pytorch.run_cca(CovXt, d, verbose=False, init=V_init, dtype=torch.float32)\n",
    "print(time.time() - t)\n",
    "print(cca_pytorch.build_loss(CovXt, d, dtype=torch.float32)(vp))"
   ]
  },
  {
   "cell_type": "code",
   "execution_count": 8,
   "metadata": {
    "scrolled": true
   },
   "outputs": [
    {
     "name": "stdout",
     "output_type": "stream",
     "text": [
      "<class 'numpy.ndarray'>\n",
      "41.919169664382935\n",
      "-2.134852625006482\n"
     ]
    }
   ],
   "source": [
    "t = time.time()\n",
    "va = cca.run_cca(CovXt, d, verbose=False, init=V_init)\n",
    "print(time.time() - t)\n",
    "print(cca.build_loss(CovXt, d)(va))"
   ]
  },
  {
   "cell_type": "code",
   "execution_count": 5,
   "metadata": {},
   "outputs": [
    {
     "data": {
      "text/plain": [
       "array([-1.42824913, -0.88047061, -0.51274582,  0.35846769,  1.34995789])"
      ]
     },
     "execution_count": 5,
     "metadata": {},
     "output_type": "execute_result"
    }
   ],
   "source": [
    "np.linalg.eigvalsh(va.T.dot(vp))"
   ]
  },
  {
   "cell_type": "code",
   "execution_count": null,
   "metadata": {},
   "outputs": [],
   "source": []
  }
 ],
 "metadata": {
  "kernelspec": {
   "display_name": "Python 3",
   "language": "python",
   "name": "python3"
  },
  "language_info": {
   "codemirror_mode": {
    "name": "ipython",
    "version": 3
   },
   "file_extension": ".py",
   "mimetype": "text/x-python",
   "name": "python",
   "nbconvert_exporter": "python",
   "pygments_lexer": "ipython3",
   "version": "3.6.8"
  }
 },
 "nbformat": 4,
 "nbformat_minor": 2
}
