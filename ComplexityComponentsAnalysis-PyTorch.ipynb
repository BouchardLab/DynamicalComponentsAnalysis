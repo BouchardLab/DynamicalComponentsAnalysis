{
 "cells": [
  {
   "cell_type": "code",
   "execution_count": 1,
   "metadata": {},
   "outputs": [],
   "source": [
    "from imp import reload\n",
    "import cProfile, time\n",
    "\n",
    "import numpy as np\n",
    "import matplotlib.pyplot as plt\n",
    "import scipy.stats\n",
    "import cca_pytorch, cca, gp\n",
    "\n",
    "import torch"
   ]
  },
  {
   "cell_type": "code",
   "execution_count": 8,
   "metadata": {},
   "outputs": [],
   "source": [
    "T = 20\n",
    "feats = 50\n",
    "d = 5\n",
    "K = gp.gen_kernel('squared_exp', temporal_scale=3., spatial_scale=.5)\n",
    "Xt, _, _, _ = gp.embed_gp(100, feats, d, K, np.eye(feats), T, num_to_concat=1000)\n",
    "CovXt = cca.calc_cross_cov_mats_from_data(Xt, 2 * T)\n",
    "V_init = scipy.stats.ortho_group.rvs(feats)[:, :d]"
   ]
  },
  {
   "cell_type": "code",
   "execution_count": 12,
   "metadata": {},
   "outputs": [
    {
     "name": "stdout",
     "output_type": "stream",
     "text": [
      "13.865195274353027\n",
      "tensor(-2.0888)\n"
     ]
    }
   ],
   "source": [
    "t = time.time()\n",
    "vp = cca_pytorch.run_cca(CovXt, d, verbose=False, init=V_init)\n",
    "print(time.time() - t)\n",
    "print(cca_pytorch.build_loss(CovXt, d)(vp))"
   ]
  },
  {
   "cell_type": "code",
   "execution_count": 13,
   "metadata": {
    "scrolled": true
   },
   "outputs": [
    {
     "name": "stdout",
     "output_type": "stream",
     "text": [
      "24.356550693511963\n",
      "-2.0888249702039077\n"
     ]
    }
   ],
   "source": [
    "t = time.time()\n",
    "va = cca.run_cca(CovXt, d, verbose=False, init=V_init)\n",
    "print(time.time() - t)\n",
    "print(cca.build_loss(CovXt, d)(va.ravel()))"
   ]
  },
  {
   "cell_type": "code",
   "execution_count": 17,
   "metadata": {},
   "outputs": [
    {
     "data": {
      "text/plain": [
       "array([-1.27734856, -1.06889401, -0.41679388,  0.50958124,  0.97753522])"
      ]
     },
     "execution_count": 17,
     "metadata": {},
     "output_type": "execute_result"
    }
   ],
   "source": [
    "np.linalg.eigvalsh(va.T.dot(vp))"
   ]
  },
  {
   "cell_type": "code",
   "execution_count": null,
   "metadata": {},
   "outputs": [],
   "source": []
  }
 ],
 "metadata": {
  "kernelspec": {
   "display_name": "Python 3",
   "language": "python",
   "name": "python3"
  },
  "language_info": {
   "codemirror_mode": {
    "name": "ipython",
    "version": 3
   },
   "file_extension": ".py",
   "mimetype": "text/x-python",
   "name": "python",
   "nbconvert_exporter": "python",
   "pygments_lexer": "ipython3",
   "version": "3.6.8"
  }
 },
 "nbformat": 4,
 "nbformat_minor": 2
}
