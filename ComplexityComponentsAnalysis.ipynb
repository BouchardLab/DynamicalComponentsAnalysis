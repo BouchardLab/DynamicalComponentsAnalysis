{
 "cells": [
  {
   "cell_type": "code",
   "execution_count": 343,
   "metadata": {},
   "outputs": [
    {
     "data": {
      "text/plain": [
       "<module 'gp' from '/home/davidclark/Projects/ComplexityComponentsAnalysis/gp.py'>"
      ]
     },
     "execution_count": 343,
     "metadata": {},
     "output_type": "execute_result"
    }
   ],
   "source": [
    "from imp import reload\n",
    "import cProfile\n",
    "\n",
    "import numpy as np\n",
    "import matplotlib.pyplot as plt\n",
    "import scipy.stats\n",
    "import cca\n",
    "import gp\n",
    "\n",
    "reload(cca)\n",
    "reload(gp)"
   ]
  },
  {
   "cell_type": "code",
   "execution_count": 354,
   "metadata": {},
   "outputs": [
    {
     "data": {
      "image/png": "[encoded data removed]",
      "text/plain": [
       "<Figure size 432x288 with 1 Axes>"
      ]
     },
     "metadata": {},
     "output_type": "display_data"
    }
   ],
   "source": [
    "#Make Kernel\n",
    "K = gp.gen_kernel(\"squared_exp\", spatial_scale=0.5, temporal_scale=5.0)\n",
    "\n",
    "#Generate 10,000 time-steps in total\n",
    "T = 500\n",
    "num_to_concat = 20\n",
    "\n",
    "#Dimension of ambient space\n",
    "N = 10\n",
    "\n",
    "#Dimension of ambient space GP embedding\n",
    "d = 3\n",
    "\n",
    "#Noise covariance\n",
    "noise_spectrum = 0.0000000001*np.ones(N) #np.exp(-np.arange(N)/(N/2))\n",
    "noise_V = scipy.stats.ortho_group.rvs(N)\n",
    "noise_cov = np.dot(noise_V, np.dot(np.diag(noise_spectrum), noise_V.T))\n",
    "\n",
    "#Generate data \n",
    "X, E = gp.embed_gp(T, N, d, K, noise_cov, num_to_concat=num_to_concat, return_embedding=True)\n",
    "plt.imshow(X[:100, :].T)\n",
    "plt.show()"
   ]
  },
  {
   "cell_type": "code",
   "execution_count": 355,
   "metadata": {
    "scrolled": true
   },
   "outputs": [
    {
     "name": "stdout",
     "output_type": "stream",
     "text": [
      "dynamics PI = 131.2057 bits\n",
      "12.34442691732699\n",
      "22.29665671125956\n",
      "31.675544402305192\n",
      "31.70234420682912\n",
      "31.73469485690659\n",
      "31.759544344915113\n",
      "31.817037313479926\n",
      "31.86489975502245\n",
      "31.93442014926365\n",
      "31.99588623768996\n"
     ]
    }
   ],
   "source": [
    "T_pi = 5\n",
    "\n",
    "#Get PI of original GP\n",
    "pi_gp = gp.calc_pi_for_gp(T_pi, d, K)\n",
    "print(\"dynamics PI = \" + str(np.round(pi_gp, 4)) + \" bits\")\n",
    "\n",
    "pi_proj_vals = np.zeros(N+1)\n",
    "for opt_dim in range(1, N+1):\n",
    "    V_opt = cca.run_cca(X, T_pi, opt_dim, init=\"random_ortho\", method=\"L-BFGS-B\", verbose=False)\n",
    "    pi_proj = cca. calc_pi(np.dot(X, V_opt), T_pi)\n",
    "    print(pi_proj)\n",
    "    pi_proj_vals[opt_dim] = pi_proj\n",
    "    \n",
    "    \n",
    "    "
   ]
  },
  {
   "cell_type": "code",
   "execution_count": 353,
   "metadata": {},
   "outputs": [
    {
     "data": {
      "image/png": "[encoded data removed]",
      "text/plain": [
       "<Figure size 288x288 with 1 Axes>"
      ]
     },
     "metadata": {},
     "output_type": "display_data"
    }
   ],
   "source": [
    "full_pi = cca.calc_pi(X, T_pi)\n",
    "embedding_pi = cca.calc_pi(np.dot(X, E), T_pi)\n",
    "\n",
    "fig, ax = plt.subplots(1, 1, figsize=(4, 4))\n",
    "\n",
    "ax.plot(np.arange(N+1), pi_proj_vals, c=\"black\")\n",
    "plt.axhline(full_pi, label=\"PI @ full dim.\", c=\"red\")\n",
    "plt.axhline(embedding_pi, label=\"PI @ embedding proj.\", c=\"green\", linestyle=\"--\")\n",
    "plt.axvline(d, label=\"true latent dim.\", c=\"blue\")\n",
    "\n",
    "plt.title(\"PI in CCA subspaces\", fontsize=16)\n",
    "plt.xlabel(\"subspace dimensionality\", fontsize=14)\n",
    "plt.ylabel(\"PI [bits]\", fontsize=14)\n",
    "\n",
    "plt.legend()\n",
    "plt.xlim([0, N*1.1])\n",
    "plt.ylim([0, np.max(pi_proj_vals)*1.1])\n",
    "\n",
    "plt.savefig(\"figs/pi_in_cca_subspaces.pdf\", bbox_inches=\"tight\")"
   ]
  },
  {
   "cell_type": "code",
   "execution_count": 295,
   "metadata": {},
   "outputs": [
    {
     "data": {
      "text/plain": [
       "True"
      ]
     },
     "execution_count": 295,
     "metadata": {},
     "output_type": "execute_result"
    }
   ],
   "source": [
    "type(\"a\") == str"
   ]
  },
  {
   "cell_type": "code",
   "execution_count": null,
   "metadata": {},
   "outputs": [],
   "source": []
  }
 ],
 "metadata": {
  "kernelspec": {
   "display_name": "Python [conda env:neuro3]",
   "language": "python",
   "name": "conda-env-neuro3-py"
  },
  "language_info": {
   "codemirror_mode": {
    "name": "ipython",
    "version": 3
   },
   "file_extension": ".py",
   "mimetype": "text/x-python",
   "name": "python",
   "nbconvert_exporter": "python",
   "pygments_lexer": "ipython3",
   "version": "3.6.5"
  }
 },
 "nbformat": 4,
 "nbformat_minor": 2
}
