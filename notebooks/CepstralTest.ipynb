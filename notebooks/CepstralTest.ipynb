{
 "cells": [
  {
   "cell_type": "code",
   "execution_count": 1,
   "metadata": {},
   "outputs": [],
   "source": [
    "import numpy as np\n",
    "from scipy.fftpack import fft, rfft, fftshift\n",
    "from scipy.signal.windows import hann\n",
    "import matplotlib.pyplot as plt\n",
    "from cca.data_util import load_neuro_data\n",
    "from cca.synth_data import gen_gp_kernel, sample_gp, calc_pi_for_gp\n",
    "from math import floor, ceil"
   ]
  },
  {
   "cell_type": "code",
   "execution_count": 2,
   "metadata": {},
   "outputs": [],
   "source": [
    "def calc_pi_cepstral(x, chunk_size=100):\n",
    "    #Reshape and window the data\n",
    "    x_trunc = x[:len(x) - (len(x) % chunk_size)]\n",
    "    x_reshape = np.reshape(x_trunc, (len(x_trunc)//chunk_size, chunk_size))\n",
    "    x_reshape *= hann(chunk_size)\n",
    "    \n",
    "    #Compute power spectral density\n",
    "    S = np.abs(fft(x_reshape, axis=1))**2\n",
    "    S_avg = fftshift(np.mean(S, axis=0))\n",
    "    \n",
    "    #Compute DFT of autocorrelation function (divide by chunk_size)\n",
    "    f = S_avg / chunk_size\n",
    "    \n",
    "    #Compute {b_k} (divide by chunk_size)\n",
    "    b_k = np.abs(fft( np.log(f) )) / chunk_size\n",
    "    b_k = b_k[:chunk_size//2]\n",
    "    \n",
    "    #Compute PI\n",
    "    pi = 0.5*np.sum( b_k**2 * np.arange(len(b_k)) )\n",
    "    return pi"
   ]
  },
  {
   "cell_type": "code",
   "execution_count": 45,
   "metadata": {},
   "outputs": [
    {
     "name": "stdout",
     "output_type": "stream",
     "text": [
      "tau = 1.0\n",
      "tau = 5.061224489795919\n",
      "tau = 9.122448979591837\n",
      "tau = 13.183673469387756\n",
      "tau = 17.244897959183675\n",
      "tau = 21.306122448979593\n",
      "tau = 25.367346938775512\n",
      "tau = 29.42857142857143\n",
      "tau = 33.48979591836735\n",
      "tau = 37.55102040816327\n",
      "tau = 41.61224489795919\n",
      "tau = 45.673469387755105\n",
      "tau = 49.734693877551024\n",
      "tau = 53.79591836734694\n",
      "tau = 57.85714285714286\n",
      "tau = 61.91836734693878\n",
      "tau = 65.9795918367347\n",
      "tau = 70.04081632653062\n",
      "tau = 74.10204081632654\n",
      "tau = 78.16326530612245\n",
      "tau = 82.22448979591837\n",
      "tau = 86.28571428571429\n",
      "tau = 90.34693877551021\n",
      "tau = 94.40816326530613\n",
      "tau = 98.46938775510205\n",
      "tau = 102.53061224489797\n",
      "tau = 106.59183673469389\n",
      "tau = 110.6530612244898\n",
      "tau = 114.71428571428572\n",
      "tau = 118.77551020408164\n",
      "tau = 122.83673469387756\n",
      "tau = 126.89795918367348\n",
      "tau = 130.9591836734694\n",
      "tau = 135.0204081632653\n",
      "tau = 139.08163265306123\n",
      "tau = 143.14285714285717\n",
      "tau = 147.20408163265307\n",
      "tau = 151.26530612244898\n",
      "tau = 155.3265306122449\n",
      "tau = 159.38775510204084\n",
      "tau = 163.44897959183675\n",
      "tau = 167.51020408163265\n",
      "tau = 171.57142857142858\n",
      "tau = 175.63265306122452\n",
      "tau = 179.69387755102042\n",
      "tau = 183.75510204081633\n",
      "tau = 187.81632653061226\n",
      "tau = 191.8775510204082\n",
      "tau = 195.9387755102041\n",
      "tau = 200.0\n"
     ]
    },
    {
     "data": {
      "image/png": "[encoded data removed]",
      "text/plain": [
       "<Figure size 360x360 with 1 Axes>"
      ]
     },
     "metadata": {
      "needs_background": "light"
     },
     "output_type": "display_data"
    }
   ],
   "source": [
    "T = 200\n",
    "num_to_concat = 500 #5000\n",
    "n = T*num_to_concat\n",
    "sigma = 0.05\n",
    "\n",
    "chunk_size = 200\n",
    "T_pi = 600\n",
    "\n",
    "tau_vals = np.linspace(1.0, 200.0, 50)\n",
    "pi_cepstral_vals, pi_true_vals = [np.zeros_like(tau_vals) for _ in range(2)]\n",
    "for tau_idx in range(len(tau_vals)):\n",
    "    tau = tau_vals[tau_idx]\n",
    "    print(\"tau =\", tau)\n",
    "    K = gen_gp_kernel(\"squared_exp\", temporal_scale=tau, spatial_scale=1, local_noise=sigma)\n",
    "    x = sample_gp(T, 1, K, num_to_concat).flatten()\n",
    "    pi_cepstral_vals[tau_idx] = calc_pi_cepstral(x, chunk_size=chunk_size)\n",
    "    pi_true_vals[tau_idx] = calc_pi_for_gp(T_pi, 1, K)\n",
    "    \n",
    "fig, ax = plt.subplots(1, 1, figsize=(5, 5))\n",
    "all_vals = np.concatenate((pi_true_vals, pi_cepstral_vals))\n",
    "min_val, max_val = np.min(all_vals), np.max(all_vals)\n",
    "val_range = max_val - min_val\n",
    "min_window, max_window = min_val - 0.05*val_range, max_val + 0.05*val_range\n",
    "ax.set_xlim([min_window, max_window])\n",
    "ax.set_ylim([min_window, max_window])\n",
    "t = np.linspace(min_window, max_window, 100)\n",
    "ax.plot(t, t, c=\"darkred\", zorder=0, linestyle=\"-\", linewidth=2)\n",
    "ax.plot(pi_true_vals, pi_cepstral_vals, c=\"black\", linestyle=\"--\", marker=\".\", markersize=17, linewidth=2.5)\n",
    "ax.set_xlabel(\"True PI\", fontsize=16)\n",
    "ax.set_ylabel(\"FFT PI\", fontsize=16)\n",
    "plt.show()"
   ]
  },
  {
   "cell_type": "code",
   "execution_count": 46,
   "metadata": {},
   "outputs": [
    {
     "data": {
      "text/plain": [
       "<matplotlib.lines.Line2D at 0x1c2a740f60>"
      ]
     },
     "execution_count": 46,
     "metadata": {},
     "output_type": "execute_result"
    },
    {
     "data": {
      "image/png": "[encoded data removed]",
      "text/plain": [
       "<Figure size 432x288 with 1 Axes>"
      ]
     },
     "metadata": {
      "needs_background": "light"
     },
     "output_type": "display_data"
    }
   ],
   "source": [
    "err = np.abs(pi_cepstral_vals - pi_true_vals)/pi_true_vals\n",
    "plt.plot(tau_vals, err)\n",
    "plt.ylim([0, 1])\n",
    "plt.axvline(chunk_size)"
   ]
  },
  {
   "cell_type": "code",
   "execution_count": null,
   "metadata": {},
   "outputs": [],
   "source": []
  },
  {
   "cell_type": "code",
   "execution_count": null,
   "metadata": {},
   "outputs": [],
   "source": []
  }
 ],
 "metadata": {
  "kernelspec": {
   "display_name": "Python 3",
   "language": "python",
   "name": "python3"
  },
  "language_info": {
   "codemirror_mode": {
    "name": "ipython",
    "version": 3
   },
   "file_extension": ".py",
   "mimetype": "text/x-python",
   "name": "python",
   "nbconvert_exporter": "python",
   "pygments_lexer": "ipython3",
   "version": "3.7.2"
  }
 },
 "nbformat": 4,
 "nbformat_minor": 2
}
