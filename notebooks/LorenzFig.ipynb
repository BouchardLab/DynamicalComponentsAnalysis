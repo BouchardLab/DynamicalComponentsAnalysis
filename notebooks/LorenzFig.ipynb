{
 "cells": [
  {
   "cell_type": "code",
   "execution_count": 7,
   "metadata": {},
   "outputs": [
    {
     "ename": "SyntaxError",
     "evalue": "invalid syntax (kron_pca.py, line 205)",
     "output_type": "error",
     "traceback": [
      "Traceback \u001b[0;36m(most recent call last)\u001b[0m:\n",
      "  File \u001b[1;32m\"/home/davidclark/anaconda3/envs/neuro3/lib/python3.6/site-packages/IPython/core/interactiveshell.py\"\u001b[0m, line \u001b[1;32m2963\u001b[0m, in \u001b[1;35mrun_code\u001b[0m\n    exec(code_obj, self.user_global_ns, self.user_ns)\n",
      "  File \u001b[1;32m\"<ipython-input-7-72a2296c6607>\"\u001b[0m, line \u001b[1;32m5\u001b[0m, in \u001b[1;35m<module>\u001b[0m\n    from cca.synth_data import gen_lorenz_system\n",
      "  File \u001b[1;32m\"/home/davidclark/Projects/ComplexityComponentsAnalysis/cca/__init__.py\"\u001b[0m, line \u001b[1;32m2\u001b[0m, in \u001b[1;35m<module>\u001b[0m\n    from .cca import *\n",
      "  File \u001b[1;32m\"/home/davidclark/Projects/ComplexityComponentsAnalysis/cca/cca.py\"\u001b[0m, line \u001b[1;32m6\u001b[0m, in \u001b[1;35m<module>\u001b[0m\n    from .cov_util import (calc_cross_cov_mats_from_data,\n",
      "\u001b[0;36m  File \u001b[0;32m\"/home/davidclark/Projects/ComplexityComponentsAnalysis/cca/cov_util.py\"\u001b[0;36m, line \u001b[0;32m5\u001b[0;36m, in \u001b[0;35m<module>\u001b[0;36m\u001b[0m\n\u001b[0;31m    from cca.kron_pca import (cv_toeplitz, form_lag_matrix,\u001b[0m\n",
      "\u001b[0;36m  File \u001b[0;32m\"/home/davidclark/Projects/ComplexityComponentsAnalysis/cca/kron_pca.py\"\u001b[0;36m, line \u001b[0;32m205\u001b[0m\n\u001b[0;31m    def _toeplitz_inner_loops(tt_NN_cov, r, sigma, alpha)\u001b[0m\n\u001b[0m                                                         ^\u001b[0m\n\u001b[0;31mSyntaxError\u001b[0m\u001b[0;31m:\u001b[0m invalid syntax\n"
     ]
    }
   ],
   "source": [
    "import numpy as np\n",
    "import scipy\n",
    "import scipy.stats\n",
    "\n",
    "from cca.synth_data import gen_lorenz_system"
   ]
  },
  {
   "cell_type": "code",
   "execution_count": 8,
   "metadata": {},
   "outputs": [],
   "source": [
    "def gen_noise_cov(N, D, var, noise_V=None):\n",
    "    noise_spectrum = var*np.exp(-2*np.arange(N)/D)\n",
    "    if noise_V is None:\n",
    "        noise_V = scipy.stats.ortho_group.rvs(N)\n",
    "    noise_cov = np.dot(noise_V, np.dot(np.diag(noise_spectrum), noise_V.T))\n",
    "    return noise_cov"
   ]
  },
  {
   "cell_type": "code",
   "execution_count": null,
   "metadata": {},
   "outputs": [],
   "source": [
    "N = 20\n",
    "num_samples = 1000\n",
    "\n",
    "noise_dim = 3\n",
    "noise_var = 10\n",
    "noise_cov = gen_noise_cov(N, noise_dim, noise_var)\n",
    "\n",
    "integration_dt = 0.005\n",
    "data_dt = 0.05\n",
    "X_lorenz = gen_lorenz_system(num_samples*data_dt, integration_dt, data_dt)\n"
   ]
  }
 ],
 "metadata": {
  "kernelspec": {
   "display_name": "Python [conda env:neuro3]",
   "language": "python",
   "name": "conda-env-neuro3-py"
  },
  "language_info": {
   "codemirror_mode": {
    "name": "ipython",
    "version": 3
   },
   "file_extension": ".py",
   "mimetype": "text/x-python",
   "name": "python",
   "nbconvert_exporter": "python",
   "pygments_lexer": "ipython3",
   "version": "3.6.8"
  }
 },
 "nbformat": 4,
 "nbformat_minor": 2
}
