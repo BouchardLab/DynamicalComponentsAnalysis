{
 "cells": [
  {
   "cell_type": "code",
   "execution_count": 55,
   "metadata": {},
   "outputs": [],
   "source": [
    "import numpy as np\n",
    "import h5py\n",
    "import matplotlib.pyplot as plt\n",
    "\n",
    "RESULTS_FILENAME = \"good_results.hdf5\""
   ]
  },
  {
   "cell_type": "code",
   "execution_count": 60,
   "metadata": {},
   "outputs": [
    {
     "data": {
      "text/plain": [
       "<matplotlib.image.AxesImage at 0x7f6a77fdb320>"
      ]
     },
     "execution_count": 60,
     "metadata": {},
     "output_type": "execute_result"
    },
    {
     "data": {
      "image/png": "[encoded data removed]",
      "text/plain": [
       "<Figure size 432x288 with 1 Axes>"
      ]
     },
     "metadata": {},
     "output_type": "display_data"
    }
   ],
   "source": [
    "f = h5py.File(RESULTS_FILENAME, \"r\")\n",
    "plt.imshow(np.mean(f[\"weather\"][\"results\"], axis=(0,1)))"
   ]
  },
  {
   "cell_type": "code",
   "execution_count": 62,
   "metadata": {},
   "outputs": [],
   "source": [
    "default_colors = plt.rcParams['axes.prop_cycle'].by_key()['color']\n",
    "\n",
    "def decoding_fix_axes(fig_width=10, fig_height=5, hpad=0.1, wpad_edge=0.1, wpad_mid=0.1):\n",
    "    fig = plt.figure(figsize=(fig_width, fig_height))\n",
    "    sq_width = (1 - 2*wpad_edge - 2*wpad_mid)/3\n",
    "    sq_height = sq_width * fig_width/fig_height\n",
    "    ax1 = fig.add_axes((wpad_edge, hpad, sq_width, sq_height))\n",
    "    ax2 = fig.add_axes((wpad_edge + sq_width + wpad_mid, hpad, sq_width, sq_height))\n",
    "    ax3 = fig.add_axes((wpad_edge + 2*sq_width + 2*wpad_mid, hpad, sq_width, sq_height))\n",
    "    axes = [ax1, ax2, ax3]\n",
    "    return axes\n",
    "\n",
    "def plot_delta_r2(ax, results, dset_idx=0, T_idx=0, leftmost_ax=False):\n",
    "    num_cv_folds = f.attrs[\"num_cv_folds\"]\n",
    "    dset_names = f.attrs[\"dset_names\"]\n",
    "    dim_vals = f.attrs[\"dim_vals\"]\n",
    "    offset_vals = f.attrs[\"offset_vals\"]\n",
    "    n_dim = len(dim_vals)\n",
    "    n_offsets = len(offset_vals)\n",
    "    sem_factor = np.sqrt(1/num_cv_folds + 1/(num_cv_folds-1))\n",
    "    \n",
    "    pca_vals = results[dset_idx, :, :, :, 0]\n",
    "    dca_vals = results[dset_idx, :, :, :, T_idx+1]\n",
    "    diffs_mean = (dca_vals - pca_vals).mean(axis=0)\n",
    "    diffs_sem = (dca_vals - pca_vals).std(axis=0)*sem_factor\n",
    "    \n",
    "    #diffs_mean /= pca_vals.mean(axis=0)\n",
    "    #diffs_sem /= pca_vals.mean(axis=0)\n",
    "    \n",
    "    #(0, 1) = (dim, offset)\n",
    "\n",
    "    #scatter and make errorbars\n",
    "    x_vals = np.concatenate([np.arange(n_dim)+(n_dim + 3)*i for i in range(len(offset_vals))])\n",
    "    colors = [default_colors[i % n_dim] for i in range(len(x_vals))]\n",
    "    ax.scatter(x_vals, diffs_mean.T.flatten(), c=colors, s=20)\n",
    "    ax.errorbar(x_vals, y=diffs_mean.T.flatten(), yerr=diffs_sem.T.flatten(), linestyle=\"None\", c=colors)\n",
    "    ax.axhline(0, c=\"black\", linestyle=\"--\")\n",
    "\n",
    "    #set x-ticks\n",
    "    x_ticks = [n_dim/2 + (n_dim + 3)*i for i in range(len(offset_vals))]\n",
    "    x_tick_labels = [\"$\\Delta t$=\" + str(offset_vals[i]) for i in range(n_offsets)]\n",
    "    ax.set_xticks(x_ticks)\n",
    "    ax.set_xticklabels(x_tick_labels, fontsize=16)\n",
    "    \n",
    "    #set xlabel/title\n",
    "    ax.set_xlabel(\"time lag [bins]\", fontsize=16)\n",
    "    names = {\"hc\": \"Hippocampus\", \"m1\": \"M1/PMd\", \"s1\": \"S1\"}\n",
    "    ax.set_title(names[dset_names[dset_idx]], fontsize=18)\n",
    "    \n",
    "    if leftmost_ax:\n",
    "        #set ylabel\n",
    "        ax.set_ylabel(\"$\\Delta R^2$ (DCA - PCA)\", fontsize=16)\n",
    "        \n",
    "        #make legend\n",
    "        for i in range(n_dim):\n",
    "            ax.scatter(x_vals[i], diffs_mean.T.flatten()[i], c=colors[i], label=\"$d$=\"+str(dim_vals[i]), s=20)\n",
    "        ax.legend(frameon=True, fontsize=10, loc=\"lower right\", ncol=2)\n",
    "        \n",
    "        \n"
   ]
  }
 ],
 "metadata": {
  "kernelspec": {
   "display_name": "Python [conda env:neuro3]",
   "language": "python",
   "name": "conda-env-neuro3-py"
  },
  "language_info": {
   "codemirror_mode": {
    "name": "ipython",
    "version": 3
   },
   "file_extension": ".py",
   "mimetype": "text/x-python",
   "name": "python",
   "nbconvert_exporter": "python",
   "pygments_lexer": "ipython3",
   "version": "3.6.8"
  }
 },
 "nbformat": 4,
 "nbformat_minor": 2
}
