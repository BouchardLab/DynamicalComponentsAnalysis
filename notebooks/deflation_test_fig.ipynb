{
 "cells": [
  {
   "cell_type": "code",
   "execution_count": 1,
   "metadata": {},
   "outputs": [],
   "source": [
    "import numpy as np\n",
    "import matplotlib.pyplot as plt\n",
    "import h5py\n",
    "from scipy.ndimage import convolve1d\n",
    "import scipy\n",
    "import matplotlib.patches as patches\n",
    "\n",
    "\n",
    "from cca.data_util import moving_center, load_sabes_data, calc_autocorr_fns\n",
    "from cca.cov_util import calc_cross_cov_mats_from_data, calc_pi_from_cross_cov_mats\n",
    "from cca import ComplexityComponentsAnalysis\n",
    "from cca.cca import DynamicalComponentsAnalysisFFT"
   ]
  },
  {
   "cell_type": "code",
   "execution_count": 2,
   "metadata": {},
   "outputs": [],
   "source": [
    "NEURAL_DIR = \"/home/davidclark/Projects/ComplexityComponentsAnalysis/data/sabes/\"\n",
    "#NEURAL_DIR = \"/Users/davidclark/Projects/ComplexityComponentsAnalysis/data/sabes/\"\n",
    "SESSION = \"indy_20160627_01.mat\" \n",
    "NEURAL_FILENAME = NEURAL_DIR + SESSION\n",
    "BIN_WIDTH_S = .100\n",
    "MIN_SPIKE_COUNT = 5000\n",
    "MOVING_WINDOW = 600 #1 min\n",
    "\n",
    "def load_neural_data():\n",
    "    results = load_sabes_data(NEURAL_FILENAME, bin_width_s=BIN_WIDTH_S)\n",
    "    spikes = results[\"M1\"]\n",
    "    spikes = spikes[:, spikes.sum(axis=0) > MIN_SPIKE_COUNT]\n",
    "    sqrt_spikes = np.sqrt(spikes)\n",
    "    sqrt_spikes_ctd = moving_center(sqrt_spikes, n=MOVING_WINDOW)\n",
    "    cursor = results[\"cursor\"]\n",
    "    return sqrt_spikes_ctd, cursor"
   ]
  },
  {
   "cell_type": "code",
   "execution_count": 3,
   "metadata": {},
   "outputs": [],
   "source": [
    "def dca_deflation(cross_cov_mats, n_proj, n_init=1):\n",
    "    N = cross_cov_mats.shape[1]\n",
    "    P = np.eye(N) #orthogonal projection matrix onto residual subspace\n",
    "    V = None  #orthonormal basis of DCA projections\n",
    "    opt = ComplexityComponentsAnalysis(init=\"random\")\n",
    "    for i in range(n_proj):\n",
    "        cross_cov_mats_proj = np.array([P.dot(C).dot(P.T) for C in cross_cov_mats])\n",
    "        if i > 0:\n",
    "            #add isotropic white noise to subtracted-out subspace\n",
    "            cross_cov_mats_proj[0] += 1e2 * np.dot(V, V.T)\n",
    "        opt.cross_covs = cross_cov_mats_proj\n",
    "        opt.fit_projection(d=1, n_init=n_init)\n",
    "        u = opt.coef_\n",
    "        if i == 0:\n",
    "            V = u\n",
    "        else:\n",
    "            u_proj = np.dot(P, u)\n",
    "            u_proj /= np.sqrt(np.sum(u_proj**2))\n",
    "            V = np.concatenate((V, u_proj), axis=1)\n",
    "        P = np.eye(N) - np.dot(V, V.T)\n",
    "    return V\n",
    "\n",
    "def dca_fft_deflation(X, T_pi, n_proj, n_init=1):\n",
    "    N = X.shape[1]\n",
    "    P = np.eye(N) #orthogonal projection matrix onto residual subspace\n",
    "    V = None  #orthonormal basis of DCA projections\n",
    "    opt = DynamicalComponentsAnalysisFFT(init=\"random\", verbose=False)\n",
    "    opt.T = 2*T_pi\n",
    "    for i in range(n_proj):\n",
    "        X_proj = np.dot(X, P)\n",
    "        if i > 0:\n",
    "            #add isotropic white noise to subtracted-out subspace\n",
    "            noise = np.random.normal(0, 1e2, (len(X), i))\n",
    "            embedded_noise = np.dot(noise, V.T)\n",
    "            X_proj += embedded_noise\n",
    "        opt.fit(X_proj, d=1, n_init=n_init)\n",
    "        u = opt.coef_\n",
    "        if i == 0:\n",
    "            V = u\n",
    "        else:\n",
    "            u_proj = np.dot(P, u)\n",
    "            u_proj /= np.sqrt(np.sum(u_proj**2))\n",
    "            V = np.concatenate((V, u_proj), axis=1)\n",
    "        P = np.eye(N) - np.dot(V, V.T)\n",
    "    return V\n",
    "\n",
    "def dca_full(cross_cov_mats, n_proj, n_init=1):\n",
    "    opt = ComplexityComponentsAnalysis(init=\"random\")\n",
    "    opt.cross_covs = cross_cov_mats\n",
    "    V_all = []\n",
    "    for i in range(n_proj):\n",
    "        opt.fit_projection(d=i+1, n_init=n_init)\n",
    "        V = opt.coef_\n",
    "        V_all.append(V)\n",
    "    return V_all\n",
    "\n",
    "def calc_pi_vs_dim(cross_cov_mats, V=None, V_all=None):\n",
    "    if V_all is None:\n",
    "        V_all = [V[:, :i+1] for i in range(V.shape[1])]\n",
    "    pi_vals = np.zeros(len(V_all))\n",
    "    for i in range(len(V_all)):\n",
    "        pi_vals[i] = calc_pi_from_cross_cov_mats(cross_cov_mats, proj=V_all[i])\n",
    "    return pi_vals"
   ]
  },
  {
   "cell_type": "code",
   "execution_count": 4,
   "metadata": {},
   "outputs": [],
   "source": [
    "T_pi = 10\n",
    "X, Y = load_neural_data()\n",
    "cross_cov_mats = calc_cross_cov_mats_from_data(X, T=2*T_pi)"
   ]
  },
  {
   "cell_type": "code",
   "execution_count": 5,
   "metadata": {},
   "outputs": [
    {
     "name": "stdout",
     "output_type": "stream",
     "text": [
      "Done\n",
      "Done\n"
     ]
    }
   ],
   "source": [
    "n_proj = 5\n",
    "n_init = 5\n",
    "\n",
    "V_deflate = dca_deflation(cross_cov_mats, n_proj=n_proj, n_init=n_init)\n",
    "print(\"Done\")\n",
    "\n",
    "V_deflate_fft = dca_fft_deflation(X, T_pi=T_pi, n_proj=n_proj, n_init=n_init)\n",
    "print(\"Done\")\n",
    "\n",
    "#V_all = dca_full(cross_cov_mats, n_proj=n_proj, n_init=n_init)\n",
    "#print(\"Done\")\n"
   ]
  },
  {
   "cell_type": "code",
   "execution_count": 6,
   "metadata": {},
   "outputs": [
    {
     "data": {
      "text/plain": [
       "<matplotlib.legend.Legend at 0x7f2bbeac94e0>"
      ]
     },
     "execution_count": 6,
     "metadata": {},
     "output_type": "execute_result"
    },
    {
     "data": {
      "image/png": "[encoded data removed]",
      "text/plain": [
       "<Figure size 432x288 with 1 Axes>"
      ]
     },
     "metadata": {},
     "output_type": "display_data"
    }
   ],
   "source": [
    "pi_deflate = calc_pi_vs_dim(cross_cov_mats, V=V_deflate)\n",
    "pi_deflate_fft = calc_pi_vs_dim(cross_cov_mats, V=V_deflate_fft)\n",
    "#pi_regular = calc_pi_vs_dim(cross_cov_mats, V_all=V_all)\n",
    "\n",
    "plt.plot(pi_deflate, label=\"deflation\", linewidth=5, c=\"gray\")\n",
    "plt.plot(pi_deflate_fft, label=\"deflation FFT\", c=\"red\")\n",
    "#plt.plot(pi_regular, label=\"regular\")\n",
    "plt.legend()"
   ]
  },
  {
   "cell_type": "code",
   "execution_count": 169,
   "metadata": {},
   "outputs": [],
   "source": [
    "def calc_pi_vs_dim(cross_cov_mats, V):\n",
    "    pi_vals = np.zeros(V.shape[1])\n",
    "    for i in range(V.shape[1]):\n",
    "        calc_pi_from_cross_cov_mats(cross_cov_mats, proj=V[:i+1])\n",
    "    return pi_vals\n",
    "    "
   ]
  },
  {
   "cell_type": "code",
   "execution_count": 22,
   "metadata": {},
   "outputs": [
    {
     "data": {
      "text/plain": [
       "'2.2.2'"
      ]
     },
     "execution_count": 22,
     "metadata": {},
     "output_type": "execute_result"
    }
   ],
   "source": [
    "import matplotlib\n",
    "matplotlib.__version__"
   ]
  },
  {
   "cell_type": "code",
   "execution_count": null,
   "metadata": {},
   "outputs": [],
   "source": []
  }
 ],
 "metadata": {
  "kernelspec": {
   "display_name": "Python [conda env:neuro3]",
   "language": "python",
   "name": "conda-env-neuro3-py"
  },
  "language_info": {
   "codemirror_mode": {
    "name": "ipython",
    "version": 3
   },
   "file_extension": ".py",
   "mimetype": "text/x-python",
   "name": "python",
   "nbconvert_exporter": "python",
   "pygments_lexer": "ipython3",
   "version": "3.6.8"
  }
 },
 "nbformat": 4,
 "nbformat_minor": 2
}
