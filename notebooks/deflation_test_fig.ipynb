{
 "cells": [
  {
   "cell_type": "code",
   "execution_count": 5,
   "metadata": {},
   "outputs": [],
   "source": [
    "import numpy as np\n",
    "import matplotlib.pyplot as plt\n",
    "import h5py\n",
    "import scipy\n",
    "import os\n",
    "\n",
    "from cca.data_util import load_sabes_data, moving_center\n",
    "from cca.cov_util import calc_cross_cov_mats_from_data, calc_pi_from_cross_cov_mats\n",
    "from cca import ComplexityComponentsAnalysis\n",
    "from cca.cca import DynamicalComponentsAnalysisFFT"
   ]
  },
  {
   "cell_type": "code",
   "execution_count": 6,
   "metadata": {},
   "outputs": [],
   "source": [
    "NEURAL_DIR = os.path.expanduser(\"~\") + \"/Projects/ComplexityComponentsAnalysis/data/sabes/\"\n",
    "SESSION = \"indy_20160627_01.mat\" \n",
    "NEURAL_FILENAME = NEURAL_DIR + SESSION\n",
    "BIN_WIDTH_S = .100\n",
    "MIN_SPIKE_COUNT = 5000\n",
    "MOVING_WINDOW = 600 #1 min\n",
    "\n",
    "def load_neural_data():\n",
    "    results = load_sabes_data(NEURAL_FILENAME, bin_width_s=BIN_WIDTH_S)\n",
    "    spikes = results[\"M1\"]\n",
    "    spikes = spikes[:, spikes.sum(axis=0) > MIN_SPIKE_COUNT]\n",
    "    sqrt_spikes = np.sqrt(spikes)\n",
    "    sqrt_spikes_ctd = moving_center(sqrt_spikes, n=MOVING_WINDOW)\n",
    "    cursor = results[\"cursor\"]\n",
    "    return sqrt_spikes_ctd, cursor"
   ]
  },
  {
   "cell_type": "code",
   "execution_count": 24,
   "metadata": {},
   "outputs": [],
   "source": [
    "def dca_deflation(cross_cov_mats, n_proj, n_init=1):\n",
    "    N = cross_cov_mats.shape[1]\n",
    "    F = np.eye(N)\n",
    "    cov_proj = np.copy(cross_cov_mats)\n",
    "    basis = np.zeros((N, n_proj))\n",
    "    opt = ComplexityComponentsAnalysis()\n",
    "    for i in range(n_proj):\n",
    "        #run DCA\n",
    "        opt.cross_covs = cov_proj\n",
    "        opt.fit_projection(d=1, n_init=n_init)\n",
    "        v = opt.coef_.flatten()\n",
    "        #get full-dim v\n",
    "        v_full = np.dot(F, v)\n",
    "        basis[:, i] = v_full\n",
    "        #update U, F, cov_proj\n",
    "        U = scipy.linalg.orth(np.eye(N - i) - np.outer(v, v))\n",
    "        F = np.dot(F, U)\n",
    "        cov_proj = np.array([U.T.dot(C).dot(U) for C in cov_proj])\n",
    "    return basis\n",
    "\n",
    "def dca_fft_deflation(X, T, n_proj, n_init=1):\n",
    "    N = cross_cov_mats.shape[1]\n",
    "    F = np.eye(N)\n",
    "    X_proj = np.copy(X)\n",
    "    basis = np.zeros((N, n_proj))\n",
    "    opt = DynamicalComponentsAnalysisFFT(T=T)\n",
    "    for i in range(n_proj):\n",
    "        #run DCA\n",
    "        opt.fit(X_proj, d=1, n_init=n_init)\n",
    "        v = opt.coef_.flatten()\n",
    "        #get full-dim v\n",
    "        v_full = np.dot(F, v)\n",
    "        basis[:, i] = v_full\n",
    "        #update U, F, X\n",
    "        U = scipy.linalg.orth(np.eye(N - i) - np.outer(v, v))\n",
    "        F = np.dot(F, U)\n",
    "        X_proj = np.dot(X_proj, U)\n",
    "    return basis\n",
    "        \n",
    "def dca_full(cross_cov_mats, n_proj, n_init=1):\n",
    "    opt = ComplexityComponentsAnalysis()\n",
    "    opt.cross_covs = cross_cov_mats\n",
    "    V_seq = []\n",
    "    for i in range(n_proj):\n",
    "        opt.fit_projection(d=i+1, n_init=n_init)\n",
    "        V = opt.coef_\n",
    "        V_seq.append(V)\n",
    "    return V_seq\n",
    "\n",
    "def calc_pi_vs_dim(cross_cov_mats, V=None, V_seq=None):\n",
    "    if V_seq is None:\n",
    "        V_seq = [V[:, :i+1] for i in range(V.shape[1])]\n",
    "    pi_vals = np.zeros(len(V_seq))\n",
    "    for i in range(len(V_seq)):\n",
    "        V = V_seq[i]\n",
    "        pi_vals[i] = calc_pi_from_cross_cov_mats(cross_cov_mats, proj=V)\n",
    "    return pi_vals"
   ]
  },
  {
   "cell_type": "code",
   "execution_count": 26,
   "metadata": {},
   "outputs": [],
   "source": [
    "#Run analysis for 3 methods(deflation, FFT+deflation, regular DCA)\n",
    "\n",
    "T_pi = 5\n",
    "n_proj = 20\n",
    "n_init = 20\n",
    "\n",
    "X, Y = load_neural_data()\n",
    "cross_cov_mats = calc_cross_cov_mats_from_data(X, T=2*T_pi)\n",
    "\n",
    "V_def = dca_deflation(cross_cov_mats, n_proj=n_proj, n_init=n_init)\n",
    "V_fft = dca_fft_deflation(X, T=2*T_pi, n_proj=n_proj, n_init=n_init)\n",
    "V_seq = dca_full(cross_cov_mats, n_proj=n_proj, n_init=n_init)\n",
    "\n",
    "pi_def = calc_pi_vs_dim(cross_cov_mats, V=V_def)\n",
    "pi_fft = calc_pi_vs_dim(cross_cov_mats, V=V_fft)\n",
    "pi_regular = calc_pi_vs_dim(cross_cov_mats, V_seq=V_seq)\n",
    "\n",
    "np.savez(\"cached_fig_data/def_comp.npz\", pi_def=pi_def, pi_fft=pi_fft, pi_regular=pi_regular)"
   ]
  },
  {
   "cell_type": "code",
   "execution_count": 27,
   "metadata": {},
   "outputs": [
    {
     "data": {
      "image/png": "[encoded data removed]",
      "text/plain": [
       "<Figure size 432x288 with 1 Axes>"
      ]
     },
     "metadata": {},
     "output_type": "display_data"
    }
   ],
   "source": [
    "plt.plot(pi_def, label=\"deflation DCA\")\n",
    "plt.plot(pi_fft, label=\"FFT DCA\")\n",
    "plt.plot(pi_regular, label=\"DCA\")\n",
    "plt.legend()\n",
    "plt.show()"
   ]
  },
  {
   "cell_type": "code",
   "execution_count": null,
   "metadata": {},
   "outputs": [],
   "source": []
  }
 ],
 "metadata": {
  "kernelspec": {
   "display_name": "Python [conda env:neuro3]",
   "language": "python",
   "name": "conda-env-neuro3-py"
  },
  "language_info": {
   "codemirror_mode": {
    "name": "ipython",
    "version": 3
   },
   "file_extension": ".py",
   "mimetype": "text/x-python",
   "name": "python",
   "nbconvert_exporter": "python",
   "pygments_lexer": "ipython3",
   "version": "3.6.8"
  }
 },
 "nbformat": 4,
 "nbformat_minor": 2
}
