{
 "cells": [
  {
   "cell_type": "code",
   "execution_count": 13,
   "metadata": {},
   "outputs": [],
   "source": [
    "import numpy as np\n",
    "import matplotlib.pyplot as plt\n",
    "import h5py\n",
    "from scipy.ndimage import convolve1d\n",
    "\n",
    "from cca.data_util import moving_center, load_sabes_data, calc_autocorr_fns\n",
    "from cca.cov_util import calc_cross_cov_mats_from_data\n",
    "from cca import ComplexityComponentsAnalysis"
   ]
  },
  {
   "cell_type": "code",
   "execution_count": 2,
   "metadata": {},
   "outputs": [],
   "source": [
    "filename = \"/Users/davidclark/Projects/ComplexityComponentsAnalysis/data/sabes/indy_20160627_01.mat\"\n",
    "results = load_sabes_data(filename, bin_width_s=0.100)\n",
    "spikes = results[\"M1\"]\n",
    "spikes = spikes[:, spikes.sum(axis=0) > 5000]\n",
    "sqrt_spikes = np.sqrt(spikes)\n",
    "sqrt_spikes_ctd = moving_center(sqrt_spikes, n=600)\n",
    "cursor = results[\"cursor\"]\n",
    "\n"
   ]
  },
  {
   "cell_type": "code",
   "execution_count": 27,
   "metadata": {},
   "outputs": [],
   "source": [
    "#TODO: compare PI vs dim for reg, reg+deflat., FFT+deflat\n",
    "\n",
    "opt = ComplexityComponentsAnalysis(init=\"random\")\n",
    "cross_cov_mats = calc_cross_cov_mats_from_data(sqrt_spikes_ctd, T=40)\n",
    "\n",
    "opt.cross_covs = cross_cov_mats[:2]\n",
    "opt.fit_projection(d=1, n_init=10)\n",
    "V1 = opt.coef_\n",
    "x1 = np.dot(sqrt_spikes_ctd, V1)\n",
    "\n",
    "opt.cross_covs = cross_cov_mats[:40]\n",
    "opt.fit_projection(d=1, n_init=10)\n",
    "V2 = opt.coef_\n",
    "x2 = np.dot(sqrt_spikes_ctd, V2)"
   ]
  },
  {
   "cell_type": "code",
   "execution_count": 37,
   "metadata": {},
   "outputs": [
    {
     "data": {
      "text/plain": [
       "[<matplotlib.lines.Line2D at 0x1c37ee7e48>]"
      ]
     },
     "execution_count": 37,
     "metadata": {},
     "output_type": "execute_result"
    },
    {
     "data": {
      "image/png": "[encoded data removed]",
      "text/plain": [
       "<Figure size 432x288 with 1 Axes>"
      ]
     },
     "metadata": {
      "needs_background": "light"
     },
     "output_type": "display_data"
    }
   ],
   "source": [
    "autocorr_fn_1 = calc_autocorr_fns(x1, T=10).flatten()\n",
    "autocorr_fn_2 = calc_autocorr_fns(x2, T=10).flatten()\n",
    "\n",
    "autocorr_fn_1 /= autocorr_fn_1[0]\n",
    "autocorr_fn_2 /= autocorr_fn_2[0]\n",
    "\n",
    "plt.plot(autocorr_fn_1)\n",
    "plt.plot(autocorr_fn_2)"
   ]
  },
  {
   "cell_type": "code",
   "execution_count": null,
   "metadata": {},
   "outputs": [],
   "source": []
  }
 ],
 "metadata": {
  "kernelspec": {
   "display_name": "Python 3",
   "language": "python",
   "name": "python3"
  },
  "language_info": {
   "codemirror_mode": {
    "name": "ipython",
    "version": 3
   },
   "file_extension": ".py",
   "mimetype": "text/x-python",
   "name": "python",
   "nbconvert_exporter": "python",
   "pygments_lexer": "ipython3",
   "version": "3.7.2"
  }
 },
 "nbformat": 4,
 "nbformat_minor": 2
}
