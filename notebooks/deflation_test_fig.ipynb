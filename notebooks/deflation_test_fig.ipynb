{
 "cells": [
  {
   "cell_type": "code",
   "execution_count": 1,
   "metadata": {},
   "outputs": [],
   "source": [
    "import numpy as np\n",
    "import matplotlib.pyplot as plt\n",
    "import h5py\n",
    "from scipy.ndimage import convolve1d\n",
    "import scipy\n",
    "import matplotlib.patches as patches\n",
    "\n",
    "\n",
    "from cca.data_util import moving_center, load_sabes_data, calc_autocorr_fns\n",
    "from cca.cov_util import calc_cross_cov_mats_from_data, calc_pi_from_cross_cov_mats\n",
    "from cca import ComplexityComponentsAnalysis\n",
    "from cca.cca import DynamicalComponentsAnalysisFFT"
   ]
  },
  {
   "cell_type": "code",
   "execution_count": 2,
   "metadata": {},
   "outputs": [],
   "source": [
    "#NEURAL_DIR = \"/home/davidclark/Projects/ComplexityComponentsAnalysis/data/sabes/\"\n",
    "NEURAL_DIR = \"/Users/davidclark/Projects/ComplexityComponentsAnalysis/data/sabes/\"\n",
    "SESSION = \"indy_20160627_01.mat\" \n",
    "NEURAL_FILENAME = NEURAL_DIR + SESSION\n",
    "BIN_WIDTH_S = .100\n",
    "MIN_SPIKE_COUNT = 5000\n",
    "MOVING_WINDOW = 600 #1 min\n",
    "\n",
    "def load_neural_data():\n",
    "    results = load_sabes_data(NEURAL_FILENAME, bin_width_s=BIN_WIDTH_S)\n",
    "    spikes = results[\"M1\"]\n",
    "    spikes = spikes[:, spikes.sum(axis=0) > MIN_SPIKE_COUNT]\n",
    "    sqrt_spikes = np.sqrt(spikes)\n",
    "    sqrt_spikes_ctd = moving_center(sqrt_spikes, n=MOVING_WINDOW)\n",
    "    cursor = results[\"cursor\"]\n",
    "    return sqrt_spikes_ctd, cursor"
   ]
  },
  {
   "cell_type": "code",
   "execution_count": 72,
   "metadata": {},
   "outputs": [],
   "source": [
    "def dca_deflation(cross_cov_mats, n_proj, n_init=1):\n",
    "    N = cross_cov_mats.shape[1]\n",
    "    P = np.eye(N) #orthogonal projection matrix onto residual subspace\n",
    "    V = None  #orthonormal basis of DCA projections\n",
    "    opt = ComplexityComponentsAnalysis(init=\"random\")\n",
    "    for i in range(n_proj):\n",
    "        print(i)\n",
    "        cross_cov_mats_proj = np.array([P.dot(C).dot(P.T) for C in cross_cov_mats])\n",
    "        if i > 0:\n",
    "            #add isotropic white noise to subtracted-out subspace\n",
    "            cross_cov_mats_proj[0] += 1e2 * np.dot(V, V.T)\n",
    "        opt.cross_covs = cross_cov_mats_proj\n",
    "        opt.fit_projection(d=1, n_init=n_init)\n",
    "        u = opt.coef_\n",
    "        if i == 0:\n",
    "            V = u\n",
    "        else:\n",
    "            u_proj = np.dot(P, u)\n",
    "            u_proj /= np.sqrt(np.sum(u_proj**2))\n",
    "            V = np.concatenate((V, u_proj), axis=1)\n",
    "        P = np.eye(N) - np.dot(V, V.T)\n",
    "    return V\n",
    "\n",
    "def dca_deflation_smart(cross_cov_mats, n_proj, n_init=1):\n",
    "    N = cross_cov_mats.shape[1]\n",
    "    F = np.eye(N)\n",
    "    cov_proj = np.copy(cross_cov_mats)\n",
    "    basis = np.zeros((N, n_proj))\n",
    "    opt = ComplexityComponentsAnalysis()\n",
    "    for i in range(n_proj):\n",
    "        print(i)\n",
    "        #run DCA\n",
    "        opt.cross_covs = cov_proj\n",
    "        opt.fit_projection(d=1, n_init=n_init)\n",
    "        v = opt.coef_.flatten()\n",
    "        #get full-dim v\n",
    "        v_full = np.dot(F, v)\n",
    "        basis[:, i] = v_full\n",
    "        #update U, F, cov_proj\n",
    "        U = scipy.linalg.orth(np.eye(N - i) - np.outer(v, v))\n",
    "        F = np.dot(F, U)\n",
    "        cov_proj = np.array([U.T.dot(C).dot(U) for C in cov_proj])\n",
    "    return basis\n",
    "\n",
    "\n",
    "def dca_fft_deflation(X, T, n_proj, n_init=1):\n",
    "    N = cross_cov_mats.shape[1]\n",
    "    F = np.eye(N)\n",
    "    X_proj = np.copy(X)\n",
    "    basis = np.zeros((N, n_proj))\n",
    "    opt = DynamicalComponentsAnalysisFFT(T=T)\n",
    "    for i in range(n_proj):\n",
    "        print(i)\n",
    "        #run DCA\n",
    "        opt.fit(X_proj, d=1, n_init=n_init)\n",
    "        v = opt.coef_.flatten()\n",
    "        #get full-dim v\n",
    "        v_full = np.dot(F, v)\n",
    "        basis[:, i] = v_full\n",
    "        #update U, F, cov_proj\n",
    "        U = scipy.linalg.orth(np.eye(N - i) - np.outer(v, v))\n",
    "        F = np.dot(F, U)\n",
    "        X_proj = np.dot(X_proj, U)\n",
    "    return basis\n",
    "\n",
    "\n",
    "        \n",
    "        \n",
    "        \n",
    "def dca_full(cross_cov_mats, n_proj, n_init=1):\n",
    "    opt = ComplexityComponentsAnalysis(init=\"random\")\n",
    "    opt.cross_covs = cross_cov_mats\n",
    "    V_all = []\n",
    "    for i in range(n_proj):\n",
    "        print(i)\n",
    "        opt.fit_projection(d=i+1, n_init=n_init)\n",
    "        V = opt.coef_\n",
    "        V_all.append(V)\n",
    "    return V_all\n",
    "\n",
    "def calc_pi_vs_dim(cross_cov_mats, V=None, V_all=None):\n",
    "    if V_all is None:\n",
    "        V_all = [V[:, :i+1] for i in range(V.shape[1])]\n",
    "    pi_vals = np.zeros(len(V_all))\n",
    "    for i in range(len(V_all)):\n",
    "        pi_vals[i] = calc_pi_from_cross_cov_mats(cross_cov_mats, proj=V_all[i])\n",
    "    return pi_vals"
   ]
  },
  {
   "cell_type": "code",
   "execution_count": 81,
   "metadata": {},
   "outputs": [],
   "source": [
    "T_pi = 5\n",
    "X, Y = load_neural_data()\n",
    "cross_cov_mats = calc_cross_cov_mats_from_data(X, T=2*T_pi)"
   ]
  },
  {
   "cell_type": "code",
   "execution_count": 87,
   "metadata": {},
   "outputs": [
    {
     "name": "stdout",
     "output_type": "stream",
     "text": [
      "0\n",
      "1\n",
      "2\n",
      "3\n",
      "4\n",
      "5\n",
      "6\n",
      "7\n",
      "8\n",
      "9\n",
      "10\n",
      "11\n",
      "12\n",
      "13\n",
      "14\n",
      "15\n",
      "16\n",
      "17\n",
      "18\n",
      "19\n",
      "Done\n"
     ]
    }
   ],
   "source": [
    "n_proj = 20\n",
    "n_init = 10\n",
    "\n",
    "#V_deflate_fft = dca_fft_deflation(X, T=2*T_pi, n_proj=n_proj, n_init=n_init)\n",
    "#print(\"Done\")\n",
    "\n",
    "#V_deflate = dca_deflation(cross_cov_mats, n_proj=n_proj, n_init=n_init)\n",
    "#print(\"Done\")\n",
    "\n",
    "#V_deflate_smart = dca_deflation_smart(cross_cov_mats, n_proj=n_proj, n_init=n_init)\n",
    "#print(\"Done\")\n",
    "\n",
    "V_all = dca_full(cross_cov_mats, n_proj=n_proj, n_init=n_init)\n",
    "print(\"Done\")\n"
   ]
  },
  {
   "cell_type": "code",
   "execution_count": 88,
   "metadata": {},
   "outputs": [
    {
     "data": {
      "text/plain": [
       "<matplotlib.legend.Legend at 0x1c20d270b8>"
      ]
     },
     "execution_count": 88,
     "metadata": {},
     "output_type": "execute_result"
    },
    {
     "data": {
      "image/png": "[encoded data removed]",
      "text/plain": [
       "<Figure size 432x288 with 1 Axes>"
      ]
     },
     "metadata": {
      "needs_background": "light"
     },
     "output_type": "display_data"
    }
   ],
   "source": [
    "#pi_deflate = calc_pi_vs_dim(cross_cov_mats, V=V_deflate)\n",
    "pi_deflate_fft = calc_pi_vs_dim(cross_cov_mats, V=V_deflate_fft)\n",
    "pi_regular = calc_pi_vs_dim(cross_cov_mats, V_all=V_all)\n",
    "pi_deflate_smart = calc_pi_vs_dim(cross_cov_mats, V=V_deflate_smart)\n",
    "\n",
    "\n",
    "#plt.plot(pi_deflate, label=\"deflation\", linewidth=5, c=\"gray\")\n",
    "plt.plot(pi_deflate_smart, label=\"def-smart\", linewidth=2, c=\"red\")\n",
    "plt.plot(pi_deflate_fft, label=\"def-FFT\", linewidth=2, c=\"blue\")\n",
    "\n",
    "plt.plot(pi_regular, label=\"regular\")\n",
    "plt.legend()"
   ]
  },
  {
   "cell_type": "code",
   "execution_count": 22,
   "metadata": {},
   "outputs": [
    {
     "data": {
      "text/plain": [
       "array([0.49038997, 0.58812266, 0.5743383 , 0.48701396, 0.47844398,\n",
       "       0.51682225, 0.44126605, 0.5632092 , 0.64174168, 0.36374362,\n",
       "       0.37787176, 0.7508002 , 0.43643   , 0.54887021, 0.63206944,\n",
       "       0.55570018, 0.61459445, 0.39622379, 0.60667514, 0.59926496,\n",
       "       0.56654737, 0.41286816, 0.61540279, 0.41220733, 0.53253156,\n",
       "       0.53112461, 0.36036144, 0.61610593, 0.63212123, 0.40400968,\n",
       "       0.68771288, 0.38921737, 0.59505555, 0.4903601 , 0.49493503,\n",
       "       0.51920492, 0.64105834, 0.58048271, 0.67358761, 0.63769045,\n",
       "       0.67130956, 0.48421135, 0.56531058, 0.53145062, 0.67320525,\n",
       "       0.48313793, 0.69511328, 0.65606135, 0.52486769, 0.55048453,\n",
       "       0.37144583, 0.6397047 , 0.60391499, 0.43845572, 0.38706131,\n",
       "       0.8200575 , 0.57530894, 0.53384453, 0.60161355, 0.5087633 ,\n",
       "       0.57732981, 0.44688725, 0.39321758, 0.36026892, 0.42187377,\n",
       "       0.60221882, 0.61816865, 0.47221246, 0.63048399, 0.64792935,\n",
       "       0.37502226, 0.38032154, 0.64470258, 0.6599456 , 0.40761727,\n",
       "       0.56025012, 0.41899911, 0.60331014, 0.73504842, 0.50424611,\n",
       "       0.60183097, 0.51359645, 0.66873113, 0.53174948, 0.52898775,\n",
       "       0.73251338, 0.67681265, 0.396551  , 0.71269146, 0.54691649,\n",
       "       0.49054192, 0.38761498, 0.62827592, 0.53329952, 0.60323112,\n",
       "       0.60199296, 0.47435703, 0.52078735, 0.43087544, 0.62519119,\n",
       "       0.42913698, 0.43521005, 0.39133788, 0.57575564, 0.47171409,\n",
       "       0.74819468, 0.43910926, 0.68469003, 0.40457319])"
      ]
     },
     "execution_count": 22,
     "metadata": {},
     "output_type": "execute_result"
    }
   ],
   "source": [
    "X.std(axis=0)"
   ]
  },
  {
   "cell_type": "code",
   "execution_count": null,
   "metadata": {},
   "outputs": [],
   "source": [
    "F = np.eye(N)\n",
    "X = X\n",
    "basis = np.zeros((N, n_proj))\n",
    "for i in range(n_proj):\n",
    "    v = DCA(X).flatten()\n",
    "    v_full = np.dot(F, v)\n",
    "    basis[:, i] = v_full\n",
    "    U = scipy.linalg.orth(np.eye(N) - np.outer(v, v))\n",
    "    F = np.dot(F, U)\n",
    "    X = np.dot(X, U)"
   ]
  }
 ],
 "metadata": {
  "kernelspec": {
   "display_name": "Python 3",
   "language": "python",
   "name": "python3"
  },
  "language_info": {
   "codemirror_mode": {
    "name": "ipython",
    "version": 3
   },
   "file_extension": ".py",
   "mimetype": "text/x-python",
   "name": "python",
   "nbconvert_exporter": "python",
   "pygments_lexer": "ipython3",
   "version": "3.7.2"
  }
 },
 "nbformat": 4,
 "nbformat_minor": 2
}
