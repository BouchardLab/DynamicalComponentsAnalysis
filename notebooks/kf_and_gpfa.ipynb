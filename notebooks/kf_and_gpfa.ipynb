{
 "cells": [
  {
   "cell_type": "code",
   "execution_count": 1,
   "metadata": {},
   "outputs": [],
   "source": [
    "import numpy as np\n",
    "import matplotlib.pyplot as plt\n",
    "from scipy.io import savemat, loadmat\n",
    "from imp import reload\n",
    "\n",
    "#import DCA stuff\n",
    "from dca import analysis\n",
    "from dca import data_util\n",
    "from dca import plotting\n",
    "\n",
    "#import FastKF (todo: import installable package once FastKF is finalized)\n",
    "import sys\n",
    "sys.path.append(\"/Users/davidclark/Projects/FastKF/fastkf\")\n",
    "import fastkf"
   ]
  },
  {
   "cell_type": "code",
   "execution_count": 2,
   "metadata": {},
   "outputs": [],
   "source": [
    "#load datasets\n",
    "m1 = data_util.load_sabes_data(\"../data/sabes/indy_20160627_01.mat\")\n",
    "X_m1, Y_m1 = m1[\"M1\"], m1[\"cursor\"]\n",
    "\n",
    "hc = data_util.load_kording_paper_data(\"../data/kording_paper/example_data_hc.pickle\")\n",
    "X_hc, Y_hc = hc[\"neural\"], hc[\"loc\"]\n",
    "\n",
    "X_weather = data_util.load_weather_data(\"../data/weather/temperature.csv\")\n",
    "\n",
    "X_accel = data_util.load_accel_data(\"../data/accel/sub_19.csv\")\n",
    "\n",
    "#set analysis params \n",
    "num_cv_folds = 5\n",
    "dsets = [X_m1, X_hc, X_weather, X_accel]\n",
    "dset_names = [\"m1\", \"hc\", \"weather\", \"accel\"]\n",
    "dim_vals = np.array([[5, 10, 15, 25],\n",
    "                     [10, 15, 25, 30],\n",
    "                     [3, 4, 5, 6],\n",
    "                     [3, 4, 5, 6]])\n",
    "offset_vals = np.array([0, 5, 10, 15])\n",
    "decoding_window = 3\n",
    "T_pi_vals = np.arange(1, 11)"
   ]
  },
  {
   "cell_type": "code",
   "execution_count": 5,
   "metadata": {},
   "outputs": [],
   "source": [
    "#create .mat file for import by MATLAB for GPFA \n",
    "\n",
    "gpfa_dsets = []\n",
    "for i in range(len(dsets)):\n",
    "    X = dsets[i]\n",
    "    min_std=1e-6\n",
    "    good_cols = (X.std(axis=0) > min_std)\n",
    "    X = X[:, good_cols]\n",
    "    cv = data_util.CrossValidate(X, X, num_cv_folds, stack=False)\n",
    "    gpfa_data = []\n",
    "    for X_train, X_test, _, _, _ in cv:\n",
    "        X_mean = np.concatenate(X_train).mean(axis=0, keepdims=True)\n",
    "        X_train_ctd = [Xi - X_mean for Xi in X_train]\n",
    "        X_test_ctd = X_test - X_mean\n",
    "        gpfa_data.append((X_train, X_test))\n",
    "    gpfa_dsets.append(gpfa_data)\n",
    "gpfa_dict = {}\n",
    "gpfa_dict[\"data\"] = gpfa_dsets\n",
    "gpfa_dict[\"dsetNames\"] = dset_names\n",
    "gpfa_dict[\"dimVals\"] = dim_vals\n",
    "savemat(\"gpfa_data/gpfa_input.mat\", gpfa_dict)"
   ]
  },
  {
   "cell_type": "code",
   "execution_count": 51,
   "metadata": {},
   "outputs": [],
   "source": [
    "#load GPFA results from MATLAB\n",
    "\n",
    "gpfa_output = loadmat(\"/Users/davidclark/Projects/gpfa_v0203/DC_JL_results/results.mat\")[\"results\"]"
   ]
  },
  {
   "cell_type": "code",
   "execution_count": 52,
   "metadata": {},
   "outputs": [],
   "source": [
    "#score GPFA latents\n",
    "\n",
    "reload(analysis)\n",
    "def run_analysis_gpfa(gpfa_results, Y, offset_vals, decoding_window):\n",
    "    #gpfa_results = (num_folds, num_dims, 4)\n",
    "    num_cv_folds = gpfa_results.shape[0]\n",
    "    num_dims = gpfa_results.shape[1]\n",
    "    results = np.zeros((num_cv_folds, num_dims, len(offset_vals), 2))\n",
    "    cv = data_util.CrossValidate(np.zeros_like(Y), Y, num_cv_folds, stack=True)\n",
    "    for X_train, X_test, Y_train, Y_test, fold_idx in cv:\n",
    "        Y_mean = np.concatenate(Y_train).mean(axis=0, keepdims=True)\n",
    "        Y_train_ctd = [Yi - Y_mean for Yi in Y_train]\n",
    "        Y_test_ctd = Y_test - Y_mean\n",
    "        #\"trialize\" the Y-values as we did in the GPFA MATLAB script\n",
    "        Y_train_trials, Y_test_trials = [], []\n",
    "        train_trial_fmt = [X.T for X in gpfa_results[fold_idx, 0, 0][0, :]]\n",
    "        test_trial_fmt = [X.T for X in gpfa_results[fold_idx, 0, 2][0, :]]\n",
    "        i = 0\n",
    "        for trial in train_trial_fmt:\n",
    "            Y_train_trials.append(Y_train_ctd[i:i+len(trial)])\n",
    "            i += len(trial)\n",
    "        i = 0\n",
    "        for trial in test_trial_fmt:\n",
    "            Y_test_trials.append(Y_test_ctd[i:i+len(trial)])\n",
    "            i += len(trial)\n",
    "        for dim_idx in range(num_dims):\n",
    "            #get GPFA outputs (smoothing + filtering)\n",
    "            X_train_smooth_trials = [X.T for X in gpfa_results[fold_idx, dim_idx, 0][0, :]]\n",
    "            X_train_filter_trials = [X.T for X in gpfa_results[fold_idx, dim_idx, 1][0, :]]\n",
    "            X_test_smooth_trials = [X.T for X in gpfa_results[fold_idx, dim_idx, 2][0, :]]\n",
    "            X_test_filter_trials = [X.T for X in gpfa_results[fold_idx, dim_idx, 3][0, :]]\n",
    "            #loop over offset vals\n",
    "            for offset_idx in range(len(offset_vals)):\n",
    "                offset = offset_vals[offset_idx]\n",
    "                #do the r2 evals\n",
    "                r2_gpfa_smooth = analysis.linear_decode_r2(X_train_smooth_trials, Y_train_trials, X_test_smooth_trials, Y_test_trials,\n",
    "                                                  decoding_window=decoding_window, offset=offset)\n",
    "                r2_gpfa_filter = analysis.linear_decode_r2(X_train_filter_trials, Y_train_trials, X_test_filter_trials, Y_test_trials,\n",
    "                                                  decoding_window=decoding_window, offset=offset)\n",
    "                results[fold_idx, dim_idx, offset_idx, 0] = r2_gpfa_smooth\n",
    "                results[fold_idx, dim_idx, offset_idx, 1] = r2_gpfa_filter\n",
    "    return results"
   ]
  },
  {
   "cell_type": "code",
   "execution_count": 53,
   "metadata": {},
   "outputs": [
    {
     "name": "stdout",
     "output_type": "stream",
     "text": [
      "M1\n",
      "HC\n",
      "weather\n",
      "accel.\n"
     ]
    }
   ],
   "source": [
    "#run the above fn to get GPFA results\n",
    "\n",
    "print(\"M1\")\n",
    "gpfa_results_m1 = run_analysis_gpfa(gpfa_output[0], Y_m1, offset_vals, decoding_window)\n",
    "\n",
    "print(\"HC\")\n",
    "gpfa_results_hc = run_analysis_gpfa(gpfa_output[1], Y_hc, offset_vals, decoding_window)\n",
    "\n",
    "print(\"weather\")\n",
    "gpfa_results_weather = run_analysis_gpfa(gpfa_output[2], X_weather, offset_vals, decoding_window)\n",
    "\n",
    "print(\"accel.\")\n",
    "gpfa_results_accel = run_analysis_gpfa(gpfa_output[3], X_accel, offset_vals, decoding_window)"
   ]
  },
  {
   "cell_type": "code",
   "execution_count": 54,
   "metadata": {},
   "outputs": [
    {
     "data": {
      "text/plain": [
       "['M1_results', 'HC_results', 'weather_results', 'accel_results']"
      ]
     },
     "execution_count": 54,
     "metadata": {},
     "output_type": "execute_result"
    }
   ],
   "source": [
    "#load pre-computed DCA results (also includes PCA and SFA)\n",
    "\n",
    "dca_results = np.load(\"/Users/davidclark/Projects/DynamicalComponentsAnalysis/data/results/real_data.npz\", \"r\")\n",
    "list(dca_results.keys())"
   ]
  },
  {
   "cell_type": "code",
   "execution_count": 55,
   "metadata": {},
   "outputs": [],
   "source": [
    "#substitute the GPFA smoothing/filtering results where PCA used to be (plotting 'hack')\n",
    "\n",
    "M1_results_sm = np.copy(dca_results[\"M1_results\"])\n",
    "M1_results_fi = np.copy(dca_results[\"M1_results\"])\n",
    "M1_results_sm[:, :, :, 0] = gpfa_results_m1[:, :, :, 0]\n",
    "M1_results_fi[:, :, :, 0] = gpfa_results_m1[:, :, :, 1]\n",
    "\n",
    "HC_results_sm = np.copy(dca_results[\"HC_results\"])\n",
    "HC_results_fi = np.copy(dca_results[\"HC_results\"])\n",
    "HC_results_sm[:, :, :, 0] = gpfa_results_hc[:, :, :, 0]\n",
    "HC_results_fi[:, :, :, 0] = gpfa_results_hc[:, :, :, 1]\n",
    "\n",
    "weather_results_sm = np.copy(dca_results[\"weather_results\"])\n",
    "weather_results_fi = np.copy(dca_results[\"weather_results\"])\n",
    "weather_results_sm[:, :, :, 0] = gpfa_results_weather[:, :, :, 0]\n",
    "weather_results_fi[:, :, :, 0] = gpfa_results_weather[:, :, :, 1]\n",
    "\n",
    "accel_results_sm = np.copy(dca_results[\"accel_results\"])\n",
    "accel_results_fi = np.copy(dca_results[\"accel_results\"])\n",
    "accel_results_sm[:, :, :, 0] = gpfa_results_accel[:, :, :, 0]\n",
    "accel_results_fi[:, :, :, 0] = gpfa_results_accel[:, :, :, 1]"
   ]
  },
  {
   "cell_type": "code",
   "execution_count": 56,
   "metadata": {},
   "outputs": [
    {
     "data": {
      "image/png": "[encoded data removed]",
      "text/plain": [
       "<Figure size 396x194.4 with 8 Axes>"
      ]
     },
     "metadata": {
      "needs_background": "light"
     },
     "output_type": "display_data"
    }
   ],
   "source": [
    "#plot GPFA vs. DCA results\n",
    "\n",
    "reload(plotting)\n",
    "fig, axes = plotting.decoding_fix_axes(fig_width=5.5, fig_height=2.7,\n",
    "                                       wpad_mid=.075, hpad_mid=.2,\n",
    "                                       wpad_left=.09, wpad_right=.025,\n",
    "                                       hpad_bot=.12)\n",
    "\n",
    "plotting.scatter_r2_vals(M1_results_fi, 4, dim_vals[0], offset_vals, T_pi_vals, min_val=0, max_val=.7,\n",
    "                         title='M1', timestep_units='ms', timestep=50, ax=axes[0], legend=False, pca_label=\"GPFA-Filt\")\n",
    "plotting.scatter_r2_vals(M1_results_sm, 4, dim_vals[0], offset_vals, T_pi_vals, min_val=0, max_val=.7,\n",
    "                         title='M1', timestep_units='ms', timestep=50, ax=axes[4], legend=False, pca_label=\"GPFA-Sm\")\n",
    "\n",
    "plotting.scatter_r2_vals(HC_results_fi, 4, dim_vals[1], offset_vals, T_pi_vals, min_val=0, max_val=.3,\n",
    "                         title='Hippocampus', timestep_units='ms', timestep=50, ax=axes[1], legend=False, pca_label=\"GPFA-Filt\")\n",
    "plotting.scatter_r2_vals(HC_results_sm, 4, dim_vals[1], offset_vals, T_pi_vals, min_val=0, max_val=.3,\n",
    "                         title='Hippocampus', timestep_units='ms', timestep=50, ax=axes[5], legend=False, pca_label=\"GPFA-Sm\")\n",
    "\n",
    "plotting.scatter_r2_vals(weather_results_fi, 4, dim_vals[2], offset_vals, T_pi_vals, min_val=.6, max_val=1.,\n",
    "                         title='Temperature', timestep_units='ms', timestep=50, ax=axes[2], legend=False, pca_label=\"GPFA-Filt\")\n",
    "plotting.scatter_r2_vals(weather_results_sm, 4, dim_vals[2], offset_vals, T_pi_vals, min_val=.6, max_val=1.,\n",
    "                         title='Temperature', timestep_units='ms', timestep=50, ax=axes[6], legend=False, pca_label=\"GPFA-Sm\")\n",
    "\n",
    "plotting.scatter_r2_vals(accel_results_fi, 4, dim_vals[3], offset_vals, T_pi_vals, min_val=0, max_val=1.,\n",
    "                         title='Accelerometer', timestep_units='ms', timestep=50, ax=axes[3], legend=False, pca_label=\"GPFA-Filt\")\n",
    "plotting.scatter_r2_vals(accel_results_sm, 4, dim_vals[3], offset_vals, T_pi_vals, min_val=0, max_val=1.,\n",
    "                         title='Accelerometer', timestep_units='ms', timestep=50, ax=axes[7], legend=False, pca_label=\"GPFA-Sm\")\n",
    "\n",
    "#plt.savefig(\"figures/gpfa_filt_smooth.pdf\", bbox_inches=\"tight\")\n",
    "\n"
   ]
  },
  {
   "cell_type": "code",
   "execution_count": 11,
   "metadata": {},
   "outputs": [],
   "source": [
    "#score KF latents\n",
    "\n",
    "reload(fastkf)\n",
    "def run_analysis_kf(X, Y, dim_vals, offset_vals, num_cv_folds, decoding_window,\n",
    "                    filename, verbose=False, min_std=1e-6):\n",
    "    results = np.zeros((num_cv_folds, len(dim_vals), len(offset_vals), 2))\n",
    "    good_cols = (X.std(axis=0) > min_std)\n",
    "    X = X[:, good_cols]\n",
    "    cv = analysis.CrossValidate(X, Y, num_cv_folds, stack=False)\n",
    "    for X_train, X_test, Y_train, Y_test, fold_idx in cv:\n",
    "        if verbose:\n",
    "            print(\"fold\", fold_idx + 1, \"of\", num_cv_folds)\n",
    "        X_mean = np.concatenate(X_train).mean(axis=0, keepdims=True)\n",
    "        X_train_ctd = [Xi - X_mean for Xi in X_train]\n",
    "        X_test_ctd = X_test - X_mean\n",
    "        Y_mean = np.concatenate(Y_train).mean(axis=0, keepdims=True)\n",
    "        Y_train_ctd = [Yi - Y_mean for Yi in Y_train]\n",
    "        Y_test_ctd = Y_test - Y_mean\n",
    "        for dim_idx in range(len(dim_vals)):\n",
    "            dim = dim_vals[dim_idx]\n",
    "            if verbose:\n",
    "                print(\"dim\", dim_idx + 1, \"of\", len(dim_vals))\n",
    "            kf = fastkf.KalmanFilter()\n",
    "            kf.fit(X_train_ctd, dim, n_iter=200, print_interval=20)\n",
    "            x_hat_train_sm = kf.transform(X_train_ctd)\n",
    "            x_hat_test_sm = kf.transform([X_test_ctd])\n",
    "            x_hat_train_fi = kf.transform_causal(X_train_ctd)\n",
    "            x_hat_test_fi = kf.transform_causal([X_test_ctd])\n",
    "            for offset_idx in range(len(offset_vals)):\n",
    "                offset = offset_vals[offset_idx]\n",
    "                r2_kf_smooth = analysis.linear_decode_r2(x_hat_train_sm, Y_train_ctd, x_hat_test_sm, Y_test_ctd,\n",
    "                                                         decoding_window=decoding_window, offset=offset)\n",
    "                r2_kf_filter = analysis.linear_decode_r2(x_hat_train_fi, Y_train_ctd, x_hat_test_fi, Y_test_ctd,\n",
    "                                                         decoding_window=decoding_window, offset=offset)\n",
    "                results[fold_idx, dim_idx, offset_idx, 0] = r2_kf_smooth\n",
    "                results[fold_idx, dim_idx, offset_idx, 1] = r2_kf_filter\n",
    "        np.save(filename, results)\n",
    "    return results"
   ]
  },
  {
   "cell_type": "code",
   "execution_count": null,
   "metadata": {},
   "outputs": [],
   "source": [
    "#run the above fn to get KF results\n",
    "\n",
    "results_kf = run_analysis_kf(X_m1, Y_m1, dim_vals[0], offset_vals, num_cv_folds,\n",
    "                             decoding_window, \"kf_data/M1.npy\", verbose=True)\n",
    "\n",
    "results_hc = run_analysis_kf(X_hc, Y_hc, dim_vals[1], offset_vals, num_cv_folds,\n",
    "                             decoding_window, \"kf_data/HC.npy\", verbose=True)\n",
    "\n",
    "results_weather = run_analysis_kf(X_weather, X_weather, dim_vals[2], offset_vals, num_cv_folds,\n",
    "                             decoding_window, \"kf_data/weather.npy\", verbose=True)\n",
    "\n",
    "results_accel = run_analysis_kf(X_accel, X_accel, dim_vals[3], offset_vals, num_cv_folds,\n",
    "                             decoding_window, \"kf_data/accel.npy\", verbose=True)\n",
    "\n",
    "\n",
    "\n"
   ]
  },
  {
   "cell_type": "code",
   "execution_count": 57,
   "metadata": {},
   "outputs": [],
   "source": [
    "#TODO: plot results"
   ]
  },
  {
   "cell_type": "code",
   "execution_count": null,
   "metadata": {},
   "outputs": [],
   "source": []
  }
 ],
 "metadata": {
  "kernelspec": {
   "display_name": "Python 3",
   "language": "python",
   "name": "python3"
  }
 },
 "nbformat": 4,
 "nbformat_minor": 2
}
