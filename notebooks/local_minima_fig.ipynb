{
 "cells": [
  {
   "cell_type": "code",
   "execution_count": 1,
   "metadata": {},
   "outputs": [],
   "source": [
    "import numpy as np\n",
    "import matplotlib.pyplot as plt\n",
    "import scipy.stats\n",
    "import h5py\n",
    "from mpl_toolkits import mplot3d\n",
    "\n",
    "from cca.synth_data import embedded_lorenz_cross_cov_mats, oscillators_dynamics_mat, oscillators_cross_cov_mats, sample_oscillators\n",
    "from cca import style\n",
    "\n",
    "import cca.synth_data"
   ]
  },
  {
   "cell_type": "code",
   "execution_count": 35,
   "metadata": {},
   "outputs": [],
   "source": [
    "def gen_heatmap(cross_cov_mats, N_theta=100):\n",
    "    N_phi = N_theta\n",
    "    theta = np.concatenate((np.linspace(0, np.pi*(1. - 1./N_theta), N_theta - 1), [np.pi]))\n",
    "    phi = np.concatenate((np.linspace(0, np.pi*(1. - 1./N_phi), N_phi - 1), [np.pi]))\n",
    "    \n",
    "    heatmap = np.zeros((N_theta, N_phi))\n",
    "    \n",
    "    def pi_val(theta, phi):\n",
    "        x = np.cos(phi)*np.sin(theta)\n",
    "        y = np.sin(phi)*np.sin(theta)\n",
    "        z = np.cos(theta)\n",
    "        v = np.array([x, y, z]).reshape((3, 1))\n",
    "        pi = cca.cov_util.calc_pi_from_cross_cov_mats(cross_cov_mats, proj=v)\n",
    "        return pi\n",
    "    \n",
    "    for theta_idx in range(N_theta):\n",
    "        for phi_idx in range(N_phi):\n",
    "            pi = pi_val(theta[theta_idx], phi[phi_idx])\n",
    "            heatmap[theta_idx, phi_idx] = pi\n",
    "            \n",
    "    return heatmap\n",
    "\n",
    "def find_local_maxima(Z, tol=1e-8):\n",
    "    peaks = []\n",
    "    n_i, n_j = Z.shape\n",
    "    for i in range(n_i):\n",
    "        for j in range(n_j):\n",
    "            val = Z[i, j]\n",
    "            if i not in [0, n_i-1] and j not in [0, n_j-1]:\n",
    "                #regular case\n",
    "                patch = Z[i-1:i+2, j-1:j+2].flatten()\n",
    "                if val > np.max(patch[:4]) + tol and val > np.max(patch[5:]) + tol:\n",
    "                    peaks.append((i, j))\n",
    "            \"\"\"\n",
    "            else:\n",
    "                #literal edge case\n",
    "                if i == 0:\n",
    "                    if val > np.max(Z[1, :]) + tol:\n",
    "                        peaks += [[0, j_prime] for j_prime in range(n_j)]\n",
    "                elif i == n_i-1:\n",
    "                    if val > np.max(Z[n_i-2, :]) + tol:\n",
    "                        peaks += [[n_i-1, j_prime] for j_prime in range(n_j)]\n",
    "                elif j == 0:\n",
    "                    patch = np.concatenate((Z[i-1:i+2, n_j-1:n_j], Z[i-1:i+2, :2]), axis=1).flatten()\n",
    "                    if val > np.max(patch[:4]) + tol and val > np.max(patch[5:]) + tol:\n",
    "                        peaks.append([i, j])\n",
    "                elif j == n_j-1:\n",
    "                    patch = np.concatenate((Z[i-1:i+2, n_j-2:n_j], Z[i-1:i+2, 0:1]), axis=1).flatten()\n",
    "                    if val > np.max(patch[:4]) + tol and val > np.max(patch[5:]) + tol:\n",
    "                        peaks.append([i, j])\n",
    "            \"\"\"\n",
    "    return peaks\n",
    "\n",
    "def find_global_maxima(Z, local_maxima=None, tol=1e-8):\n",
    "    if local_maxima is None:\n",
    "        local_maxima = find_local_maxima_2d(Z)\n",
    "    max_val = np.max( [Z[i,j] for (i,j) in local_maxima] )\n",
    "    peaks = []\n",
    "    for (i, j) in local_maxima:\n",
    "        if np.abs(Z[i, j] - max_val) <= tol:\n",
    "            peaks.append((i, j))\n",
    "    return peaks\n",
    "\n",
    "\n",
    "def cca_proj(cov_11, cov_12):\n",
    "    w = scipy.linalg.eigvalsh(cov_11)\n",
    "    min_eig = np.min(w)\n",
    "    eps = 1e-8\n",
    "    if min_eig < eps:\n",
    "        cov_11 = cov_11 + np.eye(cov_11.shape[0])*(-min_eig + eps)\n",
    "    cov_neg_sqrt = np.real(np.linalg.inv(scipy.linalg.sqrtm(cov_11)))\n",
    "    to_svd = cov_neg_sqrt.dot(cov_12).dot(cov_neg_sqrt)\n",
    "    U, s, Vt = scipy.linalg.svd(to_svd)\n",
    "    V = Vt.T\n",
    "    U = np.dot(cov_neg_sqrt, U)\n",
    "    V = np.dot(cov_neg_sqrt, V)\n",
    "    U /= np.sqrt(np.sum(U**2, axis=0))\n",
    "    V /= np.sqrt(np.sum(V**2, axis=0))\n",
    "    return U, V\n",
    "\n",
    "def sfa_proj(cov_11, cov_12):\n",
    "    w = scipy.linalg.eigvalsh(cov_11)\n",
    "    min_eig = np.min(w)\n",
    "    eps = 1e-8\n",
    "    if min_eig < eps:\n",
    "        print(\"HMM\")\n",
    "        cov_11 = cov_11 + np.eye(cov_11.shape[0])*(-min_eig + eps)\n",
    "    cov_neg_sqrt = np.real(np.linalg.inv(scipy.linalg.sqrtm(cov_11)))\n",
    "    cov_sym = cov_12 + cov_12.T\n",
    "    to_pca = cov_neg_sqrt.dot(cov_sym).dot(cov_neg_sqrt)\n",
    "    _, V = scipy.linalg.eigh(to_pca)\n",
    "    V = V[:, ::-1]\n",
    "    print(\"Here\")\n",
    "    V = np.dot(cov_neg_sqrt, V)\n",
    "    return V\n",
    "\n",
    "def pca_proj(cov):\n",
    "    _, V = scipy.linalg.eigh(cov)\n",
    "    V = V[:, ::-1]\n",
    "    return V\n",
    "\n",
    "def dca_proj(cov_11, cov_12, d, n_init=1):\n",
    "    opt = ComplexityComponentsAnalysis(init=\"random\")\n",
    "    opt.cross_covs = np.array([cov_11, cov_12.T])\n",
    "    opt.fit_projection(d=d, n_init=n_init)\n",
    "    V = opt.coef_\n",
    "    return V\n",
    "\n",
    "def quad_mat(A, B, C, D):\n",
    "    top = np.concatenate((A, B), axis=1)\n",
    "    bottom = np.concatenate((C, D), axis=1)\n",
    "    mat = np.concatenate((top, bottom), axis=0)\n",
    "    return mat\n",
    "\n",
    "def calc_pi(cov_11, cov_12, U, V):\n",
    "    proj_cov_11 = U.T.dot(cov_11).dot(U)\n",
    "    proj_cov_22 = V.T.dot(cov_11).dot(V)\n",
    "    proj_cov_12 = U.T.dot(cov_12).dot(V)\n",
    "    proj_cov_21 = proj_cov_12.T\n",
    "    cov_full = quad_mat(proj_cov_11, proj_cov_12, proj_cov_21, proj_cov_22)\n",
    "    d1 = np.linalg.slogdet(proj_cov_11)[1]\n",
    "    d2 = np.linalg.slogdet(proj_cov_22)[1]\n",
    "    d3 = np.linalg.slogdet(cov_full)[1]\n",
    "    return 0.5 * (d1 + d2 - d3) / np.log(2) #in BITS!"
   ]
  },
  {
   "cell_type": "code",
   "execution_count": 32,
   "metadata": {},
   "outputs": [
    {
     "data": {
      "text/plain": [
       "([<matplotlib.axes._axes.Axes at 0x7fd8726111d0>,\n",
       "  <matplotlib.axes._axes.Axes at 0x7fd870470828>,\n",
       "  <matplotlib.axes._axes.Axes at 0x7fd870449550>],\n",
       " [<matplotlib.axes._axes.Axes at 0x7fd8704bc438>,\n",
       "  <matplotlib.axes._axes.Axes at 0x7fd87049ae80>,\n",
       "  <matplotlib.axes._axes.Axes at 0x7fd8703f2b70>],\n",
       " <matplotlib.axes._axes.Axes at 0x7fd870423208>,\n",
       " <matplotlib.axes._axes.Axes at 0x7fd8703cc860>)"
      ]
     },
     "execution_count": 32,
     "metadata": {},
     "output_type": "execute_result"
    },
    {
     "data": {
      "image/png": "[encoded data removed]",
      "text/plain": [
       "<Figure size 720x288 with 8 Axes>"
      ]
     },
     "metadata": {},
     "output_type": "display_data"
    }
   ],
   "source": [
    "def make_axes(fig_width, n_sq=3, sq_width=0.175, wpad_edge=0, wpad_sq=0.05, wpad_mid=0.05, hpad_edge=0, hpad_mid=0.125):    \n",
    "    sub_box_width = n_sq*sq_width + (n_sq - 1)*wpad_sq\n",
    "    right_box_width = 1 - 2*wpad_edge - wpad_mid - sub_box_width\n",
    "    sq_height = (1 - 2*hpad_edge - hpad_mid)/2\n",
    "    fig_height = sq_width * fig_width / sq_height\n",
    "    fig = plt.figure(figsize=(fig_width, fig_height))        \n",
    "    \n",
    "    top_squares, bottom_squares = [], []\n",
    "    for i in range(n_sq):\n",
    "        ax_top = fig.add_axes((wpad_edge + (sq_width + wpad_sq)*i, hpad_edge + sq_height + hpad_mid, sq_width, sq_height))\n",
    "        ax_bottom = fig.add_axes((wpad_edge + (sq_width + wpad_sq)*i, hpad_edge, sq_width, sq_height))\n",
    "        top_squares.append(ax_top)\n",
    "        bottom_squares.append(ax_bottom)\n",
    "        \n",
    "    ax_right_top = fig.add_axes(( wpad_edge + sub_box_width + wpad_mid, hpad_edge, right_box_width, sq_height ))\n",
    "    ax_right_bottom = fig.add_axes(( wpad_edge + sub_box_width + wpad_mid, hpad_edge + sq_height + hpad_mid, right_box_width, sq_height ))\n",
    "    \n",
    "    axes = top_squares + bottom_squares + [ax_right_top, ax_right_bottom]\n",
    "    for ax in axes:\n",
    "        ax.set_xticks([])\n",
    "        ax.set_yticks([])\n",
    "        \n",
    "    return top_squares, bottom_squares, ax_right_top, ax_right_bottom\n",
    "    \n",
    "def disp_heatmap(ax, heatmap, show_xlabels=True, show_ylabels=True, title=None):\n",
    "    N_theta, N_phi = heatmap.shape\n",
    "    im = ax.imshow(heatmap, origin=\"lower left\", cmap=\"gray\", aspect='equal')\n",
    "    \n",
    "    local_maxima = find_local_maxima(heatmap)\n",
    "    global_maxima = find_global_maxima(heatmap, local_maxima)\n",
    "    non_global_maxima = list(set(local_maxima) - set(global_maxima))\n",
    "    for pt in global_maxima:\n",
    "        ax.scatter(pt[1], pt[0], c=\"red\", marker=\"o\", s=15)\n",
    "    for pt in non_global_maxima:\n",
    "        ax.scatter(pt[1], pt[0], edgecolors=\"red\", marker=\"o\", facecolors='none', s=15)\n",
    "    \n",
    "    if show_xlabels:\n",
    "        ax.set_xlabel(\"$\\phi$\", fontsize=style.axis_label_fontsize, labelpad=-10)\n",
    "        ax.set_xticks([0, N_phi-1])\n",
    "        ax.set_xticklabels([\"0\", \"$\\pi$\"], fontsize=style.ticklabel_fontsize)\n",
    "    else:\n",
    "        ax.set_xticks([])\n",
    "    if show_ylabels:\n",
    "        ax.set_ylabel(\"$\\\\theta$\", fontsize=style.axis_label_fontsize, labelpad=-10)\n",
    "        ax.set_yticks([0, N_theta-1])\n",
    "        ax.set_yticklabels([\"0\", \"$\\pi$\"], fontsize=style.ticklabel_fontsize)\n",
    "    else:\n",
    "        ax.set_yticks([])\n",
    "    ax.set_xlim([0, heatmap.shape[1]-1])\n",
    "    ax.set_ylim([0, heatmap.shape[0]-1])\n",
    "    if title is not None:\n",
    "        ax.set_title(title, fontsize=style.title_fontsize, pad=1)\n",
    "\n",
    "make_axes(10, n_sq=3)"
   ]
  },
  {
   "cell_type": "code",
   "execution_count": 4,
   "metadata": {},
   "outputs": [
    {
     "name": "stdout",
     "output_type": "stream",
     "text": [
      "(30, 27)\n",
      "Warning: non-PSD matrix (had to increase eigenvalues)\n"
     ]
    }
   ],
   "source": [
    "#get cross-cov mats for both systems\n",
    "#Lorenz system (3d and high-d)\n",
    "#lorenz_3d_cross_cov_mats = embedded_lorenz_cross_cov_mats(N=3, T=40, snr=1)\n",
    "lorenz_highd_cross_cov_mats = embedded_lorenz_cross_cov_mats(N=30, T=11, snr=1)\n",
    "#oscillator system (10 oscillators --> 20-dimensional state)\n",
    "A = oscillators_dynamics_mat(N=10)\n",
    "osc_cross_cov_mats = oscillators_cross_cov_mats(A, T=11)"
   ]
  },
  {
   "cell_type": "code",
   "execution_count": 36,
   "metadata": {},
   "outputs": [
    {
     "name": "stdout",
     "output_type": "stream",
     "text": [
      "Here\n",
      "Here\n"
     ]
    }
   ],
   "source": [
    "#run the 'MI vs. dim' analysis for both systems\n",
    "lorenz_highd_cross_cov_mats[10] = 0.5*(lorenz_highd_cross_cov_mats[10] + lorenz_highd_cross_cov_mats[10].T)\n",
    "\n",
    "cov_mats = (lorenz_highd_cross_cov_mats[[0, 10]], osc_cross_cov_mats[[0, 10], :, :])\n",
    "lorenz_pi_vals = np.zeros((6, cov_mats[0].shape[1]))\n",
    "osc_pi_vals = np.zeros((6, cov_mats[1].shape[1]))\n",
    "pi_vals = (lorenz_pi_vals, osc_pi_vals)\n",
    "for system_idx in range(len(cov_mats)):\n",
    "    cov_11, cov_21 = cov_mats[system_idx]\n",
    "    cov_12 = cov_21.T\n",
    "    \n",
    "    U_cca, V_cca = cca_proj(cov_11, cov_12)\n",
    "    V_pca = pca_proj(cov_11)\n",
    "    V_sfa = sfa_proj(cov_11, cov_12)\n",
    "    V_trunc = np.eye(cov_11.shape[0])[:, ::-1]\n",
    "    \n",
    "    system_pi_vals = pi_vals[system_idx]\n",
    "    N = len(system_pi_vals.T)\n",
    "    \n",
    "    for i in range(1, N+1):\n",
    "        pi_cca = calc_pi(cov_11, cov_12, U_cca[:, :i], V_cca[:, :i])\n",
    "        #V_dca = dca_proj(cov, cross_cov.T, i, n_init=1)\n",
    "        pi_dca = 0.18 #calc_pi(cov_11, cov_12, V_dca, V_dca)\n",
    "        pi_pca = calc_pi(cov_11, cov_12, V_pca[:, :i], V_pca[:, :i])\n",
    "        pi_sfa = calc_pi(cov_11, cov_12, V_sfa[:, :i], V_sfa[:, :i])\n",
    "        pi_trunc = calc_pi(cov_11, cov_12, V_trunc[:, :i], V_trunc[:, :i])\n",
    "        pi_dumb_cca = calc_pi(cov_11, cov_12, U_cca[:, :i], U_cca[:, :i])\n",
    "        system_pi_vals[:, i-1] = [pi_cca, pi_dca, pi_pca, pi_sfa, pi_trunc, pi_dumb_cca]\n"
   ]
  },
  {
   "cell_type": "code",
   "execution_count": 42,
   "metadata": {},
   "outputs": [
    {
     "data": {
      "text/plain": [
       "<matplotlib.legend.Legend at 0x7fd8700c8ba8>"
      ]
     },
     "execution_count": 42,
     "metadata": {},
     "output_type": "execute_result"
    },
    {
     "data": {
      "image/png": "[encoded data removed]",
      "text/plain": [
       "<Figure size 720x432 with 1 Axes>"
      ]
     },
     "metadata": {},
     "output_type": "display_data"
    }
   ],
   "source": [
    "fig, ax = plt.subplots(1, 1, figsize=(5*2, 3*2))\n",
    "\n",
    "labels = [\"cca\", \"dca\", \"pca\", \"sfa\", \"trunc\", \"dumb\"]\n",
    "for i in range(6):\n",
    "    ax.plot(list(pi_vals[0][i, ::-1]) + [0], label=labels[i], linewidth=3)\n",
    "ax.set_xlim([25, 31])\n",
    "ax.legend()"
   ]
  },
  {
   "cell_type": "code",
   "execution_count": 244,
   "metadata": {},
   "outputs": [
    {
     "data": {
      "image/png": "[encoded data removed]",
      "text/plain": [
       "<Figure size 432x172.8 with 8 Axes>"
      ]
     },
     "metadata": {
      "needs_background": "light"
     },
     "output_type": "display_data"
    }
   ],
   "source": [
    "N_theta = 20\n",
    "\n",
    "T_pi_vals = np.array([1, 5, 10])\n",
    "top_squares, bottom_squares, ax_right_top, ax_right_bottom = make_axes(6, n_sq=len(T_pi_vals), sq_width=0.175)\n",
    "\n",
    "#Find local minima and plot\n",
    "for i in range(len(T_pi_vals)):\n",
    "    T_pi = T_pi_vals[i]\n",
    "    ax_top, ax_bottom = top_squares[i], bottom_squares[i]\n",
    "    \n",
    "    lorenz_heatmap = gen_heatmap(lorenz_cross_cov_mats[:2*T_pi], N_theta=N_theta)\n",
    "    disp_heatmap(ax_top, lorenz_heatmap)\n",
    "    \n",
    "    osc_heatmap = gen_heatmap(osc_cross_cov_mats[:2*T_pi], N_theta=N_theta)\n",
    "    disp_heatmap(ax_bottom, osc_heatmap)\n",
    "    \n",
    "#Make MI vs. dim curves\n",
    "    \n",
    "plt.savefig(\"figures/local_minima_test.pdf\", bbox_inches=\"tight\")\n",
    "    "
   ]
  },
  {
   "cell_type": "code",
   "execution_count": 39,
   "metadata": {
    "scrolled": true
   },
   "outputs": [
    {
     "data": {
      "text/plain": [
       "<matplotlib.image.AxesImage at 0x7fd8702650b8>"
      ]
     },
     "execution_count": 39,
     "metadata": {},
     "output_type": "execute_result"
    },
    {
     "data": {
      "image/png": "[encoded data removed]",
      "text/plain": [
       "<Figure size 432x288 with 1 Axes>"
      ]
     },
     "metadata": {},
     "output_type": "display_data"
    }
   ],
   "source": [
    "plt.imshow(V_sfa)"
   ]
  },
  {
   "cell_type": "code",
   "execution_count": null,
   "metadata": {},
   "outputs": [],
   "source": []
  }
 ],
 "metadata": {
  "kernelspec": {
   "display_name": "Python [conda env:neuro3]",
   "language": "python",
   "name": "conda-env-neuro3-py"
  },
  "language_info": {
   "codemirror_mode": {
    "name": "ipython",
    "version": 3
   },
   "file_extension": ".py",
   "mimetype": "text/x-python",
   "name": "python",
   "nbconvert_exporter": "python",
   "pygments_lexer": "ipython3",
   "version": "3.6.8"
  }
 },
 "nbformat": 4,
 "nbformat_minor": 2
}
