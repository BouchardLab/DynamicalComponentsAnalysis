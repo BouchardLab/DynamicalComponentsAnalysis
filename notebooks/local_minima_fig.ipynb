{
 "cells": [
  {
   "cell_type": "code",
   "execution_count": 73,
   "metadata": {},
   "outputs": [],
   "source": [
    "import numpy as np\n",
    "import matplotlib.pyplot as plt\n",
    "import scipy.stats\n",
    "import h5py\n",
    "from mpl_toolkits import mplot3d\n",
    "\n",
    "from cca.synth_data import embedded_lorenz_cross_cov_mats, oscillators_dynamics_mat, oscillators_cross_cov_mats, sample_oscillators\n",
    "\n",
    "import cca.synth_data"
   ]
  },
  {
   "cell_type": "code",
   "execution_count": 2,
   "metadata": {},
   "outputs": [],
   "source": [
    "def gen_heatmap(cross_cov_mats, N_theta=100):\n",
    "    N_phi = 2*N_theta\n",
    "    theta = np.linspace(0, np.pi, N_theta)\n",
    "    phi = np.linspace(0, 2*np.pi, N_phi)\n",
    "    \n",
    "    heatmap = np.zeros((N_theta, N_phi))\n",
    "    \n",
    "    def pi_val(theta, phi):\n",
    "        x = np.cos(phi)*np.sin(theta)\n",
    "        y = np.sin(phi)*np.sin(theta)\n",
    "        z = np.cos(theta)\n",
    "        v = np.array([x, y, z]).reshape((3, 1))\n",
    "        pi = cca.cov_util.calc_pi_from_cross_cov_mats(cross_cov_mats, proj=v)\n",
    "        return pi\n",
    "    \n",
    "    for theta_idx in range(N_theta):\n",
    "        for phi_idx in range(N_phi):\n",
    "            pi = pi_val(theta[theta_idx], phi[phi_idx])\n",
    "            heatmap[theta_idx, phi_idx] = pi\n",
    "            \n",
    "    return heatmap\n",
    "\n",
    "def find_local_maxima_2d(Z, tol=1e-6):\n",
    "    peaks = []\n",
    "    n_i, n_j = Z.shape\n",
    "    for i in range(n_i):\n",
    "        for j in range(n_j):\n",
    "            if i in [0, n_i-1] or j in [0, n_j-1]:\n",
    "                continue\n",
    "            val = Z[i, j]\n",
    "            patch = Z[i-1:i+2, j-1:j+2].flatten()\n",
    "            if val > np.max(patch[:4]) + tol and val > np.max(patch[5:]) + tol:\n",
    "                peaks.append([i, j])\n",
    "    return peaks\n",
    "\n",
    "def find_global_maxima_2d(Z, tol):\n",
    "    local_maxima = find_local_maxima_2d(Z)\n",
    "    max_val = np.max( [Z[i,j] for (i,j) in local_maxima] )\n",
    "    peaks = []\n",
    "    for (i, j) in local_maxima:\n",
    "        if np.abs(Z[i, j] - max_val) <= tol:\n",
    "            peaks.append([i, j])\n",
    "    return peaks\n",
    "\n",
    "\n",
    "def disp_heatmap(ax, heatmap, show_xlabels=True, show_ylabels=True, title=None):\n",
    "    N_theta, N_phi = heatmap.shape\n",
    "    im = ax.imshow(heatmap, origin=\"lower left\", cmap=\"gray\")\n",
    "    if show_xlabels:\n",
    "        ax.set_xlabel(\"$\\phi$\", fontsize=16, labelpad=-3)\n",
    "        ax.set_xticks([0, N_phi/2, N_phi-1])\n",
    "        ax.set_xticklabels([\"0\", \"$\\pi$\", \"$2\\pi$\"], fontsize=14)\n",
    "    else:\n",
    "        ax.set_xticks([])\n",
    "    if show_ylabels:\n",
    "        ax.set_ylabel(\"$\\\\theta$\", fontsize=16, labelpad=-10)\n",
    "        ax.set_yticks([0, N_theta-1])\n",
    "        ax.set_yticklabels([\"0\", \"$\\pi$\"], fontsize=14)\n",
    "    else:\n",
    "        ax.set_yticks([])\n",
    "\n",
    "    peaks = find_local_maxima_2d(heatmap)\n",
    "    vals_at_peaks = np.array([heatmap[i,j] for (i,j) in peaks])\n",
    "    \n",
    "    global_maxima = find_global_maxima_2d(heatmap, tol=0.01)\n",
    "    if len(global_maxima) == 1:\n",
    "        #add reflection...\n",
    "        pt = global_maxima[0]\n",
    "        if pt[1] < N_phi/2:\n",
    "            pt_refl = (N_theta - pt[0], pt[1] + N_phi/2)\n",
    "        else:\n",
    "            pt_refl = (N_theta - pt[0], pt[1] - N_phi/2)\n",
    "        global_maxima = [pt, pt_refl]\n",
    "                \n",
    "    for (i, j) in peaks:\n",
    "        if (i, j) in global_maxima:\n",
    "            continue\n",
    "        ax.scatter(j, i, s=15, color=\"red\")\n",
    "        \n",
    "    for (i, j) in global_maxima:\n",
    "        ax.scatter(j, i, s=40, marker=\"X\", color=\"blue\")\n",
    "    \n",
    "    ax.set_xlim([0, heatmap.shape[1]-1])\n",
    "    ax.set_ylim([0, heatmap.shape[0]-1])\n",
    "        \n",
    "    #cbar = fig.colorbar(im, ax=ax)\n",
    "    if title is not None:\n",
    "        ax.set_title(title, fontsize=12)\n",
    "    #cbar.set_label('PI [bits]', rotation=90, fontsize=14, labelpad=10)\n",
    "    \n",
    "    return vals_at_peaks\n",
    "\n"
   ]
  },
  {
   "cell_type": "code",
   "execution_count": 70,
   "metadata": {},
   "outputs": [
    {
     "name": "stdout",
     "output_type": "stream",
     "text": [
      "Warning: non-PSD matrix (had to increase eigenvalues)\n"
     ]
    }
   ],
   "source": [
    "lorenz_cross_cov_mats = embedded_lorenz_cross_cov_mats(N=3, T=30)"
   ]
  },
  {
   "cell_type": "code",
   "execution_count": 106,
   "metadata": {},
   "outputs": [],
   "source": [
    "A = oscillators_dynamics_mat(N=10)\n",
    "osc_cross_cov_mats = oscillators_cross_cov_mats(A, T=6)[:, :3, :3]"
   ]
  },
  {
   "cell_type": "code",
   "execution_count": 107,
   "metadata": {},
   "outputs": [
    {
     "name": "stdout",
     "output_type": "stream",
     "text": [
      "[[11, 53], [12, 50], [13, 48], [17, 17], [17, 83], [32, 34], [32, 66], [38, 3]]\n"
     ]
    },
    {
     "data": {
      "image/png": "[encoded data removed]",
      "text/plain": [
       "<Figure size 432x288 with 1 Axes>"
      ]
     },
     "metadata": {
      "needs_background": "light"
     },
     "output_type": "display_data"
    }
   ],
   "source": [
    "N_theta = 50\n",
    "heatmap = gen_heatmap(osc_cross_cov_mats, N_theta=N_theta)\n",
    "peaks = find_local_maxima_2d(heatmap, tol=0)\n",
    "\n",
    "plt.imshow(heatmap[:, :heatmap.shape[1] // 2])\n",
    "#plt.colorbar()\n",
    "print(peaks)\n",
    "for pt in peaks:\n",
    "    if pt[1] < heatmap.shape[1]//2:\n",
    "        plt.scatter(pt[1], pt[0], c=\"red\", s=40)\n"
   ]
  },
  {
   "cell_type": "code",
   "execution_count": 290,
   "metadata": {},
   "outputs": [
    {
     "data": {
      "text/plain": [
       "array([[ 0.4608358 ,  0.60978925,  0.00261494],\n",
       "       [ 0.19776543,  0.28169344,  0.0049595 ],\n",
       "       [ 0.00434419,  0.0185978 , -0.33902782]])"
      ]
     },
     "execution_count": 290,
     "metadata": {},
     "output_type": "execute_result"
    }
   ],
   "source": [
    "cross_cov_mats[1]"
   ]
  },
  {
   "cell_type": "code",
   "execution_count": 58,
   "metadata": {},
   "outputs": [
    {
     "name": "stdout",
     "output_type": "stream",
     "text": [
      "(3, 3)\n"
     ]
    }
   ],
   "source": [
    "R = scipy.stats.ortho_group.rvs(3)\n",
    "A = scipy.linalg.orth(np.eye(3) - np.dot(R, R.T))\n",
    "\n",
    "np.linalg.matrix_rank(A)\n",
    "print(A.shape)"
   ]
  },
  {
   "cell_type": "code",
   "execution_count": 57,
   "metadata": {},
   "outputs": [
    {
     "data": {
      "text/plain": [
       "array([[ 5.55111512e-16, -7.11524830e-17, -6.00131945e-17],\n",
       "       [-7.11524830e-17,  1.11022302e-16, -1.20829896e-16],\n",
       "       [-6.00131945e-17, -1.20829896e-16,  0.00000000e+00]])"
      ]
     },
     "execution_count": 57,
     "metadata": {},
     "output_type": "execute_result"
    }
   ],
   "source": [
    "np.eye(3) - np.dot(R, R.T)"
   ]
  },
  {
   "cell_type": "code",
   "execution_count": null,
   "metadata": {},
   "outputs": [],
   "source": []
  }
 ],
 "metadata": {
  "kernelspec": {
   "display_name": "Python 3",
   "language": "python",
   "name": "python3"
  },
  "language_info": {
   "codemirror_mode": {
    "name": "ipython",
    "version": 3
   },
   "file_extension": ".py",
   "mimetype": "text/x-python",
   "name": "python",
   "nbconvert_exporter": "python",
   "pygments_lexer": "ipython3",
   "version": "3.7.2"
  }
 },
 "nbformat": 4,
 "nbformat_minor": 2
}
