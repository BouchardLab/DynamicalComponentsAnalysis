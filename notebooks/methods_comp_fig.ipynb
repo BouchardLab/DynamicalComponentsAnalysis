{
 "cells": [
  {
   "cell_type": "code",
   "execution_count": 6,
   "metadata": {},
   "outputs": [],
   "source": [
    "import numpy as np\n",
    "import matplotlib.pyplot as plt\n",
    "import scipy\n",
    "from cca.synth_data import embedded_lorenz_cross_cov_mats, oscillators_dynamics_mat, oscillators_cross_cov_mats\n",
    "from cca import style, ComplexityComponentsAnalysis"
   ]
  },
  {
   "cell_type": "code",
   "execution_count": 19,
   "metadata": {},
   "outputs": [],
   "source": [
    "def calc_neg_sqrt(X, min_eigval=1e-5):\n",
    "    w, V = scipy.linalg.eigh(X)\n",
    "    if np.min(w) < min_eigval:\n",
    "        w += (-np.min(w) + min_eigval)\n",
    "    cov_neg_sqrt = V.dot(np.diag(1. / np.sqrt(w))).dot(V.T)\n",
    "    return cov_neg_sqrt\n",
    "\n",
    "def cca_proj(cov_11, cov_12):\n",
    "    cov_neg_sqrt = calc_neg_sqrt(cov_11)\n",
    "    to_svd = cov_neg_sqrt.dot(cov_12).dot(cov_neg_sqrt)\n",
    "    U, s, Vt = scipy.linalg.svd(to_svd)\n",
    "    V = Vt.T\n",
    "    U = np.dot(cov_neg_sqrt, U)\n",
    "    V = np.dot(cov_neg_sqrt, V)\n",
    "    U /= np.sqrt(np.sum(U**2, axis=0))\n",
    "    V /= np.sqrt(np.sum(V**2, axis=0))\n",
    "    return U, V\n",
    "\n",
    "def sfa_proj(cov_11, cov_12):\n",
    "    cov_neg_sqrt = calc_neg_sqrt(cov_11)\n",
    "    cov_sym = cov_12 + cov_12.T\n",
    "    to_pca = cov_neg_sqrt.dot(cov_sym).dot(cov_neg_sqrt)\n",
    "    w, V = scipy.linalg.eigh(to_pca)\n",
    "    V = V[:, np.argsort(np.abs(w))[::-1]]\n",
    "    V = np.dot(cov_neg_sqrt, V)\n",
    "    V /= np.sqrt(np.sum(V**2, axis=0))\n",
    "    return V\n",
    "\n",
    "def pca_proj(cov):\n",
    "    _, V = scipy.linalg.eigh(cov)\n",
    "    V = V[:, ::-1]\n",
    "    return V\n",
    "\n",
    "def dca_proj(cov_11, cov_12, d, n_init=1):\n",
    "    opt = ComplexityComponentsAnalysis(init=\"random\")\n",
    "    opt.cross_covs = np.array([cov_11, cov_12.T])\n",
    "    opt.fit_projection(d=d, n_init=n_init)\n",
    "    V = opt.coef_\n",
    "    return V\n",
    "\n",
    "def quad_mat(A, B, C, D):\n",
    "    top = np.concatenate((A, B), axis=1)\n",
    "    bottom = np.concatenate((C, D), axis=1)\n",
    "    mat = np.concatenate((top, bottom), axis=0)\n",
    "    return mat\n",
    "\n",
    "def calc_pi(cov_11, cov_12, U, V):\n",
    "    proj_cov_11 = U.T.dot(cov_11).dot(U)\n",
    "    proj_cov_22 = V.T.dot(cov_11).dot(V)\n",
    "    proj_cov_12 = U.T.dot(cov_12).dot(V)\n",
    "    proj_cov_21 = proj_cov_12.T\n",
    "    cov_full = quad_mat(proj_cov_11, proj_cov_12, proj_cov_21, proj_cov_22)\n",
    "    d1 = np.linalg.slogdet(proj_cov_11)[1]\n",
    "    d2 = np.linalg.slogdet(proj_cov_22)[1]\n",
    "    d3 = np.linalg.slogdet(cov_full)[1]\n",
    "    return 0.5 * (d1 + d2 - d3)\n",
    "\n",
    "def mi_vs_dim(cov_11, cov_12, n_init=100):\n",
    "    N = cov_11.shape[0]\n",
    "    method_labels = [\"CCA\", \"DCA\", \"SFA\", \"PCA\"]\n",
    "    pi_vals = np.zeros((len(method_labels), N))\n",
    "    U_cca, V_cca = cca_proj(cov_11, cov_12)\n",
    "    V_pca = pca_proj(cov_11)\n",
    "    V_sfa = sfa_proj(cov_11, cov_12)\n",
    "    for i in range(1, N+1):\n",
    "        print(i)\n",
    "        pi_cca = calc_pi(cov_11, cov_12, U_cca[:, :i], V_cca[:, :i])\n",
    "        V_dca = dca_proj(cov_11, cov_12, i, n_init=n_init)\n",
    "        pi_dca = calc_pi(cov_11, cov_12, V_dca, V_dca)\n",
    "        pi_pca = calc_pi(cov_11, cov_12, V_pca[:, :i], V_pca[:, :i])\n",
    "        pi_sfa = calc_pi(cov_11, cov_12, V_sfa[:, :i], V_sfa[:, :i])\n",
    "        pi_vals[:, i-1] = [pi_cca, pi_dca, pi_sfa, pi_pca]\n",
    "    return pi_vals, method_labels\n",
    "\n",
    "def load_neural_data():\n",
    "    dirname = \"/home/davidclark/Projects/ComplexityComponentsAnalysis/data/sabes/\"\n",
    "    #dirname = \"/Users/davidclark/Projects/ComplexityComponentsAnalysis/data/sabes/\"\n",
    "    session = \"indy_20160627_01.mat\"\n",
    "    filename = dirname + session\n",
    "    results = load_sabes_data(filename, bin_width_s=.100)\n",
    "    spikes = results[\"M1\"]\n",
    "    spikes = spikes[:, spikes.sum(axis=0) > 5000]\n",
    "    sqrt_spikes = np.sqrt(spikes)\n",
    "    sqrt_spikes_ctd = moving_center(sqrt_spikes, n=1200)\n",
    "    cursor = results[\"cursor\"]"
   ]
  },
  {
   "cell_type": "code",
   "execution_count": 8,
   "metadata": {},
   "outputs": [
    {
     "data": {
      "text/plain": [
       "(<matplotlib.axes._axes.Axes at 0x7f50a70b6550>,\n",
       " <matplotlib.axes._axes.Axes at 0x7f50a7068630>)"
      ]
     },
     "execution_count": 8,
     "metadata": {},
     "output_type": "execute_result"
    },
    {
     "data": {
      "image/png": "[encoded data removed]",
      "text/plain": [
       "<Figure size 216x72 with 2 Axes>"
      ]
     },
     "metadata": {},
     "output_type": "display_data"
    }
   ],
   "source": [
    "def make_axes(fig_width, fig_height, wpad_edge=0, wpad_mid=0, hpad_bottom=0, hpad_top=0):\n",
    "    fig = plt.figure(figsize=(fig_width, fig_height))\n",
    "    ax_width = (1. - 2*wpad_edge - wpad_mid)/2.\n",
    "    ax_height = 1. - hpad_top - hpad_bottom     \n",
    "    ax_left = fig.add_axes(( wpad_edge, hpad_bottom, ax_width, ax_height ))\n",
    "    ax_right = fig.add_axes(( wpad_edge + ax_width + wpad_mid, hpad_bottom, ax_width, ax_height ))   \n",
    "    \n",
    "    plt.gcf().text(wpad_edge/2, hpad_bottom + ax_height,\n",
    "               \"A\", va=\"bottom\", ha=\"right\", color=\"black\",\n",
    "                   **style.panel_letter_fontstyle)\n",
    "    plt.gcf().text(wpad_edge + ax_width + wpad_mid - wpad_edge/2, hpad_bottom + ax_height,\n",
    "           \"B\", va=\"bottom\", ha=\"right\", color=\"black\",\n",
    "               **style.panel_letter_fontstyle)\n",
    "    \n",
    "    return ax_left, ax_right\n",
    "\n",
    "def cycle_from_style(scheme):\n",
    "    return [color_dict[\"color\"] for color_dict in plt.style.library[scheme]['axes.prop_cycle']]\n",
    "\n",
    "method_colors = [\"black\", \"red\", \"coral\", \"gray\"]\n",
    "def plot_mi_vs_dim(mi_vals, labels, ax=None, legend=False, xlabel=False, max_dim=None, title=None):\n",
    "    if ax is None:\n",
    "        fig, ax = plt.subplots(1, 1, figsize=(5, 3))\n",
    "    num_methods, N = mi_vals.shape\n",
    "    if max_dim is None:\n",
    "        max_dim = N\n",
    "    pi_from_zero = np.concatenate((np.zeros(num_methods).reshape((num_methods, 1)), mi_vals[:, :max_dim]), axis=1)\n",
    "    dims = np.arange(max_dim + 1)\n",
    "    max_mi = np.max(mi_vals)\n",
    "    \n",
    "    diag_x_vals = np.linspace(0, max_dim, 1000)\n",
    "    diag_y_vals = (max_mi / max_dim)*diag_x_vals \n",
    "    ax.plot(diag_x_vals, diag_y_vals, c=\"black\", linestyle=\"--\", linewidth=1)\n",
    "    ypad = 0.05 * max_mi\n",
    "    ax.set_ylim([0, max_mi*1.05])\n",
    "    ax.set_xlim([0, max_dim*1.02])\n",
    "    \n",
    "    xticks = np.arange(0, max_dim + 1, 5, dtype=np.int)\n",
    "    ax.set_xticks(xticks)\n",
    "    ax.set_xticklabels(xticks, fontsize=style.ticklabel_fontsize)\n",
    "    \n",
    "    yticks = [0, max_mi]\n",
    "    max_ylabel = str(np.round(max_mi, 1))\n",
    "    while len(max_ylabel) < 4:\n",
    "        max_ylabel = \"  \" + max_ylabel\n",
    "    ytick_labels = [\"0\", max_ylabel]\n",
    "    ax.set_yticks(yticks)\n",
    "    ax.set_yticklabels(ytick_labels, fontsize=style.ticklabel_fontsize)\n",
    "    ax.tick_params(axis='y', which='major', pad=1)\n",
    "    \n",
    "    ax.spines['right'].set_visible(False)\n",
    "    ax.spines['top'].set_visible(False)\n",
    "    ax.spines['left'].set_bounds(0, max_mi)\n",
    "    ax.spines['bottom'].set_bounds(0, max_dim)\n",
    "    \n",
    "    for i in range(num_methods):\n",
    "        linewidth = 1 if labels[i] == \"CCA\" else 0.75\n",
    "        markersize = 3 if labels[i] == \"CCA\" else 2\n",
    "        ax.plot(dims, pi_from_zero[i], label=labels[i], linewidth=linewidth,\n",
    "                color=method_colors[i], marker=\".\", markersize=markersize)\n",
    "    if legend:\n",
    "        ax.legend(loc=\"upper left\", fontsize=style.ticklabel_fontsize*0.9,\n",
    "                  frameon=False, ncol=2, labelspacing=0.1, columnspacing=0.6,\n",
    "                  bbox_to_anchor=(0.0, 0, 1, 1))\n",
    "    if xlabel:\n",
    "        ax.set_xlabel(\"dimensions retained\", fontsize=style.axis_label_fontsize, labelpad=1)\n",
    "    ax.set_ylabel(\"MI (nats)\", fontsize=style.axis_label_fontsize, labelpad=-style.axis_label_fontsize/2)\n",
    "    if title is not None:\n",
    "        ax.set_title(title, fontsize=style.axis_label_fontsize, pad=3)\n",
    "        \n",
    "make_axes(3, 1, wpad_edge=0, wpad_mid=0, hpad_bottom=0, hpad_top=0)\n"
   ]
  },
  {
   "cell_type": "code",
   "execution_count": 4,
   "metadata": {},
   "outputs": [
    {
     "name": "stdout",
     "output_type": "stream",
     "text": [
      "(30, 27)\n",
      "Warning: non-PSD matrix (had to increase eigenvalues)\n"
     ]
    }
   ],
   "source": [
    "#Analysis 1: get MI vs dim for coupled oscillators and Lorenz attractors\n",
    "\n",
    "#Get cross-cov mats for all systems\n",
    "#Lorenz system\n",
    "lorenz_cross_cov_mats = embedded_lorenz_cross_cov_mats(N=30, T=20, snr=1.)\n",
    "#Oscillator system (10 oscillators --> 20-dimensional state)\n",
    "A = oscillators_dynamics_mat(N=10)\n",
    "osc_cross_cov_mats = oscillators_cross_cov_mats(A, T=20)\n",
    "#Run the 'MI vs. dimensionality' analysis for both systems\n",
    "pi_lorenz, labels = mi_vs_dim(lorenz_cross_cov_mats[0], lorenz_cross_cov_mats[10].T, n_init=1)#=20)\n",
    "pi_osc, _ = mi_vs_dim(osc_cross_cov_mats[0], osc_cross_cov_mats[10].T, n_init=1)#200)"
   ]
  },
  {
   "cell_type": "code",
   "execution_count": null,
   "metadata": {},
   "outputs": [],
   "source": [
    "#Analysis 2: compare DCA and SFA autocorrelation functions on neural data\n",
    "\n"
   ]
  },
  {
   "cell_type": "code",
   "execution_count": 21,
   "metadata": {
    "scrolled": true
   },
   "outputs": [
    {
     "data": {
      "image/png": "[encoded data removed]",
      "text/plain": [
       "<Figure size 288x108 with 2 Axes>"
      ]
     },
     "metadata": {},
     "output_type": "display_data"
    }
   ],
   "source": [
    "#Plot results!\n",
    "\n",
    "ax_left, ax_right = make_axes(4.0, 1.5, wpad_edge=0.1, wpad_mid=0.1, hpad_bottom=0.225, hpad_top=0.125)\n",
    "plot_mi_vs_dim(pi_osc, labels, ax_left, legend=True, title=\"Coupled Oscillators\", xlabel=True)\n",
    "plot_mi_vs_dim(pi_lorenz, labels, ax_right, max_dim=15, title=\"Embedded Lorenz Attractor\", xlabel=True)\n",
    "\n",
    "#plt.savefig(\"figures/methods_comp.pdf\")\n"
   ]
  },
  {
   "cell_type": "code",
   "execution_count": null,
   "metadata": {},
   "outputs": [],
   "source": []
  },
  {
   "cell_type": "code",
   "execution_count": null,
   "metadata": {},
   "outputs": [],
   "source": []
  }
 ],
 "metadata": {
  "kernelspec": {
   "display_name": "Python [conda env:neuro3]",
   "language": "python",
   "name": "conda-env-neuro3-py"
  },
  "language_info": {
   "codemirror_mode": {
    "name": "ipython",
    "version": 3
   },
   "file_extension": ".py",
   "mimetype": "text/x-python",
   "name": "python",
   "nbconvert_exporter": "python",
   "pygments_lexer": "ipython3",
   "version": "3.6.8"
  }
 },
 "nbformat": 4,
 "nbformat_minor": 2
}
