{
 "cells": [
  {
   "cell_type": "code",
   "execution_count": 1,
   "metadata": {},
   "outputs": [],
   "source": [
    "import h5py\n",
    "import numpy as np\n",
    "\n",
    "import matplotlib.pyplot as plt\n",
    "import matplotlib.animation as animation\n",
    "\n",
    "import scipy.stats\n",
    "\n",
    "import torch\n",
    "\n",
    "from cca import ComplexityComponentsAnalysis\n",
    "from cca.cov_util import (calc_pi_from_cross_cov_mats, calc_cov_from_cross_cov_mats,\n",
    "                          project_cross_cov_mats)\n",
    "from skimage.transform import resize\n",
    "from sklearn.decomposition import PCA\n",
    "from sklearn.linear_model import LinearRegression as LR"
   ]
  },
  {
   "cell_type": "code",
   "execution_count": 2,
   "metadata": {},
   "outputs": [],
   "source": [
    "T_pi = 5"
   ]
  },
  {
   "cell_type": "code",
   "execution_count": 3,
   "metadata": {},
   "outputs": [],
   "source": [
    "fname = '/storage/cnmd/insects/bees8-full.h5'\n",
    "fname = '/storage/cnmd/water/waves3.h5'"
   ]
  },
  {
   "cell_type": "code",
   "execution_count": 4,
   "metadata": {},
   "outputs": [],
   "source": [
    "with h5py.File(fname) as f:\n",
    "    imgs = f['imgs'][()].astype(float)\n",
    "mean = imgs.mean(axis=0)"
   ]
  },
  {
   "cell_type": "code",
   "execution_count": 24,
   "metadata": {},
   "outputs": [
    {
     "name": "stderr",
     "output_type": "stream",
     "text": [
      "/home/jesse/anaconda3/envs/dca/lib/python3.6/site-packages/skimage/transform/_warps.py:105: UserWarning: The default mode, 'constant', will be changed to 'reflect' in skimage 0.15.\n",
      "  warn(\"The default mode, 'constant', will be changed to 'reflect' in \"\n"
     ]
    }
   ],
   "source": [
    "imgs_small = resize(imgs, (imgs.shape[0]//3, 16, 16), anti_aliasing=True)\n",
    "X = imgs_small.reshape(imgs_small.shape[0], -1).astype(float)\n",
    "n_samples = X.shape[0]\n",
    "split_idx = int(n_samples * .9)\n",
    "train = X[:split_idx - T_pi]\n",
    "test = X[split_idx + T_pi:]\n",
    "train_mean = train.mean(axis=0, keepdims=True)\n",
    "train -= train_mean\n",
    "test -= train_mean"
   ]
  },
  {
   "cell_type": "code",
   "execution_count": 25,
   "metadata": {},
   "outputs": [],
   "source": [
    "def eval(trainp, trainf, testp, testf, lags):\n",
    "    results = np.zeros((lags.size, 2))\n",
    "    for ii, lag in enumerate(lags):\n",
    "        model = LR(fit_intercept=False).fit(trainp[:-lag], trainf[lag:])\n",
    "        results[ii] = model.score(trainp[:-lag], trainf[lag:]), model.score(testp[:-lag], testf[lag:])\n",
    "    return results"
   ]
  },
  {
   "cell_type": "code",
   "execution_count": 30,
   "metadata": {
    "scrolled": true
   },
   "outputs": [
    {
     "name": "stdout",
     "output_type": "stream",
     "text": [
      "2\n",
      "[[[0.49401256 0.45155266]\n",
      "  [0.31550441 0.24666142]\n",
      "  [0.12563969 0.02364733]]\n",
      "\n",
      " [[0.48397745 0.44087915]\n",
      "  [0.30623079 0.23850028]\n",
      "  [0.12307867 0.02224606]]]\n",
      "4\n",
      "[[[0.52084147 0.4851397 ]\n",
      "  [0.33042914 0.26538436]\n",
      "  [0.13120399 0.03346759]]\n",
      "\n",
      " [[0.51453643 0.47360417]\n",
      "  [0.32115196 0.24725704]\n",
      "  [0.12691912 0.0219473 ]]]\n",
      "6\n",
      "[[[0.53412478 0.50449927]\n",
      "  [0.33741963 0.2783836 ]\n",
      "  [0.13791138 0.05496901]]\n",
      "\n",
      " [[0.53074496 0.49999157]\n",
      "  [0.33305096 0.27466676]\n",
      "  [0.13411243 0.05011257]]]\n",
      "8\n",
      "[[[0.54022268 0.50748382]\n",
      "  [0.34285613 0.27648357]\n",
      "  [0.14303046 0.05299129]]\n",
      "\n",
      " [[0.53813401 0.50669008]\n",
      "  [0.3401302  0.27702967]\n",
      "  [0.14093586 0.05416707]]]\n",
      "10\n",
      "[[[0.54234262 0.5085892 ]\n",
      "  [0.34405982 0.27435883]\n",
      "  [0.144549   0.05050576]]\n",
      "\n",
      " [[0.54026975 0.50960975]\n",
      "  [0.3409377  0.27795428]\n",
      "  [0.14171334 0.05568731]]]\n",
      "12\n",
      "[[[0.54358416 0.50978486]\n",
      "  [0.34454493 0.27388834]\n",
      "  [0.1448342  0.05037294]]\n",
      "\n",
      " [[0.54316548 0.51063133]\n",
      "  [0.34364017 0.2759695 ]\n",
      "  [0.1446635  0.05256034]]]\n",
      "14\n",
      "[[[0.54555583 0.51121092]\n",
      "  [0.34615807 0.27322048]\n",
      "  [0.14576247 0.05097341]]\n",
      "\n",
      " [[0.54439409 0.51114909]\n",
      "  [0.34445822 0.27394807]\n",
      "  [0.14500034 0.05046476]]]\n",
      "16\n",
      "[[[0.5462672  0.51210834]\n",
      "  [0.34661523 0.27469008]\n",
      "  [0.14639308 0.0536947 ]]\n",
      "\n",
      " [[0.54611096 0.51167771]\n",
      "  [0.34655008 0.27429242]\n",
      "  [0.14711998 0.05545897]]]\n",
      "18\n",
      "[[[0.54696447 0.51246411]\n",
      "  [0.34730015 0.27460419]\n",
      "  [0.14750488 0.05568883]]\n",
      "\n",
      " [[0.54663983 0.5119341 ]\n",
      "  [0.34682825 0.27400672]\n",
      "  [0.1475956  0.05523653]]]\n"
     ]
    }
   ],
   "source": [
    "dims = np.arange(2, 20, 2)\n",
    "lags = np.array([5, 10, 20])\n",
    "\n",
    "results = np.zeros((2, dims.size, lags.size, 2))\n",
    "\n",
    "dca_model = ComplexityComponentsAnalysis(T=T_pi)\n",
    "dca_model.estimate_cross_covariance(train) #, regularization='kron')\n",
    "\n",
    "for ii, d in enumerate(dims):\n",
    "    print(d)\n",
    "    pca_model = PCA(d).fit(train)\n",
    "    trainp = pca_model.transform(train)\n",
    "    testp = pca_model.transform(test)\n",
    "    results[0, ii] = eval(trainp, train, testp, test, lags)\n",
    "    dca_model.fit_projection(d=d)\n",
    "    trainp = dca_model.transform(train)\n",
    "    testp = dca_model.transform(test)\n",
    "    results[1, ii] = eval(trainp, train, testp, test, lags)\n",
    "    print(results[:, ii])"
   ]
  },
  {
   "cell_type": "code",
   "execution_count": 31,
   "metadata": {},
   "outputs": [
    {
     "data": {
      "text/plain": [
       "[<matplotlib.lines.Line2D at 0x7f28cb1c1be0>]"
      ]
     },
     "execution_count": 31,
     "metadata": {},
     "output_type": "execute_result"
    },
    {
     "data": {
      "image/png": "[encoded data removed]",
      "text/plain": [
       "<Figure size 432x432 with 1 Axes>"
      ]
     },
     "metadata": {
      "needs_background": "light"
     },
     "output_type": "display_data"
    }
   ],
   "source": [
    "f, ax = plt.subplots(1, figsize=(6, 6))\n",
    "ax.scatter(results[0, :, :, 1].ravel(), results[1, :, :, 1].ravel())\n",
    "ax.plot([0, 1.], [0, 1])"
   ]
  },
  {
   "cell_type": "code",
   "execution_count": 28,
   "metadata": {},
   "outputs": [
    {
     "data": {
      "text/plain": [
       "(array([ 1.,  1.,  0.,  1.,  1.,  2.,  8., 19.,  4.,  2.]),\n",
       " array([-0.01067433, -0.00939836, -0.0081224 , -0.00684643, -0.00557046,\n",
       "        -0.0042945 , -0.00301853, -0.00174256, -0.0004666 ,  0.00080937,\n",
       "         0.00208534]),\n",
       " <a list of 10 Patch objects>)"
      ]
     },
     "execution_count": 28,
     "metadata": {},
     "output_type": "execute_result"
    },
    {
     "data": {
      "image/png": "[encoded data removed]",
      "text/plain": [
       "<Figure size 432x288 with 1 Axes>"
      ]
     },
     "metadata": {
      "needs_background": "light"
     },
     "output_type": "display_data"
    }
   ],
   "source": [
    "plt.hist((results[1, :, :, 1] - results[0, :, :, 1]).ravel())"
   ]
  },
  {
   "cell_type": "code",
   "execution_count": null,
   "metadata": {},
   "outputs": [],
   "source": []
  }
 ],
 "metadata": {
  "kernelspec": {
   "display_name": "Python 3",
   "language": "python",
   "name": "python3"
  },
  "language_info": {
   "codemirror_mode": {
    "name": "ipython",
    "version": 3
   },
   "file_extension": ".py",
   "mimetype": "text/x-python",
   "name": "python",
   "nbconvert_exporter": "python",
   "pygments_lexer": "ipython3",
   "version": "3.6.8"
  }
 },
 "nbformat": 4,
 "nbformat_minor": 2
}
