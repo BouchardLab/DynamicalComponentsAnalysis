{
 "cells": [
  {
   "cell_type": "code",
   "execution_count": 1,
   "metadata": {},
   "outputs": [],
   "source": [
    "import h5py, os\n",
    "import numpy as np\n",
    "import matplotlib.pyplot as plt\n",
    "from imp import reload\n",
    "import pandas as pd\n",
    "\n",
    "from cca import analysis\n",
    "from cca import plotting\n",
    "from cca import data_util\n",
    "from cca import style"
   ]
  },
  {
   "cell_type": "code",
   "execution_count": 8,
   "metadata": {},
   "outputs": [],
   "source": [
    "reload(data_util)\n",
    "M1 = data_util.load_sabes_data('neural/indy_20160627_01.mat')"
   ]
  },
  {
   "cell_type": "code",
   "execution_count": 9,
   "metadata": {},
   "outputs": [],
   "source": [
    "reload(data_util)\n",
    "HC = data_util.load_kording_paper_data('neural/example_data_hc.pickle')"
   ]
  },
  {
   "cell_type": "code",
   "execution_count": 4,
   "metadata": {},
   "outputs": [
    {
     "name": "stdout",
     "output_type": "stream",
     "text": [
      "(67258, 109)\n",
      "(27854, 55)\n"
     ]
    }
   ],
   "source": [
    "print(M1['M1'].shape)\n",
    "print(HC['neural'].shape)"
   ]
  },
  {
   "cell_type": "code",
   "execution_count": 14,
   "metadata": {},
   "outputs": [],
   "source": [
    "T_pi_vals = np.array([5])\n",
    "\n",
    "m1_dims = np.arange(1, M1['M1'].shape[1]+1)\n",
    "hc_dims = np.arange(1, HC['neural'].shape[1]+1)\n",
    "\n",
    "offsets = np.array([5])\n",
    "\n",
    "win = 3\n",
    "n_cv = 5\n",
    "n_init = 5"
   ]
  },
  {
   "cell_type": "code",
   "execution_count": null,
   "metadata": {
    "scrolled": true
   },
   "outputs": [
    {
     "name": "stdout",
     "output_type": "stream",
     "text": [
      "fold 1 of 5\n",
      "dim 1 of 109\n",
      "dim 2 of 109\n",
      "dim 3 of 109\n",
      "dim 4 of 109\n",
      "dim 5 of 109\n",
      "dim 6 of 109\n",
      "dim 7 of 109\n",
      "dim 8 of 109\n",
      "dim 9 of 109\n",
      "dim 10 of 109\n",
      "dim 11 of 109\n",
      "dim 12 of 109\n",
      "dim 13 of 109\n",
      "dim 14 of 109\n",
      "dim 15 of 109\n",
      "dim 16 of 109\n",
      "dim 17 of 109\n",
      "dim 18 of 109\n",
      "dim 19 of 109\n",
      "dim 20 of 109\n",
      "dim 21 of 109\n",
      "dim 22 of 109\n",
      "dim 23 of 109\n",
      "dim 24 of 109\n",
      "dim 25 of 109\n",
      "dim 26 of 109\n",
      "dim 27 of 109\n",
      "dim 28 of 109\n",
      "dim 29 of 109\n",
      "dim 30 of 109\n",
      "dim 31 of 109\n",
      "dim 32 of 109\n",
      "dim 33 of 109\n",
      "dim 34 of 109\n",
      "dim 35 of 109\n",
      "dim 36 of 109\n",
      "dim 37 of 109\n",
      "dim 38 of 109\n",
      "dim 39 of 109\n",
      "dim 40 of 109\n",
      "dim 41 of 109\n",
      "dim 42 of 109\n",
      "dim 43 of 109\n",
      "dim 44 of 109\n",
      "dim 45 of 109\n",
      "dim 46 of 109\n",
      "dim 47 of 109\n",
      "dim 48 of 109\n",
      "dim 49 of 109\n",
      "dim 50 of 109\n",
      "dim 51 of 109\n",
      "dim 52 of 109\n",
      "dim 53 of 109\n",
      "dim 54 of 109\n",
      "dim 55 of 109\n",
      "dim 56 of 109\n",
      "dim 57 of 109\n",
      "dim 58 of 109\n",
      "dim 59 of 109\n",
      "dim 60 of 109\n",
      "dim 61 of 109\n",
      "dim 62 of 109\n",
      "dim 63 of 109\n",
      "dim 64 of 109\n",
      "dim 65 of 109\n",
      "dim 66 of 109\n",
      "dim 67 of 109\n",
      "dim 68 of 109\n",
      "dim 69 of 109\n",
      "dim 70 of 109\n",
      "dim 71 of 109\n",
      "dim 72 of 109\n",
      "dim 73 of 109\n",
      "dim 74 of 109\n",
      "dim 75 of 109\n",
      "dim 76 of 109\n",
      "dim 77 of 109\n",
      "dim 78 of 109\n",
      "dim 79 of 109\n",
      "dim 80 of 109\n",
      "dim 81 of 109\n",
      "dim 82 of 109\n",
      "dim 83 of 109\n",
      "dim 84 of 109\n",
      "dim 85 of 109\n",
      "dim 86 of 109\n",
      "dim 87 of 109\n",
      "dim 88 of 109\n",
      "dim 89 of 109\n",
      "dim 90 of 109\n",
      "dim 91 of 109\n",
      "dim 92 of 109\n",
      "dim 93 of 109\n",
      "dim 94 of 109\n",
      "dim 95 of 109\n",
      "dim 96 of 109\n",
      "dim 97 of 109\n",
      "dim 98 of 109\n",
      "dim 99 of 109\n",
      "dim 100 of 109\n",
      "dim 101 of 109\n",
      "dim 102 of 109\n",
      "dim 103 of 109\n",
      "dim 104 of 109\n",
      "dim 105 of 109\n",
      "dim 106 of 109\n",
      "dim 107 of 109\n",
      "dim 108 of 109\n",
      "dim 109 of 109\n",
      "fold 2 of 5\n",
      "dim 1 of 109\n",
      "dim 2 of 109\n",
      "dim 3 of 109\n",
      "dim 4 of 109\n",
      "dim 5 of 109\n",
      "dim 6 of 109\n",
      "dim 7 of 109\n",
      "dim 8 of 109\n",
      "dim 9 of 109\n",
      "dim 10 of 109\n",
      "dim 11 of 109\n",
      "dim 12 of 109\n",
      "dim 13 of 109\n",
      "dim 14 of 109\n",
      "dim 15 of 109\n",
      "dim 16 of 109\n",
      "dim 17 of 109\n",
      "dim 18 of 109\n",
      "dim 19 of 109\n",
      "dim 20 of 109\n",
      "dim 21 of 109\n",
      "dim 22 of 109\n",
      "dim 23 of 109\n",
      "dim 24 of 109\n",
      "dim 25 of 109\n",
      "dim 26 of 109\n",
      "dim 27 of 109\n",
      "dim 28 of 109\n",
      "dim 29 of 109\n",
      "dim 30 of 109\n",
      "dim 31 of 109\n",
      "dim 32 of 109\n",
      "dim 33 of 109\n",
      "dim 34 of 109\n",
      "dim 35 of 109\n",
      "dim 36 of 109\n",
      "dim 37 of 109\n",
      "dim 38 of 109\n",
      "dim 39 of 109\n",
      "dim 40 of 109\n",
      "dim 41 of 109\n",
      "dim 42 of 109\n",
      "dim 43 of 109\n",
      "dim 44 of 109\n",
      "dim 45 of 109\n",
      "dim 46 of 109\n",
      "dim 47 of 109\n",
      "dim 48 of 109\n",
      "dim 49 of 109\n",
      "dim 50 of 109\n",
      "dim 51 of 109\n",
      "dim 52 of 109\n",
      "dim 53 of 109\n",
      "dim 54 of 109\n",
      "dim 55 of 109\n",
      "dim 56 of 109\n",
      "dim 57 of 109\n",
      "dim 58 of 109\n",
      "dim 59 of 109\n",
      "dim 60 of 109\n",
      "dim 61 of 109\n",
      "dim 62 of 109\n",
      "dim 63 of 109\n",
      "dim 64 of 109\n",
      "dim 65 of 109\n",
      "dim 66 of 109\n",
      "dim 67 of 109\n",
      "dim 68 of 109\n",
      "dim 69 of 109\n",
      "dim 70 of 109\n"
     ]
    }
   ],
   "source": [
    "reload(analysis)\n",
    "reload(plotting)\n",
    "\n",
    "M1_results = analysis.run_analysis(M1['M1'], M1['cursor'], T_pi_vals, dim_vals=m1_dims, offset_vals=offsets,\n",
    "                                   num_cv_folds=n_cv, decoding_window=win, n_init=n_init, verbose=True)\n",
    "\n",
    "HC_results = analysis.run_analysis(HC['neural'], HC['loc'], T_pi_vals, dim_vals=hc_dims, offset_vals=offsets,\n",
    "                                   num_cv_folds=n_cv, decoding_window=win, n_init=n_init, verbose=True)"
   ]
  },
  {
   "cell_type": "code",
   "execution_count": null,
   "metadata": {},
   "outputs": [],
   "source": [
    "np.savez('real_data_dim_scan.npz', M1_results=M1_results, HC_results=HC_results)"
   ]
  },
  {
   "cell_type": "code",
   "execution_count": 2,
   "metadata": {},
   "outputs": [],
   "source": [
    "d = np.load('real_data_dim_scan.npz')\n",
    "M1_results = d['M1_results']\n",
    "HC_results = d['HC_results']"
   ]
  },
  {
   "cell_type": "code",
   "execution_count": null,
   "metadata": {
    "scrolled": true
   },
   "outputs": [
    {
     "name": "stdout",
     "output_type": "stream",
     "text": [
      "fold 1 of 5\n",
      "dim 1 of 109\n",
      "dim 2 of 109\n",
      "dim 3 of 109\n",
      "dim 4 of 109\n",
      "dim 5 of 109\n"
     ]
    }
   ],
   "source": [
    "reload(analysis)\n",
    "reload(plotting)\n",
    "\n",
    "T_pi = 5\n",
    "offset = 5\n",
    "\n",
    "M1_results2, null_M1_results = analysis.run_dim_analysis_dca(M1['M1'], M1['cursor'], T_pi, dim_vals=m1_dims, offset=offset,\n",
    "                                   num_cv_folds=n_cv, decoding_window=win, n_init=n_init, verbose=True)\n",
    "\n",
    "HC_results2, null_HC_results = analysis.run_dim_analysis(HC['neural'], HC['loc'], T_pi, dim_vals=hc_dims, offset=offset,\n",
    "                                   num_cv_folds=n_cv, decoding_window=win, n_init=n_init, verbose=True)"
   ]
  },
  {
   "cell_type": "code",
   "execution_count": null,
   "metadata": {},
   "outputs": [],
   "source": [
    "np.savez('real_data_dim_scan2.npz', M1_results2=M1_results2, null_M1_results=null_M1_results,\n",
    "         HC_results2=HC_results2, null_HC_results=null_HC_results)"
   ]
  },
  {
   "cell_type": "code",
   "execution_count": 6,
   "metadata": {},
   "outputs": [
    {
     "ename": "FileNotFoundError",
     "evalue": "[Errno 2] No such file or directory: 'real_data_dim_scan2.npz'",
     "output_type": "error",
     "traceback": [
      "\u001b[0;31m---------------------------------------------------------------------------\u001b[0m",
      "\u001b[0;31mFileNotFoundError\u001b[0m                         Traceback (most recent call last)",
      "\u001b[0;32m<ipython-input-6-47c074e33ddb>\u001b[0m in \u001b[0;36m<module>\u001b[0;34m\u001b[0m\n\u001b[0;32m----> 1\u001b[0;31m \u001b[0md\u001b[0m \u001b[0;34m=\u001b[0m \u001b[0mnp\u001b[0m\u001b[0;34m.\u001b[0m\u001b[0mload\u001b[0m\u001b[0;34m(\u001b[0m\u001b[0;34m'real_data_dim_scan2.npz'\u001b[0m\u001b[0;34m)\u001b[0m\u001b[0;34m\u001b[0m\u001b[0;34m\u001b[0m\u001b[0m\n\u001b[0m\u001b[1;32m      2\u001b[0m \u001b[0mM1_results2\u001b[0m \u001b[0;34m=\u001b[0m \u001b[0md\u001b[0m\u001b[0;34m[\u001b[0m\u001b[0;34m'M1_results2'\u001b[0m\u001b[0;34m]\u001b[0m\u001b[0;34m\u001b[0m\u001b[0;34m\u001b[0m\u001b[0m\n\u001b[1;32m      3\u001b[0m \u001b[0mHC_results2\u001b[0m \u001b[0;34m=\u001b[0m \u001b[0md\u001b[0m\u001b[0;34m[\u001b[0m\u001b[0;34m'HC_results2'\u001b[0m\u001b[0;34m]\u001b[0m\u001b[0;34m\u001b[0m\u001b[0;34m\u001b[0m\u001b[0m\n\u001b[1;32m      4\u001b[0m \u001b[0mnull_M1_results2\u001b[0m \u001b[0;34m=\u001b[0m \u001b[0md\u001b[0m\u001b[0;34m[\u001b[0m\u001b[0;34m'null_M1_results2'\u001b[0m\u001b[0;34m]\u001b[0m\u001b[0;34m\u001b[0m\u001b[0;34m\u001b[0m\u001b[0m\n\u001b[1;32m      5\u001b[0m \u001b[0mnull_HC_results2\u001b[0m \u001b[0;34m=\u001b[0m \u001b[0md\u001b[0m\u001b[0;34m[\u001b[0m\u001b[0;34m'null_HC_results2'\u001b[0m\u001b[0;34m]\u001b[0m\u001b[0;34m\u001b[0m\u001b[0;34m\u001b[0m\u001b[0m\n",
      "\u001b[0;32m~/anaconda3/envs/dca/lib/python3.6/site-packages/numpy/lib/npyio.py\u001b[0m in \u001b[0;36mload\u001b[0;34m(file, mmap_mode, allow_pickle, fix_imports, encoding)\u001b[0m\n\u001b[1;32m    413\u001b[0m         \u001b[0mown_fid\u001b[0m \u001b[0;34m=\u001b[0m \u001b[0;32mFalse\u001b[0m\u001b[0;34m\u001b[0m\u001b[0;34m\u001b[0m\u001b[0m\n\u001b[1;32m    414\u001b[0m     \u001b[0;32melse\u001b[0m\u001b[0;34m:\u001b[0m\u001b[0;34m\u001b[0m\u001b[0;34m\u001b[0m\u001b[0m\n\u001b[0;32m--> 415\u001b[0;31m         \u001b[0mfid\u001b[0m \u001b[0;34m=\u001b[0m \u001b[0mopen\u001b[0m\u001b[0;34m(\u001b[0m\u001b[0mos_fspath\u001b[0m\u001b[0;34m(\u001b[0m\u001b[0mfile\u001b[0m\u001b[0;34m)\u001b[0m\u001b[0;34m,\u001b[0m \u001b[0;34m\"rb\"\u001b[0m\u001b[0;34m)\u001b[0m\u001b[0;34m\u001b[0m\u001b[0;34m\u001b[0m\u001b[0m\n\u001b[0m\u001b[1;32m    416\u001b[0m         \u001b[0mown_fid\u001b[0m \u001b[0;34m=\u001b[0m \u001b[0;32mTrue\u001b[0m\u001b[0;34m\u001b[0m\u001b[0;34m\u001b[0m\u001b[0m\n\u001b[1;32m    417\u001b[0m \u001b[0;34m\u001b[0m\u001b[0m\n",
      "\u001b[0;31mFileNotFoundError\u001b[0m: [Errno 2] No such file or directory: 'real_data_dim_scan2.npz'"
     ]
    }
   ],
   "source": [
    "d = np.load('real_data_dim_scan2.npz')\n",
    "M1_results2 = d['M1_results2']\n",
    "HC_results2 = d['HC_results2']\n",
    "null_M1_results2 = d['null_M1_results2']\n",
    "null_HC_results2 = d['null_HC_results2']"
   ]
  },
  {
   "cell_type": "code",
   "execution_count": 5,
   "metadata": {},
   "outputs": [
    {
     "data": {
      "image/png": "[encoded data removed]",
      "text/plain": [
       "<Figure size 396x180 with 2 Axes>"
      ]
     },
     "metadata": {
      "needs_background": "light"
     },
     "output_type": "display_data"
    }
   ],
   "source": [
    "f, axes = plt.subplots(1, 2, figsize=(5.5, 2.5))\n",
    "\n",
    "ax = axes[0]\n",
    "ax.plot(np.arange(1, M1_results.shape[1]+1), np.squeeze(M1_results[...,2]).mean(axis=0), c='red', label='DCA')\n",
    "ax.plot(np.arange(1, M1_results.shape[1]+1), np.squeeze(M1_results[...,1]).mean(axis=0), c='#1F77B4', label='SFA')\n",
    "ax.plot(np.arange(1, M1_results.shape[1]+1), np.squeeze(M1_results[...,0]).mean(axis=0), c='k', label='PCA')\n",
    "ax.set_ylabel(r'$R^2$')\n",
    "ax.legend(loc='best')\n",
    "ax.set_title('M1', fontsize=style.title_fontsize)\n",
    "\n",
    "ax = axes[1]\n",
    "ax.plot(np.arange(1, HC_results.shape[1]+1), np.squeeze(HC_results[...,0]).mean(axis=0), c='k')\n",
    "ax.plot(np.arange(1, HC_results.shape[1]+1), np.squeeze(HC_results[...,1]).mean(axis=0), c='#1F77B4')\n",
    "ax.plot(np.arange(1, HC_results.shape[1]+1), np.squeeze(HC_results[...,2]).mean(axis=0), c='red')\n",
    "ax.set_title('Hippocampus', fontsize=style.title_fontsize)\n",
    "\n",
    "for ax in axes:\n",
    "    ax.set_xlabel('dimensions retained', fontsize=style.axis_label_fontsize)\n",
    "\n",
    "f.tight_layout()\n",
    "plt.savefig('/home/jesse/Downloads/neural_dim_scan.pdf')"
   ]
  },
  {
   "cell_type": "code",
   "execution_count": 21,
   "metadata": {},
   "outputs": [],
   "source": [
    "from scipy.stats import special_ortho_group as sog"
   ]
  },
  {
   "cell_type": "code",
   "execution_count": 122,
   "metadata": {},
   "outputs": [],
   "source": [
    "dim = 5\n",
    "pdim = 2\n",
    "V = sog.rvs(dim)[:, :pdim]\n",
    "VF = np.concatenate([V, np.zeros((dim, dim-pdim))], axis=1)\n",
    "VFc = np.concatenate([np.zeros((dim, pdim)), np.linalg.svd(VF)[0][:, pdim:]], axis=1)\n",
    "R = VF + VFc\n",
    "null_dir = VFc[:, pdim:].dot(sog.rvs(dim-pdim))[:, [-1]]\n",
    "Vp = np.concatenate([V, null_dir], axis=1)"
   ]
  },
  {
   "cell_type": "code",
   "execution_count": 123,
   "metadata": {},
   "outputs": [
    {
     "data": {
      "text/plain": [
       "array([[ 0.53491793,  0.03604465],\n",
       "       [-0.5880519 ,  0.24390549],\n",
       "       [ 0.44827625, -0.38620832],\n",
       "       [-0.0571465 ,  0.40440663],\n",
       "       [-0.4047721 , -0.79152341]])"
      ]
     },
     "execution_count": 123,
     "metadata": {},
     "output_type": "execute_result"
    }
   ],
   "source": [
    "V"
   ]
  },
  {
   "cell_type": "code",
   "execution_count": 124,
   "metadata": {},
   "outputs": [
    {
     "data": {
      "text/plain": [
       "(array([[-0.0260139 ,  0.53549947,  0.79282097, -0.14419193, -0.2514104 ],\n",
       "        [-0.25488282, -0.58337781,  0.47827556, -0.35050635,  0.49305463],\n",
       "        [ 0.39454125,  0.44095994, -0.01513568,  0.08587831,  0.80142833],\n",
       "        [-0.40540655, -0.04955783,  0.22276765,  0.87447074,  0.13735014],\n",
       "        [ 0.78379893, -0.41953426,  0.3046849 ,  0.2903099 , -0.18038159]]),\n",
       " array([1., 1., 0., 0., 0.]),\n",
       " array([[ 0.01874012, -0.99982439, -0.        , -0.        , -0.        ],\n",
       "        [ 0.99982439,  0.01874012,  0.        ,  0.        ,  0.        ],\n",
       "        [ 0.        ,  0.        ,  0.        ,  0.        ,  1.        ],\n",
       "        [ 0.        ,  0.        ,  0.        ,  1.        ,  0.        ],\n",
       "        [ 0.        ,  0.        ,  1.        ,  0.        ,  0.        ]]))"
      ]
     },
     "execution_count": 124,
     "metadata": {},
     "output_type": "execute_result"
    }
   ],
   "source": [
    "np.linalg.svd(VF)"
   ]
  },
  {
   "cell_type": "code",
   "execution_count": 125,
   "metadata": {},
   "outputs": [
    {
     "data": {
      "text/plain": [
       "array([[ 1.00000000e+00,  8.51795462e-17, -1.51071728e-16,\n",
       "        -1.30620917e-17,  6.20596505e-17],\n",
       "       [ 8.51795462e-17,  1.00000000e+00,  1.39239919e-16,\n",
       "         4.05610772e-17, -1.92178112e-16],\n",
       "       [-1.51071728e-16,  1.39239919e-16,  1.00000000e+00,\n",
       "        -7.06663236e-17,  2.07149714e-16],\n",
       "       [-1.30620917e-17,  4.05610772e-17, -7.06663236e-17,\n",
       "         1.00000000e+00, -1.29196939e-16],\n",
       "       [ 6.20596505e-17, -1.92178112e-16,  2.07149714e-16,\n",
       "        -1.29196939e-16,  1.00000000e+00]])"
      ]
     },
     "execution_count": 125,
     "metadata": {},
     "output_type": "execute_result"
    }
   ],
   "source": [
    "R.dot(R.T)"
   ]
  },
  {
   "cell_type": "code",
   "execution_count": 126,
   "metadata": {},
   "outputs": [
    {
     "data": {
      "text/plain": [
       "array([[ 0.53491793,  0.03604465,  0.        ,  0.        ,  0.        ],\n",
       "       [-0.5880519 ,  0.24390549,  0.        ,  0.        ,  0.        ],\n",
       "       [ 0.44827625, -0.38620832,  0.        ,  0.        ,  0.        ],\n",
       "       [-0.0571465 ,  0.40440663,  0.        ,  0.        ,  0.        ],\n",
       "       [-0.4047721 , -0.79152341,  0.        ,  0.        ,  0.        ]])"
      ]
     },
     "execution_count": 126,
     "metadata": {},
     "output_type": "execute_result"
    }
   ],
   "source": [
    "VF"
   ]
  },
  {
   "cell_type": "code",
   "execution_count": 127,
   "metadata": {},
   "outputs": [
    {
     "data": {
      "text/plain": [
       "array([[ 0.        ,  0.        ,  0.79282097, -0.14419193, -0.2514104 ],\n",
       "       [ 0.        ,  0.        ,  0.47827556, -0.35050635,  0.49305463],\n",
       "       [ 0.        ,  0.        , -0.01513568,  0.08587831,  0.80142833],\n",
       "       [ 0.        ,  0.        ,  0.22276765,  0.87447074,  0.13735014],\n",
       "       [ 0.        ,  0.        ,  0.3046849 ,  0.2903099 , -0.18038159]])"
      ]
     },
     "execution_count": 127,
     "metadata": {},
     "output_type": "execute_result"
    }
   ],
   "source": [
    "VFc"
   ]
  },
  {
   "cell_type": "code",
   "execution_count": 128,
   "metadata": {},
   "outputs": [
    {
     "data": {
      "text/plain": [
       "array([1., 1., 1., 1., 1.])"
      ]
     },
     "execution_count": 128,
     "metadata": {},
     "output_type": "execute_result"
    }
   ],
   "source": [
    "np.linalg.svd(VFc + VF)[1]"
   ]
  },
  {
   "cell_type": "code",
   "execution_count": 129,
   "metadata": {},
   "outputs": [
    {
     "data": {
      "text/plain": [
       "array([[ 0.53491793,  0.03604465, -0.60696826],\n",
       "       [-0.5880519 ,  0.24390549, -0.42534922],\n",
       "       [ 0.44827625, -0.38620832, -0.20618669],\n",
       "       [-0.0571465 ,  0.40440663, -0.54350442],\n",
       "       [-0.4047721 , -0.79152341, -0.33579392]])"
      ]
     },
     "execution_count": 129,
     "metadata": {},
     "output_type": "execute_result"
    }
   ],
   "source": [
    "Vp"
   ]
  },
  {
   "cell_type": "code",
   "execution_count": 130,
   "metadata": {},
   "outputs": [
    {
     "data": {
      "text/plain": [
       "array([[ 1.00000000e+00, -2.05800841e-17, -5.92718980e-17],\n",
       "       [-2.05800841e-17,  1.00000000e+00, -3.89792997e-18],\n",
       "       [-5.92718980e-17, -3.89792997e-18,  1.00000000e+00]])"
      ]
     },
     "execution_count": 130,
     "metadata": {},
     "output_type": "execute_result"
    }
   ],
   "source": [
    "Vp.T.dot(Vp)"
   ]
  },
  {
   "cell_type": "code",
   "execution_count": 131,
   "metadata": {},
   "outputs": [],
   "source": [
    "sog.rvs?"
   ]
  },
  {
   "cell_type": "code",
   "execution_count": null,
   "metadata": {},
   "outputs": [],
   "source": []
  }
 ],
 "metadata": {
  "kernelspec": {
   "display_name": "Python 3",
   "language": "python",
   "name": "python3"
  },
  "language_info": {
   "codemirror_mode": {
    "name": "ipython",
    "version": 3
   },
   "file_extension": ".py",
   "mimetype": "text/x-python",
   "name": "python",
   "nbconvert_exporter": "python",
   "pygments_lexer": "ipython3",
   "version": "3.6.8"
  }
 },
 "nbformat": 4,
 "nbformat_minor": 2
}
