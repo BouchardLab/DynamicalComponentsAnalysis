{
 "cells": [
  {
   "cell_type": "code",
   "execution_count": 9,
   "metadata": {},
   "outputs": [],
   "source": [
    "import numpy as np\n",
    "import matplotlib.pyplot as plt\n",
    "import h5py\n",
    "import scipy\n",
    "\n",
    "from dca.cov_util import calc_cross_cov_mats_from_data, calc_pi_from_cross_cov_mats\n",
    "from dca import DynamicalComponentsAnalysis\n",
    "from dca.synth_data import embedded_lorenz_cross_cov_mats, random_basis"
   ]
  },
  {
   "cell_type": "code",
   "execution_count": 18,
   "metadata": {},
   "outputs": [],
   "source": [
    "def pi_vs_dim(cross_cov_mats, max_dim=None, n_init=1):\n",
    "    opt = ComplexityComponentsAnalysis()\n",
    "    opt.cross_covs = cross_cov_mats\n",
    "    if max_dim is None:\n",
    "        max_dim = cross_cov_mats[0].shape[0]\n",
    "    dim_vals = np.arange(1, max_dim + 1)\n",
    "    pi_vals = np.zeros(len(dim_vals))\n",
    "    for dim_idx in range(len(dim_vals)):\n",
    "        dim = dim_vals[dim_idx]\n",
    "        if dim_idx % 5 == 0:\n",
    "            print(\"dim =\", dim)\n",
    "        opt.fit_projection(d=dim, n_init=n_init)\n",
    "        V = opt.coef_\n",
    "        pi_vals[dim_idx] = calc_pi_from_cross_cov_mats(cross_cov_mats, proj=V)\n",
    "    return dim_vals, pi_vals\n",
    "\n",
    "def pi_random_projections(cross_cov_mats, num_samples=500):\n",
    "    N = cross_cov_mats[0].shape[0]\n",
    "    pi_vals = np.zeros(num_samples)\n",
    "    for i in range(num_samples):\n",
    "        V = random_basis(N, 1)\n",
    "        pi_vals[i] = calc_pi_from_cross_cov_mats(cross_cov_mats, proj=V)\n",
    "    return pi_vals\n",
    "\n",
    "def pi_single_units(cross_cov_mats):\n",
    "    N = cross_cov_mats[0].shape[0]\n",
    "    pi_vals = np.zeros(N)\n",
    "    for i in range(N):\n",
    "        V = np.zeros((N, 1))\n",
    "        V[i] = 1.\n",
    "        pi_vals[i] = calc_pi_from_cross_cov_mats(cross_cov_mats, proj=V)\n",
    "    return pi_vals"
   ]
  },
  {
   "cell_type": "code",
   "execution_count": 4,
   "metadata": {},
   "outputs": [],
   "source": [
    "#Get cross cov mats for Lorenz attractor\n",
    "#TODO: substitute real data, e.g. M1\n",
    "\n",
    "N = 30\n",
    "T_pi = 2\n",
    "T = 2 * T_pi\n",
    "cross_cov_mats = embedded_lorenz_cross_cov_mats(N, T, return_samples=False, \n",
    "                                                num_lorenz_samples=10000,\n",
    "                                                num_subspace_samples=5000)"
   ]
  },
  {
   "cell_type": "code",
   "execution_count": 57,
   "metadata": {
    "scrolled": true
   },
   "outputs": [
    {
     "name": "stdout",
     "output_type": "stream",
     "text": [
      "dim = 1\n",
      "dim = 6\n",
      "dim = 11\n",
      "dim = 16\n",
      "dim = 21\n",
      "dim = 26\n"
     ]
    }
   ],
   "source": [
    "#Get PI vs. dim values\n",
    "\n",
    "dim_vals, pi_vals = pi_vs_dim(cross_cov_mats, n_init=2) #TODO: increase n_init"
   ]
  },
  {
   "cell_type": "code",
   "execution_count": 58,
   "metadata": {},
   "outputs": [],
   "source": [
    "#Get PI distribution for random projections and single units\n",
    "\n",
    "rp_pi_vals = pi_random_projections(cross_cov_mats, num_samples=500)\n",
    "su_pi_vals = pi_single_units(cross_cov_mats)"
   ]
  },
  {
   "cell_type": "code",
   "execution_count": 59,
   "metadata": {},
   "outputs": [
    {
     "data": {
      "text/plain": [
       "<matplotlib.legend.Legend at 0x7fcfaeaa1320>"
      ]
     },
     "execution_count": 59,
     "metadata": {},
     "output_type": "execute_result"
    },
    {
     "data": {
      "image/png": "[encoded data removed]",
      "text/plain": [
       "<Figure size 432x288 with 1 Axes>"
      ]
     },
     "metadata": {},
     "output_type": "display_data"
    }
   ],
   "source": [
    "#Plot results\n",
    "#NOTE: because the embedded Lorenz attractor and noise are both randomly oriented,\n",
    "#random projections and single-units have the same PI distribution.\n",
    "#This will probably be close-to-but-not-quite true in actual M1 data.\n",
    "\n",
    "#TODO: make plot pretty\n",
    "\n",
    "fig, ax = plt.subplots(1, 1, figsize=(6, 4))\n",
    "rp_color = \"black\"\n",
    "su_color = \"red\"\n",
    "\n",
    "pi_vals_diff = np.diff(np.concatenate(([0], pi_vals)))\n",
    "ax.plot(dim_vals, pi_vals_diff, marker=\".\", label=\"increase in DCA PI\")\n",
    "\n",
    "ax.axhline(rp_pi_vals.mean(), c=rp_color, label=\"random projection PI\")\n",
    "ax.fill_between(x=dim_vals, y1=np.percentile(rp_pi_vals, 5), y2=np.percentile(rp_pi_vals, 95), color=rp_color, alpha=0.25)\n",
    "\n",
    "ax.axhline(su_pi_vals.mean(), c=su_color, label=\"single unit PI\")\n",
    "ax.fill_between(x=dim_vals, y1=np.percentile(su_pi_vals, 5), y2=np.percentile(su_pi_vals, 95), color=su_color, alpha=0.25)\n",
    "\n",
    "ax.set_xlabel(\"dimensionality\")\n",
    "ax.set_ylabel(\"PI (nats)\")\n",
    "ax.legend(frameon=False)"
   ]
  },
  {
   "cell_type": "code",
   "execution_count": null,
   "metadata": {},
   "outputs": [],
   "source": []
  }
 ],
 "metadata": {
  "kernelspec": {
   "display_name": "Python 3",
   "language": "python",
   "name": "python3"
  },
  "language_info": {
   "codemirror_mode": {
    "name": "ipython",
    "version": 3
   },
   "file_extension": ".py",
   "mimetype": "text/x-python",
   "name": "python",
   "nbconvert_exporter": "python",
   "pygments_lexer": "ipython3",
   "version": "3.6.8"
  }
 },
 "nbformat": 4,
 "nbformat_minor": 2
}
