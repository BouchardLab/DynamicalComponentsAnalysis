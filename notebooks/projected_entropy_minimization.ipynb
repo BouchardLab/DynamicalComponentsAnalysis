{
 "cells": [
  {
   "cell_type": "code",
   "execution_count": 1,
   "metadata": {},
   "outputs": [],
   "source": [
    "import numpy as np\n",
    "\n",
    "from scipy.linalg import subspace_angles\n",
    "\n",
    "import matplotlib.pyplot as plt\n",
    "\n",
    "from cca import synth_data\n",
    "\n",
    "from cca import ComplexityComponentsAnalysis as CCA\n",
    "from cca.cca import ortho_reg_fn\n",
    "from cca import methods_comparison as mc\n",
    "\n",
    "import torch\n",
    "import torch.nn.functional as F"
   ]
  },
  {
   "cell_type": "code",
   "execution_count": 2,
   "metadata": {},
   "outputs": [],
   "source": [
    "from numpy.fft import rfft, rfftfreq"
   ]
  },
  {
   "cell_type": "code",
   "execution_count": 3,
   "metadata": {},
   "outputs": [],
   "source": [
    "channels = 40\n",
    "T = 10000\n",
    "T_ent = 10\n",
    "d = 2"
   ]
  },
  {
   "cell_type": "code",
   "execution_count": 4,
   "metadata": {},
   "outputs": [],
   "source": [
    "cov = np.diag(np.ones(channels)) * .002\n",
    "X = synth_data.embed_lorenz_system(T, .005, .005, channels, cov)\n",
    "X = X[1000:]"
   ]
  },
  {
   "cell_type": "code",
   "execution_count": 5,
   "metadata": {},
   "outputs": [],
   "source": [
    "fca = mc.ForcastableComponentsAnalysis(d, T_ent, verbose=True)"
   ]
  },
  {
   "cell_type": "code",
   "execution_count": 6,
   "metadata": {},
   "outputs": [
    {
     "name": "stdout",
     "output_type": "stream",
     "text": [
      "tensor([0.1314, 0.4668], dtype=torch.float64, grad_fn=<NegBackward>)\n",
      "Ent: 0.2991 bits, reg: 0.0\n",
      "tensor([0.1314, 0.4668], dtype=torch.float64, grad_fn=<NegBackward>)\n",
      "tensor([0.0798, 0.0465], dtype=torch.float64, grad_fn=<NegBackward>)\n",
      "tensor([0.1135, 0.0874], dtype=torch.float64, grad_fn=<NegBackward>)\n",
      "tensor([0.1135, 0.0874], dtype=torch.float64, grad_fn=<NegBackward>)\n",
      "Ent: 0.1004 bits, reg: 0.0305\n",
      "tensor([0.1045, 0.0738], dtype=torch.float64, grad_fn=<NegBackward>)\n",
      "tensor([0.1102, 0.0822], dtype=torch.float64, grad_fn=<NegBackward>)\n",
      "tensor([0.1102, 0.0822], dtype=torch.float64, grad_fn=<NegBackward>)\n",
      "Ent: 0.0962 bits, reg: 0.0001\n",
      "tensor([0.1075, 0.0791], dtype=torch.float64, grad_fn=<NegBackward>)\n",
      "tensor([0.0982, 0.0694], dtype=torch.float64, grad_fn=<NegBackward>)\n",
      "tensor([0.0982, 0.0694], dtype=torch.float64, grad_fn=<NegBackward>)\n",
      "Ent: 0.0838 bits, reg: 0.0003\n",
      "tensor([0.0812, 0.0572], dtype=torch.float64, grad_fn=<NegBackward>)\n",
      "tensor([0.0812, 0.0572], dtype=torch.float64, grad_fn=<NegBackward>)\n",
      "Ent: 0.0692 bits, reg: 0.0069\n",
      "tensor([0.0794, 0.0572], dtype=torch.float64, grad_fn=<NegBackward>)\n",
      "tensor([0.0794, 0.0572], dtype=torch.float64, grad_fn=<NegBackward>)\n",
      "Ent: 0.0683 bits, reg: 0.0008\n",
      "tensor([0.0717, 0.0535], dtype=torch.float64, grad_fn=<NegBackward>)\n",
      "tensor([0.0717, 0.0535], dtype=torch.float64, grad_fn=<NegBackward>)\n",
      "Ent: 0.0626 bits, reg: 0.0006\n",
      "tensor([0.0619, 0.0492], dtype=torch.float64, grad_fn=<NegBackward>)\n",
      "tensor([0.0619, 0.0492], dtype=torch.float64, grad_fn=<NegBackward>)\n",
      "Ent: 0.0555 bits, reg: 0.0012\n",
      "tensor([0.0531, 0.0455], dtype=torch.float64, grad_fn=<NegBackward>)\n",
      "tensor([0.0597, 0.0483], dtype=torch.float64, grad_fn=<NegBackward>)\n",
      "tensor([0.0597, 0.0483], dtype=torch.float64, grad_fn=<NegBackward>)\n",
      "Ent: 0.054 bits, reg: 0.0014\n",
      "tensor([0.0553, 0.0467], dtype=torch.float64, grad_fn=<NegBackward>)\n",
      "tensor([0.0553, 0.0467], dtype=torch.float64, grad_fn=<NegBackward>)\n",
      "Ent: 0.051 bits, reg: 0.0014\n",
      "tensor([0.0551, 0.0468], dtype=torch.float64, grad_fn=<NegBackward>)\n",
      "tensor([0.0551, 0.0468], dtype=torch.float64, grad_fn=<NegBackward>)\n",
      "Ent: 0.051 bits, reg: 0.0004\n",
      "tensor([0.0532, 0.0460], dtype=torch.float64, grad_fn=<NegBackward>)\n",
      "tensor([0.0532, 0.0460], dtype=torch.float64, grad_fn=<NegBackward>)\n",
      "Ent: 0.0496 bits, reg: 0.0002\n",
      "tensor([0.0481, 0.0440], dtype=torch.float64, grad_fn=<NegBackward>)\n",
      "tensor([0.0511, 0.0452], dtype=torch.float64, grad_fn=<NegBackward>)\n",
      "tensor([0.0511, 0.0452], dtype=torch.float64, grad_fn=<NegBackward>)\n",
      "Ent: 0.0482 bits, reg: 0.0005\n",
      "tensor([0.0493, 0.0446], dtype=torch.float64, grad_fn=<NegBackward>)\n",
      "tensor([0.0493, 0.0446], dtype=torch.float64, grad_fn=<NegBackward>)\n",
      "Ent: 0.0469 bits, reg: 0.0006\n",
      "tensor([0.0480, 0.0442], dtype=torch.float64, grad_fn=<NegBackward>)\n",
      "tensor([0.0480, 0.0442], dtype=torch.float64, grad_fn=<NegBackward>)\n",
      "Ent: 0.0461 bits, reg: 0.0004\n",
      "tensor([0.0450, 0.0430], dtype=torch.float64, grad_fn=<NegBackward>)\n",
      "tensor([0.0466, 0.0436], dtype=torch.float64, grad_fn=<NegBackward>)\n",
      "tensor([0.0466, 0.0436], dtype=torch.float64, grad_fn=<NegBackward>)\n",
      "Ent: 0.0451 bits, reg: 0.0003\n",
      "tensor([0.0450, 0.0430], dtype=torch.float64, grad_fn=<NegBackward>)\n",
      "tensor([0.0459, 0.0433], dtype=torch.float64, grad_fn=<NegBackward>)\n",
      "tensor([0.0459, 0.0433], dtype=torch.float64, grad_fn=<NegBackward>)\n",
      "Ent: 0.0446 bits, reg: 0.0003\n",
      "tensor([0.0456, 0.0433], dtype=torch.float64, grad_fn=<NegBackward>)\n",
      "tensor([0.0456, 0.0433], dtype=torch.float64, grad_fn=<NegBackward>)\n",
      "Ent: 0.0445 bits, reg: 0.0002\n",
      "tensor([0.0448, 0.0430], dtype=torch.float64, grad_fn=<NegBackward>)\n",
      "tensor([0.0448, 0.0430], dtype=torch.float64, grad_fn=<NegBackward>)\n",
      "Ent: 0.0439 bits, reg: 0.0004\n",
      "tensor([0.0444, 0.0428], dtype=torch.float64, grad_fn=<NegBackward>)\n",
      "tensor([0.0444, 0.0428], dtype=torch.float64, grad_fn=<NegBackward>)\n",
      "Ent: 0.0436 bits, reg: 0.0003\n",
      "tensor([0.0439, 0.0426], dtype=torch.float64, grad_fn=<NegBackward>)\n",
      "tensor([0.0439, 0.0426], dtype=torch.float64, grad_fn=<NegBackward>)\n",
      "Ent: 0.0433 bits, reg: 0.0001\n",
      "tensor([0.0425, 0.0421], dtype=torch.float64, grad_fn=<NegBackward>)\n",
      "tensor([0.0433, 0.0424], dtype=torch.float64, grad_fn=<NegBackward>)\n",
      "tensor([0.0433, 0.0424], dtype=torch.float64, grad_fn=<NegBackward>)\n",
      "Ent: 0.0429 bits, reg: 0.0002\n",
      "tensor([0.0426, 0.0421], dtype=torch.float64, grad_fn=<NegBackward>)\n",
      "tensor([0.0426, 0.0421], dtype=torch.float64, grad_fn=<NegBackward>)\n",
      "Ent: 0.0424 bits, reg: 0.0003\n",
      "tensor([0.0422, 0.0420], dtype=torch.float64, grad_fn=<NegBackward>)\n",
      "tensor([0.0422, 0.0420], dtype=torch.float64, grad_fn=<NegBackward>)\n",
      "Ent: 0.0421 bits, reg: 0.0001\n",
      "tensor([0.0413, 0.0416], dtype=torch.float64, grad_fn=<NegBackward>)\n",
      "tensor([0.0418, 0.0418], dtype=torch.float64, grad_fn=<NegBackward>)\n",
      "tensor([0.0418, 0.0418], dtype=torch.float64, grad_fn=<NegBackward>)\n",
      "Ent: 0.0418 bits, reg: 0.0001\n",
      "tensor([0.0408, 0.0413], dtype=torch.float64, grad_fn=<NegBackward>)\n",
      "tensor([0.0415, 0.0416], dtype=torch.float64, grad_fn=<NegBackward>)\n",
      "tensor([0.0415, 0.0416], dtype=torch.float64, grad_fn=<NegBackward>)\n",
      "Ent: 0.0416 bits, reg: 0.0002\n",
      "tensor([0.0412, 0.0415], dtype=torch.float64, grad_fn=<NegBackward>)\n",
      "tensor([0.0412, 0.0415], dtype=torch.float64, grad_fn=<NegBackward>)\n",
      "Ent: 0.0413 bits, reg: 0.0002\n",
      "tensor([0.0409, 0.0414], dtype=torch.float64, grad_fn=<NegBackward>)\n",
      "tensor([0.0409, 0.0414], dtype=torch.float64, grad_fn=<NegBackward>)\n",
      "Ent: 0.0412 bits, reg: 0.0\n",
      "tensor([0.0403, 0.0411], dtype=torch.float64, grad_fn=<NegBackward>)\n",
      "tensor([0.0406, 0.0412], dtype=torch.float64, grad_fn=<NegBackward>)\n",
      "tensor([0.0406, 0.0412], dtype=torch.float64, grad_fn=<NegBackward>)\n",
      "Ent: 0.0409 bits, reg: 0.0001\n",
      "tensor([0.0400, 0.0409], dtype=torch.float64, grad_fn=<NegBackward>)\n",
      "tensor([0.0400, 0.0409], dtype=torch.float64, grad_fn=<NegBackward>)\n",
      "Ent: 0.0405 bits, reg: 0.0004\n",
      "tensor([0.0401, 0.0409], dtype=torch.float64, grad_fn=<NegBackward>)\n",
      "tensor([0.0401, 0.0409], dtype=torch.float64, grad_fn=<NegBackward>)\n",
      "Ent: 0.0405 bits, reg: 0.0\n",
      "tensor([0.0398, 0.0407], dtype=torch.float64, grad_fn=<NegBackward>)\n",
      "tensor([0.0398, 0.0407], dtype=torch.float64, grad_fn=<NegBackward>)\n",
      "Ent: 0.0402 bits, reg: 0.0\n",
      "tensor([0.0382, 0.0397], dtype=torch.float64, grad_fn=<NegBackward>)\n",
      "tensor([0.0395, 0.0405], dtype=torch.float64, grad_fn=<NegBackward>)\n",
      "tensor([0.0395, 0.0405], dtype=torch.float64, grad_fn=<NegBackward>)\n",
      "Ent: 0.04 bits, reg: 0.0001\n",
      "tensor([0.0392, 0.0403], dtype=torch.float64, grad_fn=<NegBackward>)\n",
      "tensor([0.0392, 0.0403], dtype=torch.float64, grad_fn=<NegBackward>)\n",
      "Ent: 0.0398 bits, reg: 0.0002\n",
      "tensor([0.0390, 0.0402], dtype=torch.float64, grad_fn=<NegBackward>)\n",
      "tensor([0.0390, 0.0402], dtype=torch.float64, grad_fn=<NegBackward>)\n",
      "Ent: 0.0396 bits, reg: 0.0\n",
      "tensor([0.0385, 0.0398], dtype=torch.float64, grad_fn=<NegBackward>)\n",
      "tensor([0.0387, 0.0400], dtype=torch.float64, grad_fn=<NegBackward>)\n",
      "tensor([0.0387, 0.0400], dtype=torch.float64, grad_fn=<NegBackward>)\n",
      "Ent: 0.0394 bits, reg: 0.0001\n",
      "tensor([0.0383, 0.0396], dtype=torch.float64, grad_fn=<NegBackward>)\n",
      "tensor([0.0383, 0.0396], dtype=torch.float64, grad_fn=<NegBackward>)\n",
      "Ent: 0.039 bits, reg: 0.0002\n",
      "tensor([0.0381, 0.0395], dtype=torch.float64, grad_fn=<NegBackward>)\n",
      "tensor([0.0381, 0.0395], dtype=torch.float64, grad_fn=<NegBackward>)\n",
      "Ent: 0.0388 bits, reg: 0.0001\n",
      "tensor([0.0375, 0.0391], dtype=torch.float64, grad_fn=<NegBackward>)\n",
      "tensor([0.0379, 0.0393], dtype=torch.float64, grad_fn=<NegBackward>)\n",
      "tensor([0.0379, 0.0393], dtype=torch.float64, grad_fn=<NegBackward>)\n",
      "Ent: 0.0386 bits, reg: 0.0\n",
      "tensor([0.0348, 0.0459], dtype=torch.float64, grad_fn=<NegBackward>)\n",
      "tensor([0.0372, 0.0389], dtype=torch.float64, grad_fn=<NegBackward>)\n",
      "tensor([0.0377, 0.0392], dtype=torch.float64, grad_fn=<NegBackward>)\n",
      "tensor([0.0377, 0.0392], dtype=torch.float64, grad_fn=<NegBackward>)\n",
      "Ent: 0.0385 bits, reg: 0.0\n",
      "tensor([0.0376, 0.0391], dtype=torch.float64, grad_fn=<NegBackward>)\n",
      "tensor([0.0376, 0.0391], dtype=torch.float64, grad_fn=<NegBackward>)\n",
      "Ent: 0.0383 bits, reg: 0.0001\n",
      "tensor([0.0376, 0.0391], dtype=torch.float64, grad_fn=<NegBackward>)\n",
      "tensor([0.0376, 0.0391], dtype=torch.float64, grad_fn=<NegBackward>)\n",
      "Ent: 0.0383 bits, reg: 0.0001\n",
      "tensor([0.0375, 0.0390], dtype=torch.float64, grad_fn=<NegBackward>)\n"
     ]
    },
    {
     "name": "stdout",
     "output_type": "stream",
     "text": [
      "tensor([0.0375, 0.0390], dtype=torch.float64, grad_fn=<NegBackward>)\n",
      "Ent: 0.0383 bits, reg: 0.0\n",
      "tensor([0.0372, 0.0388], dtype=torch.float64, grad_fn=<NegBackward>)\n",
      "tensor([0.0372, 0.0388], dtype=torch.float64, grad_fn=<NegBackward>)\n",
      "Ent: 0.038 bits, reg: 0.0\n",
      "tensor([0.0361, 0.0385], dtype=torch.float64, grad_fn=<NegBackward>)\n",
      "tensor([0.0370, 0.0386], dtype=torch.float64, grad_fn=<NegBackward>)\n",
      "tensor([0.0370, 0.0386], dtype=torch.float64, grad_fn=<NegBackward>)\n",
      "Ent: 0.0378 bits, reg: 0.0001\n",
      "tensor([0.0368, 0.0385], dtype=torch.float64, grad_fn=<NegBackward>)\n",
      "tensor([0.0368, 0.0385], dtype=torch.float64, grad_fn=<NegBackward>)\n",
      "Ent: 0.0377 bits, reg: 0.0001\n",
      "tensor([0.0367, 0.0384], dtype=torch.float64, grad_fn=<NegBackward>)\n",
      "tensor([0.0367, 0.0384], dtype=torch.float64, grad_fn=<NegBackward>)\n",
      "Ent: 0.0375 bits, reg: 0.0\n",
      "tensor([0.0363, 0.0383], dtype=torch.float64, grad_fn=<NegBackward>)\n",
      "tensor([0.0365, 0.0383], dtype=torch.float64, grad_fn=<NegBackward>)\n",
      "tensor([0.0365, 0.0383], dtype=torch.float64, grad_fn=<NegBackward>)\n",
      "Ent: 0.0374 bits, reg: 0.0\n",
      "tensor([0.0361, 0.0382], dtype=torch.float64, grad_fn=<NegBackward>)\n",
      "tensor([0.0363, 0.0382], dtype=torch.float64, grad_fn=<NegBackward>)\n",
      "tensor([0.0363, 0.0382], dtype=torch.float64, grad_fn=<NegBackward>)\n",
      "Ent: 0.0373 bits, reg: 0.0\n",
      "tensor([0.0361, 0.0381], dtype=torch.float64, grad_fn=<NegBackward>)\n",
      "tensor([0.0361, 0.0381], dtype=torch.float64, grad_fn=<NegBackward>)\n",
      "Ent: 0.0371 bits, reg: 0.0\n",
      "tensor([0.0359, 0.0380], dtype=torch.float64, grad_fn=<NegBackward>)\n",
      "tensor([0.0359, 0.0380], dtype=torch.float64, grad_fn=<NegBackward>)\n",
      "Ent: 0.0369 bits, reg: 0.0\n",
      "tensor([0.0356, 0.0377], dtype=torch.float64, grad_fn=<NegBackward>)\n",
      "tensor([0.0356, 0.0377], dtype=torch.float64, grad_fn=<NegBackward>)\n",
      "Ent: 0.0367 bits, reg: 0.0003\n",
      "tensor([0.0350, 0.0382], dtype=torch.float64, grad_fn=<NegBackward>)\n",
      "tensor([0.0355, 0.0377], dtype=torch.float64, grad_fn=<NegBackward>)\n",
      "tensor([0.0355, 0.0377], dtype=torch.float64, grad_fn=<NegBackward>)\n",
      "Ent: 0.0366 bits, reg: 0.0001\n",
      "tensor([0.0345, 0.0399], dtype=torch.float64, grad_fn=<NegBackward>)\n",
      "tensor([0.0353, 0.0378], dtype=torch.float64, grad_fn=<NegBackward>)\n",
      "tensor([0.0353, 0.0378], dtype=torch.float64, grad_fn=<NegBackward>)\n",
      "Ent: 0.0366 bits, reg: 0.0001\n",
      "tensor([0.0353, 0.0378], dtype=torch.float64, grad_fn=<NegBackward>)\n",
      "tensor([0.0353, 0.0378], dtype=torch.float64, grad_fn=<NegBackward>)\n",
      "Ent: 0.0366 bits, reg: 0.0\n",
      "tensor([0.0353, 0.0378], dtype=torch.float64, grad_fn=<NegBackward>)\n",
      "tensor([0.0353, 0.0378], dtype=torch.float64, grad_fn=<NegBackward>)\n",
      "Ent: 0.0365 bits, reg: 0.0\n",
      "tensor([0.0352, 0.0377], dtype=torch.float64, grad_fn=<NegBackward>)\n",
      "tensor([0.0352, 0.0377], dtype=torch.float64, grad_fn=<NegBackward>)\n",
      "Ent: 0.0365 bits, reg: 0.0\n",
      "tensor([0.0352, 0.0376], dtype=torch.float64, grad_fn=<NegBackward>)\n",
      "tensor([0.0352, 0.0376], dtype=torch.float64, grad_fn=<NegBackward>)\n",
      "Ent: 0.0364 bits, reg: 0.0\n",
      "tensor([0.0350, 0.0372], dtype=torch.float64, grad_fn=<NegBackward>)\n",
      "tensor([0.0350, 0.0372], dtype=torch.float64, grad_fn=<NegBackward>)\n",
      "Ent: 0.0361 bits, reg: 0.0001\n",
      "tensor([0.0351, 0.0369], dtype=torch.float64, grad_fn=<NegBackward>)\n",
      "tensor([0.0351, 0.0369], dtype=torch.float64, grad_fn=<NegBackward>)\n",
      "Ent: 0.036 bits, reg: 0.0002\n",
      "tensor([0.0351, 0.0370], dtype=torch.float64, grad_fn=<NegBackward>)\n",
      "tensor([0.0351, 0.0370], dtype=torch.float64, grad_fn=<NegBackward>)\n",
      "Ent: 0.0361 bits, reg: 0.0\n",
      "tensor([0.0351, 0.0369], dtype=torch.float64, grad_fn=<NegBackward>)\n",
      "tensor([0.0351, 0.0369], dtype=torch.float64, grad_fn=<NegBackward>)\n",
      "tensor([0.0351, 0.0369], dtype=torch.float64, grad_fn=<NegBackward>)\n",
      "Ent: 0.036 bits, reg: 0.0\n",
      "tensor([0.0351, 0.0368], dtype=torch.float64, grad_fn=<NegBackward>)\n",
      "tensor([0.0351, 0.0368], dtype=torch.float64, grad_fn=<NegBackward>)\n",
      "Ent: 0.036 bits, reg: 0.0\n",
      "tensor([0.0352, 0.0365], dtype=torch.float64, grad_fn=<NegBackward>)\n",
      "tensor([0.0352, 0.0365], dtype=torch.float64, grad_fn=<NegBackward>)\n",
      "Ent: 0.0358 bits, reg: 0.0\n",
      "tensor([0.0353, 0.0363], dtype=torch.float64, grad_fn=<NegBackward>)\n",
      "tensor([0.0353, 0.0363], dtype=torch.float64, grad_fn=<NegBackward>)\n",
      "Ent: 0.0358 bits, reg: 0.0\n",
      "tensor([0.0356, 0.0358], dtype=torch.float64, grad_fn=<NegBackward>)\n",
      "tensor([0.0354, 0.0361], dtype=torch.float64, grad_fn=<NegBackward>)\n",
      "tensor([0.0354, 0.0361], dtype=torch.float64, grad_fn=<NegBackward>)\n",
      "Ent: 0.0357 bits, reg: 0.0\n",
      "tensor([0.0356, 0.0358], dtype=torch.float64, grad_fn=<NegBackward>)\n",
      "tensor([0.0356, 0.0358], dtype=torch.float64, grad_fn=<NegBackward>)\n",
      "Ent: 0.0357 bits, reg: 0.0\n",
      "tensor([0.0356, 0.0357], dtype=torch.float64, grad_fn=<NegBackward>)\n",
      "tensor([0.0356, 0.0357], dtype=torch.float64, grad_fn=<NegBackward>)\n",
      "Ent: 0.0357 bits, reg: 0.0\n",
      "tensor([0.0358, 0.0355], dtype=torch.float64, grad_fn=<NegBackward>)\n",
      "tensor([0.0358, 0.0355], dtype=torch.float64, grad_fn=<NegBackward>)\n",
      "Ent: 0.0357 bits, reg: 0.0\n",
      "tensor([0.0358, 0.0355], dtype=torch.float64, grad_fn=<NegBackward>)\n",
      "tensor([0.0358, 0.0355], dtype=torch.float64, grad_fn=<NegBackward>)\n",
      "Ent: 0.0357 bits, reg: 0.0\n",
      "tensor([0.0359, 0.0354], dtype=torch.float64, grad_fn=<NegBackward>)\n",
      "tensor([0.0359, 0.0354], dtype=torch.float64, grad_fn=<NegBackward>)\n",
      "Ent: 0.0357 bits, reg: 0.0\n",
      "tensor([0.0359, 0.0354], dtype=torch.float64, grad_fn=<NegBackward>)\n",
      "tensor([0.0359, 0.0354], dtype=torch.float64, grad_fn=<NegBackward>)\n",
      "Ent: 0.0356 bits, reg: 0.0\n",
      "tensor([0.0359, 0.0352], dtype=torch.float64, grad_fn=<NegBackward>)\n",
      "tensor([0.0359, 0.0354], dtype=torch.float64, grad_fn=<NegBackward>)\n",
      "tensor([0.0359, 0.0354], dtype=torch.float64, grad_fn=<NegBackward>)\n",
      "Ent: 0.0356 bits, reg: 0.0\n",
      "tensor([0.0360, 0.0353], dtype=torch.float64, grad_fn=<NegBackward>)\n",
      "tensor([0.0360, 0.0353], dtype=torch.float64, grad_fn=<NegBackward>)\n",
      "Ent: 0.0356 bits, reg: 0.0\n",
      "tensor([0.0361, 0.0351], dtype=torch.float64, grad_fn=<NegBackward>)\n",
      "tensor([0.0361, 0.0351], dtype=torch.float64, grad_fn=<NegBackward>)\n",
      "Ent: 0.0356 bits, reg: 0.0\n",
      "tensor([0.0361, 0.0351], dtype=torch.float64, grad_fn=<NegBackward>)\n",
      "tensor([0.0361, 0.0351], dtype=torch.float64, grad_fn=<NegBackward>)\n",
      "Ent: 0.0356 bits, reg: 0.0\n",
      "tensor([0.0361, 0.0351], dtype=torch.float64, grad_fn=<NegBackward>)\n",
      "tensor([0.0361, 0.0351], dtype=torch.float64, grad_fn=<NegBackward>)\n",
      "Ent: 0.0356 bits, reg: 0.0\n",
      "tensor([0.0361, 0.0350], dtype=torch.float64, grad_fn=<NegBackward>)\n",
      "tensor([0.0361, 0.0351], dtype=torch.float64, grad_fn=<NegBackward>)\n",
      "tensor([0.0361, 0.0351], dtype=torch.float64, grad_fn=<NegBackward>)\n",
      "Ent: 0.0356 bits, reg: 0.0\n",
      "tensor([0.0360, 0.0351], dtype=torch.float64, grad_fn=<NegBackward>)\n",
      "tensor([0.0360, 0.0351], dtype=torch.float64, grad_fn=<NegBackward>)\n",
      "Ent: 0.0355 bits, reg: 0.0\n",
      "tensor([0.0359, 0.0351], dtype=torch.float64, grad_fn=<NegBackward>)\n",
      "tensor([0.0359, 0.0351], dtype=torch.float64, grad_fn=<NegBackward>)\n",
      "Ent: 0.0355 bits, reg: 0.0\n",
      "tensor([0.0357, 0.0353], dtype=torch.float64, grad_fn=<NegBackward>)\n",
      "tensor([0.0357, 0.0353], dtype=torch.float64, grad_fn=<NegBackward>)\n",
      "Ent: 0.0355 bits, reg: 0.0\n",
      "tensor([0.0355, 0.0354], dtype=torch.float64, grad_fn=<NegBackward>)\n",
      "tensor([0.0356, 0.0354], dtype=torch.float64, grad_fn=<NegBackward>)\n",
      "tensor([0.0356, 0.0354], dtype=torch.float64, grad_fn=<NegBackward>)\n",
      "Ent: 0.0355 bits, reg: 0.0\n",
      "tensor([0.0355, 0.0354], dtype=torch.float64, grad_fn=<NegBackward>)\n",
      "tensor([0.0355, 0.0354], dtype=torch.float64, grad_fn=<NegBackward>)\n",
      "Ent: 0.0354 bits, reg: 0.0\n",
      "tensor([0.0354, 0.0353], dtype=torch.float64, grad_fn=<NegBackward>)\n",
      "tensor([0.0354, 0.0353], dtype=torch.float64, grad_fn=<NegBackward>)\n",
      "Ent: 0.0354 bits, reg: 0.0\n",
      "tensor([0.0353, 0.0350], dtype=torch.float64, grad_fn=<NegBackward>)\n",
      "tensor([0.0354, 0.0352], dtype=torch.float64, grad_fn=<NegBackward>)\n",
      "tensor([0.0354, 0.0352], dtype=torch.float64, grad_fn=<NegBackward>)\n",
      "Ent: 0.0353 bits, reg: 0.0\n",
      "tensor([0.0356, 0.0350], dtype=torch.float64, grad_fn=<NegBackward>)\n",
      "tensor([0.0356, 0.0350], dtype=torch.float64, grad_fn=<NegBackward>)\n",
      "Ent: 0.0353 bits, reg: 0.0\n",
      "tensor([0.0357, 0.0349], dtype=torch.float64, grad_fn=<NegBackward>)\n",
      "tensor([0.0357, 0.0349], dtype=torch.float64, grad_fn=<NegBackward>)\n",
      "Ent: 0.0353 bits, reg: 0.0\n",
      "tensor([0.0356, 0.0349], dtype=torch.float64, grad_fn=<NegBackward>)\n"
     ]
    },
    {
     "name": "stdout",
     "output_type": "stream",
     "text": [
      "tensor([0.0356, 0.0349], dtype=torch.float64, grad_fn=<NegBackward>)\n",
      "Ent: 0.0353 bits, reg: 0.0\n",
      "tensor([0.0356, 0.0349], dtype=torch.float64, grad_fn=<NegBackward>)\n",
      "tensor([0.0356, 0.0349], dtype=torch.float64, grad_fn=<NegBackward>)\n",
      "Ent: 0.0353 bits, reg: 0.0\n",
      "tensor([0.0352, 0.0351], dtype=torch.float64, grad_fn=<NegBackward>)\n",
      "tensor([0.0355, 0.0350], dtype=torch.float64, grad_fn=<NegBackward>)\n",
      "tensor([0.0355, 0.0350], dtype=torch.float64, grad_fn=<NegBackward>)\n",
      "Ent: 0.0352 bits, reg: 0.0\n",
      "tensor([0.0353, 0.0351], dtype=torch.float64, grad_fn=<NegBackward>)\n",
      "tensor([0.0353, 0.0351], dtype=torch.float64, grad_fn=<NegBackward>)\n",
      "Ent: 0.0352 bits, reg: 0.0\n",
      "tensor([0.0353, 0.0351], dtype=torch.float64, grad_fn=<NegBackward>)\n",
      "tensor([0.0353, 0.0351], dtype=torch.float64, grad_fn=<NegBackward>)\n",
      "Ent: 0.0352 bits, reg: 0.0\n",
      "tensor([0.0353, 0.0351], dtype=torch.float64, grad_fn=<NegBackward>)\n",
      "tensor([0.0353, 0.0351], dtype=torch.float64, grad_fn=<NegBackward>)\n",
      "Ent: 0.0352 bits, reg: 0.0\n",
      "tensor([0.0353, 0.0351], dtype=torch.float64, grad_fn=<NegBackward>)\n",
      "tensor([0.0353, 0.0351], dtype=torch.float64, grad_fn=<NegBackward>)\n",
      "Ent: 0.0352 bits, reg: 0.0\n",
      "tensor([0.0352, 0.0351], dtype=torch.float64, grad_fn=<NegBackward>)\n",
      "tensor([0.0352, 0.0351], dtype=torch.float64, grad_fn=<NegBackward>)\n",
      "Ent: 0.0352 bits, reg: 0.0\n",
      "tensor([0.0352, 0.0351], dtype=torch.float64, grad_fn=<NegBackward>)\n",
      "tensor([0.0352, 0.0351], dtype=torch.float64, grad_fn=<NegBackward>)\n",
      "Ent: 0.0352 bits, reg: 0.0\n",
      "tensor([0.0307, 0.3908], dtype=torch.float64, grad_fn=<NegBackward>)\n"
     ]
    }
   ],
   "source": [
    "fca.fit(X)"
   ]
  },
  {
   "cell_type": "code",
   "execution_count": 8,
   "metadata": {},
   "outputs": [],
   "source": [
    "r = np.squeeze(fca.transform(X))"
   ]
  },
  {
   "cell_type": "code",
   "execution_count": 75,
   "metadata": {},
   "outputs": [
    {
     "data": {
      "text/plain": [
       "[<matplotlib.lines.Line2D at 0x7f0e1d9086d8>,\n",
       " <matplotlib.lines.Line2D at 0x7f0e1d908828>]"
      ]
     },
     "execution_count": 75,
     "metadata": {},
     "output_type": "execute_result"
    },
    {
     "data": {
      "image/png": "[encoded data removed]",
      "text/plain": [
       "<Figure size 432x288 with 1 Axes>"
      ]
     },
     "metadata": {
      "needs_background": "light"
     },
     "output_type": "display_data"
    }
   ],
   "source": [
    "plt.plot(r[:1000])"
   ]
  },
  {
   "cell_type": "code",
   "execution_count": 76,
   "metadata": {},
   "outputs": [],
   "source": [
    "model = CCA(d, 5)"
   ]
  },
  {
   "cell_type": "code",
   "execution_count": 77,
   "metadata": {},
   "outputs": [],
   "source": [
    "rc = np.squeeze(model.fit_transform(X))"
   ]
  },
  {
   "cell_type": "code",
   "execution_count": 78,
   "metadata": {},
   "outputs": [
    {
     "data": {
      "text/plain": [
       "[<matplotlib.lines.Line2D at 0x7f0e1d8e58d0>,\n",
       " <matplotlib.lines.Line2D at 0x7f0e1d8e5a20>]"
      ]
     },
     "execution_count": 78,
     "metadata": {},
     "output_type": "execute_result"
    },
    {
     "data": {
      "image/png": "[encoded data removed]",
      "text/plain": [
       "<Figure size 432x288 with 1 Axes>"
      ]
     },
     "metadata": {
      "needs_background": "light"
     },
     "output_type": "display_data"
    }
   ],
   "source": [
    "plt.plot(rc[:1000])"
   ]
  },
  {
   "cell_type": "code",
   "execution_count": 79,
   "metadata": {},
   "outputs": [
    {
     "data": {
      "text/plain": [
       "array([1.55338689, 1.11815238])"
      ]
     },
     "execution_count": 79,
     "metadata": {},
     "output_type": "execute_result"
    }
   ],
   "source": [
    "subspace_angles(fca.coef_, model.coef_)"
   ]
  },
  {
   "cell_type": "code",
   "execution_count": null,
   "metadata": {},
   "outputs": [],
   "source": []
  }
 ],
 "metadata": {
  "kernelspec": {
   "display_name": "Python 3",
   "language": "python",
   "name": "python3"
  },
  "language_info": {
   "codemirror_mode": {
    "name": "ipython",
    "version": 3
   },
   "file_extension": ".py",
   "mimetype": "text/x-python",
   "name": "python",
   "nbconvert_exporter": "python",
   "pygments_lexer": "ipython3",
   "version": "3.6.8"
  }
 },
 "nbformat": 4,
 "nbformat_minor": 2
}
