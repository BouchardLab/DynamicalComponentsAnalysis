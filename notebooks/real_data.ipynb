{
 "cells": [
  {
   "cell_type": "code",
   "execution_count": 15,
   "metadata": {},
   "outputs": [],
   "source": [
    "import h5py, os\n",
    "import numpy as np\n",
    "import matplotlib.pyplot as plt\n",
    "from imp import reload\n",
    "import pandas as pd\n",
    "\n",
    "from dca import analysis, plotting, data_util, style"
   ]
  },
  {
   "cell_type": "code",
   "execution_count": 16,
   "metadata": {},
   "outputs": [
    {
     "ename": "OSError",
     "evalue": "Unable to open file (unable to open file: name = 'neural/indy_20160627_01.mat', errno = 2, error message = 'No such file or directory', flags = 0, o_flags = 0)",
     "output_type": "error",
     "traceback": [
      "\u001b[0;31m---------------------------------------------------------------------------\u001b[0m",
      "\u001b[0;31mOSError\u001b[0m                                   Traceback (most recent call last)",
      "\u001b[0;32m<ipython-input-16-d7e47ccc2c0d>\u001b[0m in \u001b[0;36m<module>\u001b[0;34m\u001b[0m\n\u001b[1;32m      1\u001b[0m \u001b[0mreload\u001b[0m\u001b[0;34m(\u001b[0m\u001b[0mdata_util\u001b[0m\u001b[0;34m)\u001b[0m\u001b[0;34m\u001b[0m\u001b[0;34m\u001b[0m\u001b[0m\n\u001b[0;32m----> 2\u001b[0;31m \u001b[0mM1\u001b[0m \u001b[0;34m=\u001b[0m \u001b[0mdata_util\u001b[0m\u001b[0;34m.\u001b[0m\u001b[0mload_sabes_data\u001b[0m\u001b[0;34m(\u001b[0m\u001b[0;34m'neural/indy_20160627_01.mat'\u001b[0m\u001b[0;34m)\u001b[0m\u001b[0;34m\u001b[0m\u001b[0;34m\u001b[0m\u001b[0m\n\u001b[0m",
      "\u001b[0;32m~/Projects/DynamicalComponentsAnalysis/dca/data_util.py\u001b[0m in \u001b[0;36mload_sabes_data\u001b[0;34m(filename, bin_width_s, preprocess)\u001b[0m\n\u001b[1;32m     83\u001b[0m \u001b[0;32mdef\u001b[0m \u001b[0mload_sabes_data\u001b[0m\u001b[0;34m(\u001b[0m\u001b[0mfilename\u001b[0m\u001b[0;34m,\u001b[0m \u001b[0mbin_width_s\u001b[0m\u001b[0;34m=\u001b[0m\u001b[0;36m.05\u001b[0m\u001b[0;34m,\u001b[0m \u001b[0mpreprocess\u001b[0m\u001b[0;34m=\u001b[0m\u001b[0;32mTrue\u001b[0m\u001b[0;34m)\u001b[0m\u001b[0;34m:\u001b[0m\u001b[0;34m\u001b[0m\u001b[0;34m\u001b[0m\u001b[0m\n\u001b[1;32m     84\u001b[0m     \u001b[0;31m#Load MATLAB file\u001b[0m\u001b[0;34m\u001b[0m\u001b[0;34m\u001b[0m\u001b[0;34m\u001b[0m\u001b[0m\n\u001b[0;32m---> 85\u001b[0;31m     \u001b[0;32mwith\u001b[0m \u001b[0mh5py\u001b[0m\u001b[0;34m.\u001b[0m\u001b[0mFile\u001b[0m\u001b[0;34m(\u001b[0m\u001b[0mfilename\u001b[0m\u001b[0;34m,\u001b[0m \u001b[0;34m\"r\"\u001b[0m\u001b[0;34m)\u001b[0m \u001b[0;32mas\u001b[0m \u001b[0mf\u001b[0m\u001b[0;34m:\u001b[0m\u001b[0;34m\u001b[0m\u001b[0;34m\u001b[0m\u001b[0m\n\u001b[0m\u001b[1;32m     86\u001b[0m         \u001b[0;31m#Get channel names (e.g. M1 001 or S1 001)\u001b[0m\u001b[0;34m\u001b[0m\u001b[0;34m\u001b[0m\u001b[0;34m\u001b[0m\u001b[0m\n\u001b[1;32m     87\u001b[0m         \u001b[0mnum_channels\u001b[0m \u001b[0;34m=\u001b[0m \u001b[0mf\u001b[0m\u001b[0;34m[\u001b[0m\u001b[0;34m'chan_names'\u001b[0m\u001b[0;34m]\u001b[0m\u001b[0;34m.\u001b[0m\u001b[0mshape\u001b[0m\u001b[0;34m[\u001b[0m\u001b[0;36m1\u001b[0m\u001b[0;34m]\u001b[0m\u001b[0;34m\u001b[0m\u001b[0;34m\u001b[0m\u001b[0m\n",
      "\u001b[0;32m/miniconda3/envs/neuro/lib/python3.7/site-packages/h5py/_hl/files.py\u001b[0m in \u001b[0;36m__init__\u001b[0;34m(self, name, mode, driver, libver, userblock_size, swmr, rdcc_nslots, rdcc_nbytes, rdcc_w0, track_order, **kwds)\u001b[0m\n\u001b[1;32m    392\u001b[0m                 fid = make_fid(name, mode, userblock_size,\n\u001b[1;32m    393\u001b[0m                                \u001b[0mfapl\u001b[0m\u001b[0;34m,\u001b[0m \u001b[0mfcpl\u001b[0m\u001b[0;34m=\u001b[0m\u001b[0mmake_fcpl\u001b[0m\u001b[0;34m(\u001b[0m\u001b[0mtrack_order\u001b[0m\u001b[0;34m=\u001b[0m\u001b[0mtrack_order\u001b[0m\u001b[0;34m)\u001b[0m\u001b[0;34m,\u001b[0m\u001b[0;34m\u001b[0m\u001b[0;34m\u001b[0m\u001b[0m\n\u001b[0;32m--> 394\u001b[0;31m                                swmr=swmr)\n\u001b[0m\u001b[1;32m    395\u001b[0m \u001b[0;34m\u001b[0m\u001b[0m\n\u001b[1;32m    396\u001b[0m             \u001b[0;32mif\u001b[0m \u001b[0mswmr_support\u001b[0m\u001b[0;34m:\u001b[0m\u001b[0;34m\u001b[0m\u001b[0;34m\u001b[0m\u001b[0m\n",
      "\u001b[0;32m/miniconda3/envs/neuro/lib/python3.7/site-packages/h5py/_hl/files.py\u001b[0m in \u001b[0;36mmake_fid\u001b[0;34m(name, mode, userblock_size, fapl, fcpl, swmr)\u001b[0m\n\u001b[1;32m    168\u001b[0m         \u001b[0;32mif\u001b[0m \u001b[0mswmr\u001b[0m \u001b[0;32mand\u001b[0m \u001b[0mswmr_support\u001b[0m\u001b[0;34m:\u001b[0m\u001b[0;34m\u001b[0m\u001b[0;34m\u001b[0m\u001b[0m\n\u001b[1;32m    169\u001b[0m             \u001b[0mflags\u001b[0m \u001b[0;34m|=\u001b[0m \u001b[0mh5f\u001b[0m\u001b[0;34m.\u001b[0m\u001b[0mACC_SWMR_READ\u001b[0m\u001b[0;34m\u001b[0m\u001b[0;34m\u001b[0m\u001b[0m\n\u001b[0;32m--> 170\u001b[0;31m         \u001b[0mfid\u001b[0m \u001b[0;34m=\u001b[0m \u001b[0mh5f\u001b[0m\u001b[0;34m.\u001b[0m\u001b[0mopen\u001b[0m\u001b[0;34m(\u001b[0m\u001b[0mname\u001b[0m\u001b[0;34m,\u001b[0m \u001b[0mflags\u001b[0m\u001b[0;34m,\u001b[0m \u001b[0mfapl\u001b[0m\u001b[0;34m=\u001b[0m\u001b[0mfapl\u001b[0m\u001b[0;34m)\u001b[0m\u001b[0;34m\u001b[0m\u001b[0;34m\u001b[0m\u001b[0m\n\u001b[0m\u001b[1;32m    171\u001b[0m     \u001b[0;32melif\u001b[0m \u001b[0mmode\u001b[0m \u001b[0;34m==\u001b[0m \u001b[0;34m'r+'\u001b[0m\u001b[0;34m:\u001b[0m\u001b[0;34m\u001b[0m\u001b[0;34m\u001b[0m\u001b[0m\n\u001b[1;32m    172\u001b[0m         \u001b[0mfid\u001b[0m \u001b[0;34m=\u001b[0m \u001b[0mh5f\u001b[0m\u001b[0;34m.\u001b[0m\u001b[0mopen\u001b[0m\u001b[0;34m(\u001b[0m\u001b[0mname\u001b[0m\u001b[0;34m,\u001b[0m \u001b[0mh5f\u001b[0m\u001b[0;34m.\u001b[0m\u001b[0mACC_RDWR\u001b[0m\u001b[0;34m,\u001b[0m \u001b[0mfapl\u001b[0m\u001b[0;34m=\u001b[0m\u001b[0mfapl\u001b[0m\u001b[0;34m)\u001b[0m\u001b[0;34m\u001b[0m\u001b[0;34m\u001b[0m\u001b[0m\n",
      "\u001b[0;32mh5py/_objects.pyx\u001b[0m in \u001b[0;36mh5py._objects.with_phil.wrapper\u001b[0;34m()\u001b[0m\n",
      "\u001b[0;32mh5py/_objects.pyx\u001b[0m in \u001b[0;36mh5py._objects.with_phil.wrapper\u001b[0;34m()\u001b[0m\n",
      "\u001b[0;32mh5py/h5f.pyx\u001b[0m in \u001b[0;36mh5py.h5f.open\u001b[0;34m()\u001b[0m\n",
      "\u001b[0;31mOSError\u001b[0m: Unable to open file (unable to open file: name = 'neural/indy_20160627_01.mat', errno = 2, error message = 'No such file or directory', flags = 0, o_flags = 0)"
     ]
    }
   ],
   "source": [
    "reload(data_util)\n",
    "M1 = data_util.load_sabes_data('neural/indy_20160627_01.mat')"
   ]
  },
  {
   "cell_type": "code",
   "execution_count": 11,
   "metadata": {},
   "outputs": [],
   "source": [
    "reload(data_util)\n",
    "HC = data_util.load_kording_paper_data('neural/example_data_hc.pickle')"
   ]
  },
  {
   "cell_type": "code",
   "execution_count": 12,
   "metadata": {},
   "outputs": [],
   "source": [
    "reload(data_util)\n",
    "weather = data_util.load_weather_data('weather/temperature.csv')"
   ]
  },
  {
   "cell_type": "code",
   "execution_count": 14,
   "metadata": {},
   "outputs": [
    {
     "ename": "FileNotFoundError",
     "evalue": "[Errno 2] File b'accel/sub_19.csv' does not exist: b'accel/sub_19.csv'",
     "output_type": "error",
     "traceback": [
      "\u001b[0;31m---------------------------------------------------------------------------\u001b[0m",
      "\u001b[0;31mFileNotFoundError\u001b[0m                         Traceback (most recent call last)",
      "\u001b[0;32m<ipython-input-14-822e7d8f6710>\u001b[0m in \u001b[0;36m<module>\u001b[0;34m\u001b[0m\n\u001b[1;32m      1\u001b[0m \u001b[0mreload\u001b[0m\u001b[0;34m(\u001b[0m\u001b[0mdata_util\u001b[0m\u001b[0;34m)\u001b[0m\u001b[0;34m\u001b[0m\u001b[0;34m\u001b[0m\u001b[0m\n\u001b[1;32m      2\u001b[0m \u001b[0mfile\u001b[0m \u001b[0;34m=\u001b[0m \u001b[0;34m'accel/sub_19.csv'\u001b[0m\u001b[0;34m\u001b[0m\u001b[0;34m\u001b[0m\u001b[0m\n\u001b[0;32m----> 3\u001b[0;31m \u001b[0maccel\u001b[0m \u001b[0;34m=\u001b[0m \u001b[0mdata_util\u001b[0m\u001b[0;34m.\u001b[0m\u001b[0mload_accel_data\u001b[0m\u001b[0;34m(\u001b[0m\u001b[0mfile\u001b[0m\u001b[0;34m)\u001b[0m\u001b[0;34m\u001b[0m\u001b[0;34m\u001b[0m\u001b[0m\n\u001b[0m",
      "\u001b[0;32m~/Projects/DynamicalComponentsAnalysis/dca/data_util.py\u001b[0m in \u001b[0;36mload_accel_data\u001b[0;34m(filename, preprocess)\u001b[0m\n\u001b[1;32m    139\u001b[0m \u001b[0;34m\u001b[0m\u001b[0m\n\u001b[1;32m    140\u001b[0m \u001b[0;32mdef\u001b[0m \u001b[0mload_accel_data\u001b[0m\u001b[0;34m(\u001b[0m\u001b[0mfilename\u001b[0m\u001b[0;34m,\u001b[0m \u001b[0mpreprocess\u001b[0m\u001b[0;34m=\u001b[0m\u001b[0;32mTrue\u001b[0m\u001b[0;34m)\u001b[0m\u001b[0;34m:\u001b[0m\u001b[0;34m\u001b[0m\u001b[0;34m\u001b[0m\u001b[0m\n\u001b[0;32m--> 141\u001b[0;31m     \u001b[0mdf\u001b[0m \u001b[0;34m=\u001b[0m \u001b[0mpd\u001b[0m\u001b[0;34m.\u001b[0m\u001b[0mread_csv\u001b[0m\u001b[0;34m(\u001b[0m\u001b[0mfilename\u001b[0m\u001b[0;34m)\u001b[0m\u001b[0;34m\u001b[0m\u001b[0;34m\u001b[0m\u001b[0m\n\u001b[0m\u001b[1;32m    142\u001b[0m     \u001b[0mX\u001b[0m \u001b[0;34m=\u001b[0m \u001b[0mdf\u001b[0m\u001b[0;34m.\u001b[0m\u001b[0mvalues\u001b[0m\u001b[0;34m[\u001b[0m\u001b[0;34m:\u001b[0m\u001b[0;34m,\u001b[0m \u001b[0;36m1\u001b[0m\u001b[0;34m:\u001b[0m\u001b[0;34m]\u001b[0m\u001b[0;34m\u001b[0m\u001b[0;34m\u001b[0m\u001b[0m\n\u001b[1;32m    143\u001b[0m     \u001b[0;32mif\u001b[0m \u001b[0mpreprocess\u001b[0m\u001b[0;34m:\u001b[0m\u001b[0;34m\u001b[0m\u001b[0;34m\u001b[0m\u001b[0m\n",
      "\u001b[0;32m/miniconda3/envs/neuro/lib/python3.7/site-packages/pandas/io/parsers.py\u001b[0m in \u001b[0;36mparser_f\u001b[0;34m(filepath_or_buffer, sep, delimiter, header, names, index_col, usecols, squeeze, prefix, mangle_dupe_cols, dtype, engine, converters, true_values, false_values, skipinitialspace, skiprows, skipfooter, nrows, na_values, keep_default_na, na_filter, verbose, skip_blank_lines, parse_dates, infer_datetime_format, keep_date_col, date_parser, dayfirst, iterator, chunksize, compression, thousands, decimal, lineterminator, quotechar, quoting, doublequote, escapechar, comment, encoding, dialect, tupleize_cols, error_bad_lines, warn_bad_lines, delim_whitespace, low_memory, memory_map, float_precision)\u001b[0m\n\u001b[1;32m    700\u001b[0m                     skip_blank_lines=skip_blank_lines)\n\u001b[1;32m    701\u001b[0m \u001b[0;34m\u001b[0m\u001b[0m\n\u001b[0;32m--> 702\u001b[0;31m         \u001b[0;32mreturn\u001b[0m \u001b[0m_read\u001b[0m\u001b[0;34m(\u001b[0m\u001b[0mfilepath_or_buffer\u001b[0m\u001b[0;34m,\u001b[0m \u001b[0mkwds\u001b[0m\u001b[0;34m)\u001b[0m\u001b[0;34m\u001b[0m\u001b[0;34m\u001b[0m\u001b[0m\n\u001b[0m\u001b[1;32m    703\u001b[0m \u001b[0;34m\u001b[0m\u001b[0m\n\u001b[1;32m    704\u001b[0m     \u001b[0mparser_f\u001b[0m\u001b[0;34m.\u001b[0m\u001b[0m__name__\u001b[0m \u001b[0;34m=\u001b[0m \u001b[0mname\u001b[0m\u001b[0;34m\u001b[0m\u001b[0;34m\u001b[0m\u001b[0m\n",
      "\u001b[0;32m/miniconda3/envs/neuro/lib/python3.7/site-packages/pandas/io/parsers.py\u001b[0m in \u001b[0;36m_read\u001b[0;34m(filepath_or_buffer, kwds)\u001b[0m\n\u001b[1;32m    427\u001b[0m \u001b[0;34m\u001b[0m\u001b[0m\n\u001b[1;32m    428\u001b[0m     \u001b[0;31m# Create the parser.\u001b[0m\u001b[0;34m\u001b[0m\u001b[0;34m\u001b[0m\u001b[0;34m\u001b[0m\u001b[0m\n\u001b[0;32m--> 429\u001b[0;31m     \u001b[0mparser\u001b[0m \u001b[0;34m=\u001b[0m \u001b[0mTextFileReader\u001b[0m\u001b[0;34m(\u001b[0m\u001b[0mfilepath_or_buffer\u001b[0m\u001b[0;34m,\u001b[0m \u001b[0;34m**\u001b[0m\u001b[0mkwds\u001b[0m\u001b[0;34m)\u001b[0m\u001b[0;34m\u001b[0m\u001b[0;34m\u001b[0m\u001b[0m\n\u001b[0m\u001b[1;32m    430\u001b[0m \u001b[0;34m\u001b[0m\u001b[0m\n\u001b[1;32m    431\u001b[0m     \u001b[0;32mif\u001b[0m \u001b[0mchunksize\u001b[0m \u001b[0;32mor\u001b[0m \u001b[0miterator\u001b[0m\u001b[0;34m:\u001b[0m\u001b[0;34m\u001b[0m\u001b[0;34m\u001b[0m\u001b[0m\n",
      "\u001b[0;32m/miniconda3/envs/neuro/lib/python3.7/site-packages/pandas/io/parsers.py\u001b[0m in \u001b[0;36m__init__\u001b[0;34m(self, f, engine, **kwds)\u001b[0m\n\u001b[1;32m    893\u001b[0m             \u001b[0mself\u001b[0m\u001b[0;34m.\u001b[0m\u001b[0moptions\u001b[0m\u001b[0;34m[\u001b[0m\u001b[0;34m'has_index_names'\u001b[0m\u001b[0;34m]\u001b[0m \u001b[0;34m=\u001b[0m \u001b[0mkwds\u001b[0m\u001b[0;34m[\u001b[0m\u001b[0;34m'has_index_names'\u001b[0m\u001b[0;34m]\u001b[0m\u001b[0;34m\u001b[0m\u001b[0;34m\u001b[0m\u001b[0m\n\u001b[1;32m    894\u001b[0m \u001b[0;34m\u001b[0m\u001b[0m\n\u001b[0;32m--> 895\u001b[0;31m         \u001b[0mself\u001b[0m\u001b[0;34m.\u001b[0m\u001b[0m_make_engine\u001b[0m\u001b[0;34m(\u001b[0m\u001b[0mself\u001b[0m\u001b[0;34m.\u001b[0m\u001b[0mengine\u001b[0m\u001b[0;34m)\u001b[0m\u001b[0;34m\u001b[0m\u001b[0;34m\u001b[0m\u001b[0m\n\u001b[0m\u001b[1;32m    896\u001b[0m \u001b[0;34m\u001b[0m\u001b[0m\n\u001b[1;32m    897\u001b[0m     \u001b[0;32mdef\u001b[0m \u001b[0mclose\u001b[0m\u001b[0;34m(\u001b[0m\u001b[0mself\u001b[0m\u001b[0;34m)\u001b[0m\u001b[0;34m:\u001b[0m\u001b[0;34m\u001b[0m\u001b[0;34m\u001b[0m\u001b[0m\n",
      "\u001b[0;32m/miniconda3/envs/neuro/lib/python3.7/site-packages/pandas/io/parsers.py\u001b[0m in \u001b[0;36m_make_engine\u001b[0;34m(self, engine)\u001b[0m\n\u001b[1;32m   1120\u001b[0m     \u001b[0;32mdef\u001b[0m \u001b[0m_make_engine\u001b[0m\u001b[0;34m(\u001b[0m\u001b[0mself\u001b[0m\u001b[0;34m,\u001b[0m \u001b[0mengine\u001b[0m\u001b[0;34m=\u001b[0m\u001b[0;34m'c'\u001b[0m\u001b[0;34m)\u001b[0m\u001b[0;34m:\u001b[0m\u001b[0;34m\u001b[0m\u001b[0;34m\u001b[0m\u001b[0m\n\u001b[1;32m   1121\u001b[0m         \u001b[0;32mif\u001b[0m \u001b[0mengine\u001b[0m \u001b[0;34m==\u001b[0m \u001b[0;34m'c'\u001b[0m\u001b[0;34m:\u001b[0m\u001b[0;34m\u001b[0m\u001b[0;34m\u001b[0m\u001b[0m\n\u001b[0;32m-> 1122\u001b[0;31m             \u001b[0mself\u001b[0m\u001b[0;34m.\u001b[0m\u001b[0m_engine\u001b[0m \u001b[0;34m=\u001b[0m \u001b[0mCParserWrapper\u001b[0m\u001b[0;34m(\u001b[0m\u001b[0mself\u001b[0m\u001b[0;34m.\u001b[0m\u001b[0mf\u001b[0m\u001b[0;34m,\u001b[0m \u001b[0;34m**\u001b[0m\u001b[0mself\u001b[0m\u001b[0;34m.\u001b[0m\u001b[0moptions\u001b[0m\u001b[0;34m)\u001b[0m\u001b[0;34m\u001b[0m\u001b[0;34m\u001b[0m\u001b[0m\n\u001b[0m\u001b[1;32m   1123\u001b[0m         \u001b[0;32melse\u001b[0m\u001b[0;34m:\u001b[0m\u001b[0;34m\u001b[0m\u001b[0;34m\u001b[0m\u001b[0m\n\u001b[1;32m   1124\u001b[0m             \u001b[0;32mif\u001b[0m \u001b[0mengine\u001b[0m \u001b[0;34m==\u001b[0m \u001b[0;34m'python'\u001b[0m\u001b[0;34m:\u001b[0m\u001b[0;34m\u001b[0m\u001b[0;34m\u001b[0m\u001b[0m\n",
      "\u001b[0;32m/miniconda3/envs/neuro/lib/python3.7/site-packages/pandas/io/parsers.py\u001b[0m in \u001b[0;36m__init__\u001b[0;34m(self, src, **kwds)\u001b[0m\n\u001b[1;32m   1851\u001b[0m         \u001b[0mkwds\u001b[0m\u001b[0;34m[\u001b[0m\u001b[0;34m'usecols'\u001b[0m\u001b[0;34m]\u001b[0m \u001b[0;34m=\u001b[0m \u001b[0mself\u001b[0m\u001b[0;34m.\u001b[0m\u001b[0musecols\u001b[0m\u001b[0;34m\u001b[0m\u001b[0;34m\u001b[0m\u001b[0m\n\u001b[1;32m   1852\u001b[0m \u001b[0;34m\u001b[0m\u001b[0m\n\u001b[0;32m-> 1853\u001b[0;31m         \u001b[0mself\u001b[0m\u001b[0;34m.\u001b[0m\u001b[0m_reader\u001b[0m \u001b[0;34m=\u001b[0m \u001b[0mparsers\u001b[0m\u001b[0;34m.\u001b[0m\u001b[0mTextReader\u001b[0m\u001b[0;34m(\u001b[0m\u001b[0msrc\u001b[0m\u001b[0;34m,\u001b[0m \u001b[0;34m**\u001b[0m\u001b[0mkwds\u001b[0m\u001b[0;34m)\u001b[0m\u001b[0;34m\u001b[0m\u001b[0;34m\u001b[0m\u001b[0m\n\u001b[0m\u001b[1;32m   1854\u001b[0m         \u001b[0mself\u001b[0m\u001b[0;34m.\u001b[0m\u001b[0munnamed_cols\u001b[0m \u001b[0;34m=\u001b[0m \u001b[0mself\u001b[0m\u001b[0;34m.\u001b[0m\u001b[0m_reader\u001b[0m\u001b[0;34m.\u001b[0m\u001b[0munnamed_cols\u001b[0m\u001b[0;34m\u001b[0m\u001b[0;34m\u001b[0m\u001b[0m\n\u001b[1;32m   1855\u001b[0m \u001b[0;34m\u001b[0m\u001b[0m\n",
      "\u001b[0;32mpandas/_libs/parsers.pyx\u001b[0m in \u001b[0;36mpandas._libs.parsers.TextReader.__cinit__\u001b[0;34m()\u001b[0m\n",
      "\u001b[0;32mpandas/_libs/parsers.pyx\u001b[0m in \u001b[0;36mpandas._libs.parsers.TextReader._setup_parser_source\u001b[0;34m()\u001b[0m\n",
      "\u001b[0;31mFileNotFoundError\u001b[0m: [Errno 2] File b'accel/sub_19.csv' does not exist: b'accel/sub_19.csv'"
     ]
    }
   ],
   "source": [
    "reload(data_util)\n",
    "file = 'accel/sub_19.csv'\n",
    "accel = data_util.load_accel_data(file)"
   ]
  },
  {
   "cell_type": "code",
   "execution_count": 13,
   "metadata": {},
   "outputs": [
    {
     "data": {
      "text/plain": [
       "(27854, 55)"
      ]
     },
     "execution_count": 13,
     "metadata": {},
     "output_type": "execute_result"
    }
   ],
   "source": [
    "HC['neural'].shape"
   ]
  },
  {
   "cell_type": "code",
   "execution_count": 4,
   "metadata": {},
   "outputs": [],
   "source": [
    "T_pi_vals = np.arange(1, 11)\n",
    "\n",
    "dim_vals = np.array([5, 10, 15, 25])\n",
    "accel_dims = np.array([3, 4, 5, 6])\n",
    "temp_dims = np.array([3, 4, 5, 6])\n",
    "hc_dims = np.array([10, 15, 25, 30])\n",
    "\n",
    "offsets = np.array([0, 5, 10, 15])\n",
    "accel_offsets = np.array([0, 3, 6, 9])\n",
    "\n",
    "win = 3\n",
    "n_cv = 5\n",
    "n_init = 5"
   ]
  },
  {
   "cell_type": "code",
   "execution_count": 7,
   "metadata": {
    "scrolled": true
   },
   "outputs": [
    {
     "name": "stdout",
     "output_type": "stream",
     "text": [
      "fold 1 of 5\n",
      "dim 1 of 4\n",
      "dim 2 of 4\n",
      "dim 3 of 4\n",
      "dim 4 of 4\n",
      "fold 2 of 5\n",
      "dim 1 of 4\n",
      "dim 2 of 4\n",
      "dim 3 of 4\n",
      "dim 4 of 4\n",
      "fold 3 of 5\n",
      "dim 1 of 4\n",
      "dim 2 of 4\n",
      "dim 3 of 4\n",
      "dim 4 of 4\n",
      "fold 4 of 5\n",
      "dim 1 of 4\n",
      "dim 2 of 4\n",
      "dim 3 of 4\n",
      "dim 4 of 4\n",
      "fold 5 of 5\n",
      "dim 1 of 4\n",
      "dim 2 of 4\n",
      "dim 3 of 4\n",
      "dim 4 of 4\n",
      "fold 1 of 5\n",
      "dim 1 of 4\n",
      "dim 2 of 4\n",
      "dim 3 of 4\n",
      "fold 2 of 5\n",
      "dim 1 of 4\n",
      "dim 2 of 4\n",
      "dim 3 of 4\n",
      "dim 4 of 4\n",
      "fold 3 of 5\n",
      "dim 1 of 4\n",
      "dim 2 of 4\n",
      "dim 3 of 4\n",
      "dim 4 of 4\n",
      "fold 4 of 5\n",
      "dim 1 of 4\n",
      "dim 2 of 4\n",
      "dim 3 of 4\n",
      "dim 4 of 4\n",
      "fold 5 of 5\n",
      "dim 1 of 4\n",
      "dim 2 of 4\n",
      "dim 3 of 4\n",
      "dim 4 of 4\n",
      "fold 1 of 5\n",
      "dim 1 of 4\n",
      "dim 2 of 4\n",
      "dim 3 of 4\n",
      "dim 4 of 4\n",
      "fold 2 of 5\n",
      "dim 1 of 4\n",
      "dim 2 of 4\n",
      "dim 3 of 4\n",
      "dim 4 of 4\n",
      "fold 3 of 5\n",
      "Warning: non-PSD matrix (had to increase eigenvalues)\n",
      "dim 1 of 4\n",
      "dim 2 of 4\n",
      "dim 3 of 4\n",
      "dim 4 of 4\n",
      "fold 4 of 5\n",
      "Warning: non-PSD matrix (had to increase eigenvalues)\n",
      "dim 1 of 4\n",
      "dim 2 of 4\n",
      "dim 3 of 4\n",
      "dim 4 of 4\n",
      "fold 5 of 5\n",
      "dim 1 of 4\n",
      "dim 2 of 4\n",
      "dim 3 of 4\n",
      "dim 4 of 4\n",
      "fold 1 of 5\n",
      "Warning: non-PSD matrix (had to increase eigenvalues)\n",
      "dim 1 of 4\n",
      "dim 2 of 4\n",
      "dim 3 of 4\n",
      "dim 4 of 4\n",
      "fold 2 of 5\n",
      "Warning: non-PSD matrix (had to increase eigenvalues)\n",
      "dim 1 of 4\n",
      "dim 2 of 4\n",
      "dim 3 of 4\n",
      "dim 4 of 4\n",
      "fold 3 of 5\n",
      "Warning: non-PSD matrix (had to increase eigenvalues)\n",
      "dim 1 of 4\n",
      "dim 2 of 4\n",
      "dim 3 of 4\n",
      "dim 4 of 4\n",
      "fold 4 of 5\n",
      "Warning: non-PSD matrix (had to increase eigenvalues)\n",
      "dim 1 of 4\n",
      "dim 2 of 4\n",
      "dim 3 of 4\n",
      "dim 4 of 4\n",
      "fold 5 of 5\n",
      "Warning: non-PSD matrix (had to increase eigenvalues)\n",
      "dim 1 of 4\n",
      "dim 2 of 4\n",
      "dim 3 of 4\n",
      "dim 4 of 4\n"
     ]
    }
   ],
   "source": [
    "reload(analysis)\n",
    "reload(plotting)\n",
    "\n",
    "M1_results = analysis.run_analysis(M1['M1'], M1['cursor'], T_pi_vals, dim_vals=dim_vals, offset_vals=offsets,\n",
    "                                   num_cv_folds=n_cv, decoding_window=win, n_init=n_init, verbose=True)\n",
    "\n",
    "HC_results = analysis.run_analysis(HC['neural'], HC['loc'], T_pi_vals, dim_vals=hc_dims, offset_vals=offsets,\n",
    "                                   num_cv_folds=n_cv, decoding_window=win, n_init=n_init, verbose=True)\n",
    "\n",
    "weather_results = analysis.run_analysis(weather, weather, T_pi_vals, dim_vals=dim_vals, offset_vals=offsets,\n",
    "                                   num_cv_folds=n_cv, decoding_window=win, n_init=n_init, verbose=True)\n",
    "\n",
    "accel_results = analysis.run_analysis(accel, accel, T_pi_vals, dim_vals=accel_dims, offset_vals=accel_offsets,\n",
    "                                   num_cv_folds=n_cv, decoding_window=win, n_init=n_init, verbose=True)"
   ]
  },
  {
   "cell_type": "code",
   "execution_count": 10,
   "metadata": {},
   "outputs": [],
   "source": [
    "np.savez('real_data.npz', M1_results=M1_results, HC_results=HC_results,\n",
    "         weather_results=weather_results, accel_results=accel_results)"
   ]
  },
  {
   "cell_type": "code",
   "execution_count": 3,
   "metadata": {},
   "outputs": [],
   "source": [
    "d = np.load('real_data.npz')\n",
    "M1_results = d['M1_results']\n",
    "HC_results = d['HC_results']\n",
    "weather_results = d['weather_results']\n",
    "accel_results = d['accel_results']"
   ]
  },
  {
   "cell_type": "code",
   "execution_count": 8,
   "metadata": {},
   "outputs": [
    {
     "data": {
      "image/png": "[encoded data removed]",
      "text/plain": [
       "<Figure size 396x194.4 with 8 Axes>"
      ]
     },
     "metadata": {
      "needs_background": "light"
     },
     "output_type": "display_data"
    }
   ],
   "source": [
    "reload(plotting)\n",
    "fig, axes = plotting.decoding_fix_axes(fig_width=5.5, fig_height=2.7,\n",
    "                                       wpad_mid=.075, hpad_mid=.1,\n",
    "                                       wpad_left=.09, wpad_right=.025,\n",
    "                                       hpad_bot=.12)\n",
    "loc='lower right'\n",
    "bbox_to_anchor=(1.18, -.05)\n",
    "\n",
    "plotting.scatter_r2_vals(M1_results, 4, dim_vals, offsets, T_pi_vals, min_val=0, max_val=.5,\n",
    "                         ax=axes[0], title='M1', timestep_units='ms', timestep=50, loc=loc,\n",
    "                         bbox_to_anchor=bbox_to_anchor)\n",
    "plotting.plot_r2_vs_T(M1_results, T_pi_vals, dim_vals, offsets, offset_idx=1, min_max_val=.08,\n",
    "                      ax=axes[4], legend=False, timestep_units='ms', timestep=50)\n",
    "\n",
    "plotting.scatter_r2_vals(HC_results, 4, hc_dims, offsets, T_pi_vals, min_val=0, max_val=.15,\n",
    "                         ax=axes[1], ylabel=False, title='Hippocampus',\n",
    "                         timestep_units='ms', timestep=50, loc=loc,\n",
    "                         bbox_to_anchor=bbox_to_anchor)\n",
    "plotting.plot_r2_vs_T(HC_results, T_pi_vals, hc_dims, offsets, offset_idx=1, min_max_val=.04,\n",
    "                      ax=axes[5], legend=False, ylabel=False, timestep_units='ms', timestep=50)\n",
    "\n",
    "plotting.scatter_r2_vals(weather_results, 4, temp_dims, offsets, T_pi_vals, min_val=.6, max_val=1.,\n",
    "                         ax=axes[2], ylabel=False, title='Temperature',\n",
    "                        timestep_units='days', timestep=1, legend=True, loc=loc,\n",
    "                         bbox_to_anchor=bbox_to_anchor)\n",
    "plotting.plot_r2_vs_T(weather_results, T_pi_vals, temp_dims, offsets, offset_idx=0, min_max_val=.05,\n",
    "                      ax=axes[6], legend=False, ylabel=False, timestep_units='day', timestep=1)\n",
    "\n",
    "plotting.scatter_r2_vals(accel_results, 4, accel_dims, accel_offsets, T_pi_vals, min_val=.2, max_val=.9,\n",
    "                         ax=axes[3], ylabel=False, title='Accelerometer',\n",
    "                        timestep_units='ms', timestep=20,loc=loc,\n",
    "                         bbox_to_anchor=bbox_to_anchor)\n",
    "plotting.plot_r2_vs_T(accel_results, T_pi_vals, accel_dims, accel_offsets, offset_idx=1, min_max_val=.4,\n",
    "                      ax=axes[7], legend=False, ylabel=False, timestep_units='ms', timestep=20)\n",
    "\n",
    "#plt.savefig(os.path.join(os.environ['HOME'], 'Downloads/real_data.pdf'), dpi=300)\n",
    "#plt.savefig(os.path.join(os.environ['HOME'], 'Downloads/real_data.png'), dpi=300)"
   ]
  },
  {
   "cell_type": "markdown",
   "metadata": {},
   "source": [
    "# SFA R^2"
   ]
  },
  {
   "cell_type": "code",
   "execution_count": 30,
   "metadata": {},
   "outputs": [
    {
     "name": "stdout",
     "output_type": "stream",
     "text": [
      "(4, 10)\n",
      "(4, 10)\n",
      "(4, 10)\n",
      "(4, 10)\n",
      "(4, 10)\n",
      "(4, 10)\n",
      "(4, 10)\n",
      "(4, 10)\n"
     ]
    },
    {
     "data": {
      "image/png": "[encoded data removed]",
      "text/plain": [
       "<Figure size 396x194.4 with 8 Axes>"
      ]
     },
     "metadata": {
      "needs_background": "light"
     },
     "output_type": "display_data"
    }
   ],
   "source": [
    "reload(plotting)\n",
    "fig, axes = plotting.decoding_fix_axes(fig_width=5.5, fig_height=2.7,\n",
    "                                       wpad_mid=.075, hpad_mid=.11,\n",
    "                                       wpad_left=.09, wpad_right=.025,\n",
    "                                       hpad_bot=.12)\n",
    "loc='lower right'\n",
    "bbox_to_anchor=(1.18, -.05)\n",
    "\n",
    "plotting.plot_absolute_r2_vs_T(M1_results, T_pi_vals, dim_vals, offsets, offset_idx=1, min_max_val=.5,\n",
    "                      ax=axes[0], legend=False, timestep_units='ms', timestep=50)\n",
    "plotting.plot_absolute_r2_vs_T(M1_results, T_pi_vals, dim_vals, offsets, offset_idx=1, min_max_val=.5,\n",
    "                      ax=axes[4], legend=False, timestep_units='ms', timestep=50, dca=False)\n",
    "\n",
    "plotting.plot_absolute_r2_vs_T(HC_results, T_pi_vals, hc_dims, offsets, offset_idx=1, min_max_val=.15,\n",
    "                      ax=axes[1], legend=False, ylabel=False, timestep_units='ms', timestep=50)\n",
    "plotting.plot_absolute_r2_vs_T(HC_results, T_pi_vals, hc_dims, offsets, offset_idx=1, min_max_val=.15,\n",
    "                      ax=axes[5], legend=False, ylabel=False, timestep_units='ms', timestep=50, dca=False)\n",
    "\n",
    "plotting.plot_absolute_r2_vs_T(weather_results, T_pi_vals, temp_dims, offsets, offset_idx=0, min_max_val=1.1,\n",
    "                      ax=axes[2], legend=False, ylabel=False, timestep_units='day', timestep=1)\n",
    "plotting.plot_absolute_r2_vs_T(weather_results, T_pi_vals, temp_dims, offsets, offset_idx=0, min_max_val=1.1,\n",
    "                      ax=axes[6], legend=False, ylabel=False, timestep_units='day', timestep=1, dca=False)\n",
    "\n",
    "plotting.plot_absolute_r2_vs_T(accel_results, T_pi_vals, accel_dims, accel_offsets, offset_idx=1, min_max_val=1.,\n",
    "                      ax=axes[3], legend=False, ylabel=False, timestep_units='ms', timestep=20)\n",
    "plotting.plot_absolute_r2_vs_T(accel_results, T_pi_vals, accel_dims, accel_offsets, offset_idx=1, min_max_val=1.,\n",
    "                      ax=axes[7], legend=False, ylabel=False, timestep_units='ms', timestep=20, dca=False)\n",
    "\n",
    "plt.savefig(os.path.join(os.environ['HOME'], 'Downloads/real_data_absolute_r2.pdf'), dpi=300)\n",
    "#plt.savefig(os.path.join(os.environ['HOME'], 'Downloads/real_data.png'), dpi=300)"
   ]
  },
  {
   "cell_type": "markdown",
   "metadata": {},
   "source": [
    "# Neural Forcasting"
   ]
  },
  {
   "cell_type": "code",
   "execution_count": 16,
   "metadata": {},
   "outputs": [],
   "source": [
    "T_pi_vals = np.arange(1, 11)\n",
    "\n",
    "m1_dims = np.array([10, 20, 30, 40])\n",
    "dims = np.array([5, 10, 15, 25])\n",
    "\n",
    "offsets = np.array([0, 2, 4, 8])\n",
    "\n",
    "win = 3\n",
    "n_cv = 5\n",
    "n_init = 5"
   ]
  },
  {
   "cell_type": "code",
   "execution_count": 17,
   "metadata": {
    "scrolled": true
   },
   "outputs": [
    {
     "name": "stdout",
     "output_type": "stream",
     "text": [
      "fold 1 of 5\n",
      "dim 1 of 4\n",
      "dim 2 of 4\n",
      "dim 3 of 4\n",
      "dim 4 of 4\n",
      "fold 2 of 5\n",
      "dim 1 of 4\n",
      "dim 2 of 4\n",
      "dim 3 of 4\n",
      "dim 4 of 4\n",
      "fold 3 of 5\n",
      "dim 1 of 4\n",
      "dim 2 of 4\n",
      "dim 3 of 4\n",
      "dim 4 of 4\n",
      "fold 4 of 5\n",
      "dim 1 of 4\n",
      "dim 2 of 4\n",
      "dim 3 of 4\n",
      "dim 4 of 4\n",
      "fold 5 of 5\n",
      "dim 1 of 4\n",
      "dim 2 of 4\n",
      "dim 3 of 4\n",
      "dim 4 of 4\n",
      "fold 1 of 5\n",
      "dim 1 of 4\n",
      "dim 2 of 4\n",
      "dim 3 of 4\n",
      "dim 4 of 4\n",
      "fold 2 of 5\n",
      "dim 1 of 4\n",
      "dim 2 of 4\n",
      "dim 3 of 4\n",
      "dim 4 of 4\n",
      "fold 3 of 5\n",
      "dim 1 of 4\n",
      "dim 2 of 4\n",
      "dim 3 of 4\n",
      "dim 4 of 4\n",
      "fold 4 of 5\n",
      "dim 1 of 4\n",
      "dim 2 of 4\n",
      "dim 3 of 4\n",
      "dim 4 of 4\n",
      "fold 5 of 5\n",
      "dim 1 of 4\n",
      "dim 2 of 4\n",
      "dim 3 of 4\n",
      "dim 4 of 4\n"
     ]
    }
   ],
   "source": [
    "reload(analysis)\n",
    "reload(plotting)\n",
    "\n",
    "M1_forecast_results = analysis.run_analysis(M1['M1'], M1['M1'], T_pi_vals, dim_vals=m1_dims, offset_vals=offsets,\n",
    "                                   num_cv_folds=n_cv, decoding_window=win, n_init=n_init, verbose=True)\n",
    "\n",
    "HC_forecast_results = analysis.run_analysis(HC['neural'], HC['neural'], T_pi_vals, dim_vals=dims,\n",
    "                                            offset_vals=offsets, num_cv_folds=n_cv, decoding_window=win,\n",
    "                                            n_init=n_init, verbose=True)"
   ]
  },
  {
   "cell_type": "code",
   "execution_count": 69,
   "metadata": {},
   "outputs": [],
   "source": [
    "np.savez('neural_forecast.npz', M1_forecast_results=M1_forecast_results, HC_forecast_results=HC_forecast_results)"
   ]
  },
  {
   "cell_type": "code",
   "execution_count": 66,
   "metadata": {},
   "outputs": [
    {
     "data": {
      "image/png": "[encoded data removed]",
      "text/plain": [
       "<Figure size 252x252 with 4 Axes>"
      ]
     },
     "metadata": {
      "needs_background": "light"
     },
     "output_type": "display_data"
    }
   ],
   "source": [
    "reload(plotting)\n",
    "fig, axes = plotting.decoding_fix_axes2(fig_width=3.5, fig_height=3.5,\n",
    "                                       wpad_mid=.15, hpad_mid=.1,\n",
    "                                       wpad_left=.2, wpad_right=.05,\n",
    "                                       hpad_bot=.12)\n",
    "loc='upper left'\n",
    "bbox_to_anchor=(.525, .4)\n",
    "\n",
    "plotting.scatter_r2_vals(M1_forecast_results, 4, m1_dims, offsets, T_pi_vals, min_val=0, max_val=.65,\n",
    "                         ax=axes[0], title='M1', timestep_units='ms', timestep=50, loc=loc,\n",
    "                         bbox_to_anchor=bbox_to_anchor)\n",
    "plotting.plot_pi_vs_T(M1_forecast_results, T_pi_vals, m1_dims, offsets, offset_idx=2, min_max_val=2e-3,\n",
    "                      ax=axes[2], legend=False, timestep_units='ms', timestep=50)\n",
    "\n",
    "loc='upper left'\n",
    "bbox_to_anchor=(-.1, .8)\n",
    "plotting.scatter_r2_vals(HC_forecast_results, 4, dims, offsets, T_pi_vals, min_val=0, max_val=1.,\n",
    "                         ax=axes[1], ylabel=False, title='Hippocampus',\n",
    "                         timestep_units='ms', timestep=50, loc=loc,\n",
    "                         bbox_to_anchor=bbox_to_anchor)\n",
    "plotting.plot_pi_vs_T(HC_forecast_results, T_pi_vals, dims, offsets, offset_idx=3, min_max_val=.01,\n",
    "                      ax=axes[3], legend=False, ylabel=False, timestep_units='ms', timestep=50)\n",
    "\n",
    "\n",
    "plt.savefig(os.path.join(os.environ['HOME'], 'Downloads/real_data_neural_forecast.pdf'), dpi=300)\n",
    "#plt.savefig(os.path.join(os.environ['HOME'], 'Downloads/real_data.png'), dpi=300)"
   ]
  },
  {
   "cell_type": "code",
   "execution_count": null,
   "metadata": {},
   "outputs": [],
   "source": []
  }
 ],
 "metadata": {
  "kernelspec": {
   "display_name": "Python 3",
   "language": "python",
   "name": "python3"
  },
  "language_info": {
   "codemirror_mode": {
    "name": "ipython",
    "version": 3
   },
   "file_extension": ".py",
   "mimetype": "text/x-python",
   "name": "python",
   "nbconvert_exporter": "python",
   "pygments_lexer": "ipython3",
   "version": "3.7.4"
  }
 },
 "nbformat": 4,
 "nbformat_minor": 2
}
