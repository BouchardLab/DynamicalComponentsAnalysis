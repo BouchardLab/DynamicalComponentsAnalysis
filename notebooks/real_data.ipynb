{
 "cells": [
  {
   "cell_type": "code",
   "execution_count": 29,
   "metadata": {},
   "outputs": [],
   "source": [
    "import h5py\n",
    "import numpy as np\n",
    "import matplotlib.pyplot as plt\n",
    "from imp import reload\n",
    "import pandas as pd\n",
    "\n",
    "from cca import analysis\n",
    "from cca import plotting\n",
    "from cca import data_util"
   ]
  },
  {
   "cell_type": "code",
   "execution_count": 57,
   "metadata": {},
   "outputs": [],
   "source": [
    "reload(data_util)\n",
    "M1 = data_util.load_sabes_data('neural/indy_20160627_01.mat')"
   ]
  },
  {
   "cell_type": "code",
   "execution_count": 58,
   "metadata": {},
   "outputs": [],
   "source": [
    "reload(data_util)\n",
    "HC = data_util.load_kording_paper_data('neural/example_data_hc.pickle')"
   ]
  },
  {
   "cell_type": "code",
   "execution_count": 61,
   "metadata": {},
   "outputs": [],
   "source": [
    "reload(data_util)\n",
    "weather = data_util.load_weather_data('weather/temperature.csv')"
   ]
  },
  {
   "cell_type": "code",
   "execution_count": 46,
   "metadata": {},
   "outputs": [],
   "source": [
    "reload(data_util)\n",
    "file = 'accel/sub_19.csv'\n",
    "accel = data_util.load_accel_data(file)"
   ]
  },
  {
   "cell_type": "code",
   "execution_count": 66,
   "metadata": {},
   "outputs": [],
   "source": [
    "T_pi_vals = np.arange(1, 11)\n",
    "\n",
    "dim_vals = np.array([5, 10, 15, 25])\n",
    "accel_dims = np.array([3, 4, 5, 6])\n",
    "\n",
    "offsets = np.array([0, 5, 10, 15])\n",
    "accel_offsets = np.array([0, 3, 6, 9])\n",
    "\n",
    "win = 3\n",
    "n_cv = 5\n",
    "n_init = 10"
   ]
  },
  {
   "cell_type": "code",
   "execution_count": null,
   "metadata": {},
   "outputs": [
    {
     "name": "stdout",
     "output_type": "stream",
     "text": [
      "fold 1 of 5\n",
      "dim 1 of 4\n",
      "dim 2 of 4\n",
      "dim 3 of 4\n",
      "dim 4 of 4\n",
      "fold 2 of 5\n",
      "dim 1 of 4\n",
      "dim 2 of 4\n",
      "dim 3 of 4\n",
      "dim 4 of 4\n"
     ]
    }
   ],
   "source": [
    "reload(analysis)\n",
    "reload(plotting)\n",
    "\n",
    "M1_results = analysis.run_analysis(M1['M1'], M1['cursor'], T_pi_vals, dim_vals=dim_vals, offset_vals=offset_vals,\n",
    "                                   num_cv_folds=n_cv, decoding_window=win, n_init=n_init)\n",
    "\n",
    "HC_results = analysis.run_analysis(HC['neural'], HC['loc'], T_pi_vals, dim_vals=dim_vals, offset_vals=offset_vals,\n",
    "                                   num_cv_folds=n_cv, decoding_window=win, n_init=n_init)\n",
    "\n",
    "weather_results = analysis.run_analysis(weather, weather, T_pi_vals, dim_vals=dim_vals, offset_vals=offset_vals,\n",
    "                                   num_cv_folds=n_cv, decoding_window=win, n_init=n_init)\n",
    "\n",
    "accel_results = analysis.run_analysis(accel, accel, T_pi_vals, dim_vals=accel_dims, offset_vals=accel_offsets,\n",
    "                                   num_cv_folds=n_cv, decoding_window=win, n_init=n_init)"
   ]
  },
  {
   "cell_type": "code",
   "execution_count": null,
   "metadata": {},
   "outputs": [],
   "source": [
    "reload(plotting)\n",
    "fig, axes = plotting.decoding_fix_axes()\n",
    "\n",
    "plotting.scatter_r2_vals(M1_results, 4, dim_vals, offset_vals, min_val=0, max_val=.9, ax=axes[0])\n",
    "plotting.plot_pi_vs_T(M1_results, T_pi_vals, dim_vals, offset_idx=1, min_max_val=.75, ax=axes[4])\n",
    "\n",
    "plotting.scatter_r2_vals(HC_results, 4, dim_vals, offset_vals, min_val=0, max_val=.9, ax=axes[1])\n",
    "plotting.plot_pi_vs_T(HC_results, T_pi_vals, dim_vals, offset_idx=1, min_max_val=.75, ax=axes[5])\n",
    "\n",
    "plotting.scatter_r2_vals(weather_results, 4, dim_vals, offset_vals, min_val=0, max_val=.9, ax=axes[2])\n",
    "plotting.plot_pi_vs_T(weather_results, T_pi_vals, dim_vals, offset_idx=1, min_max_val=.75, ax=axes[6])\n",
    "\n",
    "plotting.scatter_r2_vals(accel_results, 4, dim_vals, offset_vals, min_val=0, max_val=.9, ax=axes[3])\n",
    "plotting.plot_pi_vs_T(accel_results, T_pi_vals, dim_vals, offset_idx=1, min_max_val=.75, ax=axes[7])"
   ]
  },
  {
   "cell_type": "code",
   "execution_count": null,
   "metadata": {},
   "outputs": [],
   "source": []
  }
 ],
 "metadata": {
  "kernelspec": {
   "display_name": "Python 3",
   "language": "python",
   "name": "python3"
  },
  "language_info": {
   "codemirror_mode": {
    "name": "ipython",
    "version": 3
   },
   "file_extension": ".py",
   "mimetype": "text/x-python",
   "name": "python",
   "nbconvert_exporter": "python",
   "pygments_lexer": "ipython3",
   "version": "3.6.8"
  }
 },
 "nbformat": 4,
 "nbformat_minor": 2
}
