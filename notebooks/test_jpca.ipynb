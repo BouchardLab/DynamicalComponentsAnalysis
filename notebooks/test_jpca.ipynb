{
 "cells": [
  {
   "cell_type": "code",
   "execution_count": 1,
   "metadata": {},
   "outputs": [],
   "source": [
    "%load_ext autoreload\n",
    "%autoreload 2"
   ]
  },
  {
   "cell_type": "code",
   "execution_count": 2,
   "metadata": {},
   "outputs": [],
   "source": [
    "from dca.methods_comparison import JPCA, symmJPCA"
   ]
  },
  {
   "cell_type": "code",
   "execution_count": 3,
   "metadata": {},
   "outputs": [],
   "source": [
    "import numpy as np"
   ]
  },
  {
   "cell_type": "code",
   "execution_count": 23,
   "metadata": {},
   "outputs": [],
   "source": [
    "# Synthetic LDS\n",
    "n = 6\n",
    "A = np.random.rand(n, n)\n",
    "rho = np.max(np.abs(np.linalg.eigvals(A)))\n",
    "A = A * (0.9 / rho)\n",
    "\n",
    "B = np.random.rand(n, 1)\n",
    "C = np.eye(n)\n",
    "Q = np.eye(n)\n",
    "R = np.eye(n) * 0.1\n",
    "\n",
    "# Define the initial state and noise\n",
    "x0 = np.random.rand(n,)\n",
    "w = np.random.multivariate_normal(np.zeros(n), Q, size=1000)\n",
    "v = np.random.multivariate_normal(np.zeros(n), R, size=1000)\n",
    "\n",
    "# Simulate the system\n",
    "y = []\n",
    "x = x0\n",
    "for i in range(1000):\n",
    "    y.append(np.dot(C, x) + v[i])\n",
    "    x = np.dot(A, x) + w[i]\n",
    "\n",
    "# Convert the output to a NumPy array\n",
    "y = np.array(y)"
   ]
  },
  {
   "cell_type": "code",
   "execution_count": 30,
   "metadata": {},
   "outputs": [],
   "source": [
    "j1 = JPCA(mean_subtract=False)\n",
    "j2 = symmJPCA(mean_subtract=False)"
   ]
  },
  {
   "cell_type": "code",
   "execution_count": 38,
   "metadata": {},
   "outputs": [
    {
     "name": "stdout",
     "output_type": "stream",
     "text": [
      "[[ 0.          0.0030341  -0.00388198 -0.00200945  0.00091825  0.01159508]\n",
      " [-0.0030341   0.          0.08449393 -0.02690001 -0.05326507  0.097648  ]\n",
      " [ 0.00388198 -0.08449393  0.          0.02414042 -0.0560993   0.03227707]\n",
      " [ 0.00200945  0.02690001 -0.02414042  0.         -0.03015136 -0.02963248]\n",
      " [-0.00091825  0.05326507  0.0560993   0.03015136  0.          0.02634476]\n",
      " [-0.01159508 -0.097648   -0.03227707  0.02963248 -0.02634476  0.        ]]\n"
     ]
    },
    {
     "data": {
      "text/plain": [
       "<dca.methods_comparison.JPCA at 0x7f51b01a0198>"
      ]
     },
     "execution_count": 38,
     "metadata": {},
     "output_type": "execute_result"
    }
   ],
   "source": [
    "j1.fit(y[np.newaxis, :, :])"
   ]
  },
  {
   "cell_type": "code",
   "execution_count": 33,
   "metadata": {},
   "outputs": [
    {
     "data": {
      "text/plain": [
       "array([ 0.15812898, -0.15812898,  0.05030167, -0.05030167,  0.01079993,\n",
       "       -0.01079993])"
      ]
     },
     "execution_count": 33,
     "metadata": {},
     "output_type": "execute_result"
    }
   ],
   "source": [
    "j1.eigen_vals_"
   ]
  },
  {
   "cell_type": "code",
   "execution_count": 57,
   "metadata": {},
   "outputs": [
    {
     "name": "stdout",
     "output_type": "stream",
     "text": [
      "[[-0.84267717  0.18262221  0.19500639  0.05684081  0.2121093   0.15784925]\n",
      " [ 0.18262221 -1.01168561  0.1246508   0.12028392  0.16344617  0.19402849]\n",
      " [ 0.19500639  0.1246508  -0.75494698  0.16827326  0.078352    0.04774874]\n",
      " [ 0.05684081  0.12028392  0.16827326 -0.82267497  0.11855531  0.14109258]\n",
      " [ 0.2121093   0.16344617  0.078352    0.11855531 -0.6963662   0.1351131 ]\n",
      " [ 0.15784925  0.19402849  0.04774874  0.14109258  0.1351131  -0.82427817]]\n"
     ]
    },
    {
     "data": {
      "text/plain": [
       "<dca.methods_comparison.symmJPCA at 0x7f51b01a07b8>"
      ]
     },
     "execution_count": 57,
     "metadata": {},
     "output_type": "execute_result"
    }
   ],
   "source": [
    "j2.fit(y[np.newaxis, :, :])"
   ]
  },
  {
   "cell_type": "code",
   "execution_count": 36,
   "metadata": {},
   "outputs": [
    {
     "data": {
      "text/plain": [
       "array([-0.116602  , -0.80571629, -0.90228842, -0.90228842, -1.07561774,\n",
       "       -1.15011624])"
      ]
     },
     "execution_count": 36,
     "metadata": {},
     "output_type": "execute_result"
    }
   ],
   "source": [
    "j2.eigen_vals_"
   ]
  },
  {
   "cell_type": "code",
   "execution_count": null,
   "metadata": {},
   "outputs": [],
   "source": [
    "# Test implementation in 2 ways: \n",
    "# 1. Fit to data generated from symmetric matrix\n",
    "# 2. Compare implementation of optimize asymmetric to to existing jpca"
   ]
  },
  {
   "cell_type": "code",
   "execution_count": 100,
   "metadata": {},
   "outputs": [],
   "source": [
    "# Fitting to symmetric matrix\n",
    "n = 6\n",
    "A = np.random.rand(n, n)\n",
    "A = 0.5 * (A + A.T)\n",
    "rho = np.max(np.abs(np.linalg.eigvals(A)))\n",
    "A = A * (0.9 / rho)\n",
    "\n",
    "B = np.random.rand(n, 1)\n",
    "C = np.eye(n)\n",
    "Q = np.eye(n)\n",
    "R = np.eye(n) * 0.1\n",
    "\n",
    "n_samples = int(1e5)\n",
    "\n",
    "# Define the initial state and noise\n",
    "x0 = np.random.rand(n,)\n",
    "w = np.random.multivariate_normal(np.zeros(n), Q, size=n_samples)\n",
    "v = np.random.multivariate_normal(np.zeros(n), R, size=n_samples)\n",
    "\n",
    "# Simulate the system\n",
    "y = []\n",
    "x = x0\n",
    "for i in range(n_samples):\n",
    "    y.append(np.dot(C, x))\n",
    "    x = np.dot(A, x) + w[i]\n",
    "    \n",
    "# Convert the output to a NumPy array\n",
    "y = np.array(y)"
   ]
  },
  {
   "cell_type": "code",
   "execution_count": 102,
   "metadata": {},
   "outputs": [],
   "source": [
    "j2 = symmJPCA(mean_subtract=False)"
   ]
  },
  {
   "cell_type": "code",
   "execution_count": 103,
   "metadata": {},
   "outputs": [
    {
     "name": "stdout",
     "output_type": "stream",
     "text": [
      "600683.7126256281\n",
      "600683.7126256281\n",
      "[[-0.88568845  0.11990941  0.18170124  0.13959471  0.13267993  0.03747054]\n",
      " [ 0.11990941 -0.85087768  0.06370438  0.20188383  0.2736869   0.15795216]\n",
      " [ 0.18170124  0.06370438 -0.79708659  0.07303351  0.14846175  0.15010286]\n",
      " [ 0.13959471  0.20188383  0.07303351 -0.83153034  0.18120218  0.25804429]\n",
      " [ 0.13267993  0.2736869   0.14846175  0.18120218 -0.94854859  0.18512472]\n",
      " [ 0.03747054  0.15795216  0.15010286  0.25804429  0.18512472 -0.98035299]]\n"
     ]
    },
    {
     "data": {
      "text/plain": [
       "<dca.methods_comparison.symmJPCA at 0x7f51b0238978>"
      ]
     },
     "execution_count": 103,
     "metadata": {},
     "output_type": "execute_result"
    }
   ],
   "source": [
    "j2.fit(y[np.newaxis, :, :])"
   ]
  },
  {
   "cell_type": "code",
   "execution_count": 105,
   "metadata": {},
   "outputs": [
    {
     "data": {
      "text/plain": [
       "array([[-0.88552812,  0.11882086,  0.18173697,  0.13986472,  0.13323338,\n",
       "         0.03880408],\n",
       "       [ 0.11882086, -0.84922727,  0.0639477 ,  0.20271134,  0.2735374 ,\n",
       "         0.15931138],\n",
       "       [ 0.18173697,  0.0639477 , -0.79495712,  0.07417237,  0.14910271,\n",
       "         0.14872604],\n",
       "       [ 0.13986472,  0.20271134,  0.07417237, -0.83148483,  0.17960636,\n",
       "         0.2562409 ],\n",
       "       [ 0.13323338,  0.2735374 ,  0.14910271,  0.17960636, -0.95095882,\n",
       "         0.18737732],\n",
       "       [ 0.03880408,  0.15931138,  0.14872604,  0.2562409 ,  0.18737732,\n",
       "        -0.98271126]])"
      ]
     },
     "execution_count": 105,
     "metadata": {},
     "output_type": "execute_result"
    }
   ],
   "source": [
    "A - np.eye(A.shape[0])"
   ]
  }
 ],
 "metadata": {
  "kernelspec": {
   "display_name": "netcon",
   "language": "python",
   "name": "python3"
  },
  "language_info": {
   "codemirror_mode": {
    "name": "ipython",
    "version": 3
   },
   "file_extension": ".py",
   "mimetype": "text/x-python",
   "name": "python",
   "nbconvert_exporter": "python",
   "pygments_lexer": "ipython3",
   "version": "3.6.13"
  },
  "orig_nbformat": 4
 },
 "nbformat": 4,
 "nbformat_minor": 2
}
